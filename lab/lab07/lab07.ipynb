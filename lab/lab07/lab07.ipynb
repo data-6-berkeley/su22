{
 "cells": [
  {
   "cell_type": "code",
   "execution_count": null,
   "metadata": {
    "deletable": false,
    "editable": false
   },
   "outputs": [],
   "source": [
    "# Initialize Otter\n",
    "import otter\n",
    "grader = otter.Notebook(\"lab07.ipynb\")"
   ]
  },
  {
   "cell_type": "markdown",
   "metadata": {},
   "source": [
    "# Lab 7  - Iteration\n",
    "\n",
    "## Data 6, Summer 2022"
   ]
  },
  {
   "cell_type": "markdown",
   "metadata": {},
   "source": [
    "Welcome back to Lab 7! This week we will be covering content from lectures on **control**, **iteration**, and **strings**.\n",
    "\n",
    "As usual, lab assignments will **not** be turned in, but we will go over them during lab sections and they will be supplemental practice for the weekly homework assignments."
   ]
  },
  {
   "cell_type": "code",
   "execution_count": 1,
   "metadata": {},
   "outputs": [],
   "source": [
    "# Just run this cell\n",
    "from datascience import *\n",
    "import numpy as np"
   ]
  },
  {
   "cell_type": "markdown",
   "metadata": {},
   "source": [
    "# Part 1: Control\n",
    "\n",
    "When writing functions in Python, we may want the function to behave differently depending on the input. We could choose to write several similar functions to accomplish this, but that would require copying and pasting much of the same code over and over again, only making small changes.\n",
    "\n",
    "Instead, we need a way to tell one singular function to execute different code for different inputs. In lecture we discussed this idea as `if-else` statements.\n",
    "\n",
    "Let's look at an example of a function that uses `if-else` statements to tell us what water looks like at different temperatures:\n",
    "\n",
    "<img src='images/water.jpeg' width=300>"
   ]
  },
  {
   "cell_type": "code",
   "execution_count": 2,
   "metadata": {},
   "outputs": [],
   "source": [
    "def state_of_water(temperature):\n",
    "    if temperature <= 32: # Water is solid at and below 32°F\n",
    "        return \"ice\"\n",
    "    elif temperature < 212: # Water is liquid between 32°F and 212°F\n",
    "        return \"liquid\"\n",
    "    else: # Water is gaseous above 212°F\n",
    "        return \"steam\""
   ]
  },
  {
   "cell_type": "markdown",
   "metadata": {},
   "source": [
    "Here, we could have made 3 different functions that each dealt with a different state of water, but that would force us to know the state of water (what we currently do not know and are trying to figure out) so that we could pick the right function to use. This is why control such as `if-else` statements are so important!"
   ]
  },
  {
   "cell_type": "markdown",
   "metadata": {},
   "source": [
    "Now let's use this function to determine the state of water in the following locations during the winter:\n",
    "\n",
    "| **City** | Temperature (°F) |\n",
    "| --- | --- |\n",
    "| Berkeley | 58 |\n",
    "| New York | 24 |\n",
    "| Miami | 78 |\n",
    "| Earth's Core | 10800 |\n",
    "\n",
    "We can see the calculation each city's state of water using the function defined above:"
   ]
  },
  {
   "cell_type": "code",
   "execution_count": 3,
   "metadata": {},
   "outputs": [],
   "source": [
    "print(f\"Water in Berkeley is: {state_of_water(58)}\")"
   ]
  },
  {
   "cell_type": "code",
   "execution_count": 4,
   "metadata": {},
   "outputs": [],
   "source": [
    "print(f\"Water in New York is: {state_of_water(24)}\")"
   ]
  },
  {
   "cell_type": "code",
   "execution_count": 5,
   "metadata": {},
   "outputs": [],
   "source": [
    "print(f\"Water in Miami is: {state_of_water(78)}\")"
   ]
  },
  {
   "cell_type": "code",
   "execution_count": 6,
   "metadata": {},
   "outputs": [],
   "source": [
    "print(f\"Water at the Center of the Earth is: {state_of_water(10800)}\")"
   ]
  },
  {
   "cell_type": "markdown",
   "metadata": {},
   "source": [
    "We can call the function on different inputs and the function deals with each input differently based on the control logic you gave it. This will be very important when you write functions that deal with large, sometimes unpredictable datasets where the logic of your function will deal with inputs you may not have directly prepared the function for."
   ]
  },
  {
   "cell_type": "markdown",
   "metadata": {
    "deletable": false,
    "editable": false
   },
   "source": [
    "# Part 2: Iteration\n",
    "\n",
    "Iteration is the repetition of code. Typically, the variables in iteration change sequentially, and the iteration continues to repeat until a boolean condition indicates that the iteration be stopped. \n",
    "\n",
    "---\n",
    "## Question 1\n",
    "\n",
    "A `for` loop is an example of iteration in Python that we have seen in lecture. Let's use a `for` loop to write a function that finds the sum of the digits of a number.\n",
    "\n",
    "As an example, the sum of the digits of the number 123 is 1 + 2 + 3 = 6, so `sum_digits(123)` should return 6.\n",
    "\n",
    "**Some ideas you may want to keep in mind**:\n",
    "- How can we 'peel off' a digit of a number? Consider using typecasting for this question. \n",
    "- Once we know how to do that, how can we do that repeatedly to all digits?\n",
    "\n",
    "<!--\n",
    "BEGIN QUESTION\n",
    "name: q1\n",
    "points: 0\n",
    "-->"
   ]
  },
  {
   "cell_type": "code",
   "execution_count": 7,
   "metadata": {},
   "outputs": [],
   "source": [
    "def sum_digits(n):\n",
    "    ..."
   ]
  },
  {
   "cell_type": "code",
   "execution_count": null,
   "metadata": {
    "deletable": false,
    "editable": false
   },
   "outputs": [],
   "source": [
    "grader.check(\"q1\")"
   ]
  },
  {
   "cell_type": "markdown",
   "metadata": {},
   "source": [
    "# Part 3: Strings\n",
    "\n",
    "We have already seen strings before in this course, but we want to introduce some new ideas with strings that will be very useful when dealing with data from real-world data sets.\n",
    "\n",
    "Strings can be viewed as special lists of characters. They can be printed, sliced, indexed, and more! You can do all of these things with lists as well, so let's take a look at how strings and lists are similar:"
   ]
  },
  {
   "cell_type": "code",
   "execution_count": 12,
   "metadata": {},
   "outputs": [],
   "source": [
    "our_string = \"Data Science at Berkeley rocks!\"\n",
    "print(our_string)\n",
    "print(our_string[0] + our_string[5] + \"@\" + our_string[16:24])"
   ]
  },
  {
   "cell_type": "markdown",
   "metadata": {},
   "source": [
    "We can iterate and slice strings too! In this way, strings are like special arrays.\n",
    "\n",
    "There is an important fact to point out here: In Python,  `strings` are **immutable**. This means that you are not able to mutate (i.e. change) a string object in place. If you want to modify your string, you'll have to make an entirely new one."
   ]
  },
  {
   "cell_type": "code",
   "execution_count": 13,
   "metadata": {},
   "outputs": [],
   "source": [
    "our_string"
   ]
  },
  {
   "cell_type": "code",
   "execution_count": 14,
   "metadata": {
    "tags": [
     "raises-exception"
    ]
   },
   "outputs": [],
   "source": [
    "# However you cannot do this with strings because they are immutable.\n",
    "# This will be important when we talk about cleaning data sets before we can use them.\n",
    "our_string[3] = 'x'"
   ]
  },
  {
   "cell_type": "markdown",
   "metadata": {},
   "source": [
    "There are special string methods that help us edit strings, but we cannot forcefully change them with indexing or slicing. If you want to change a letter or a part of a string, you need to use those `str` methods from lecture."
   ]
  },
  {
   "cell_type": "markdown",
   "metadata": {
    "deletable": false,
    "editable": false
   },
   "source": [
    "---\n",
    "## Question 2\n",
    "\n",
    "Let's use this idea of array and string indexing and `if/else` to find all words that begin with a vowel. Complete the function `starts_with_vowels` so that it takes an array of strings, finds all of the words that begin with a vowel, and then returns an array of said words.\n",
    "\n",
    "For the example array, `some_words`, your function should return `array(['alligator', 'aardvark', 'owl', 'unicorn'])`.\n",
    "\n",
    "*Hint*: You'll need to use the `np.append` function, the documentation for which you can find [here](\"https://numpy.org/doc/stable/reference/generated/numpy.append.html\").\n",
    "<!--\n",
    "BEGIN QUESTION\n",
    "name: q2\n",
    "points: 0\n",
    "-->"
   ]
  },
  {
   "cell_type": "code",
   "execution_count": 15,
   "metadata": {},
   "outputs": [],
   "source": [
    "some_words = make_array(\"alligator\", \"monkey\", \"zebra\", \"lion\", \"aardvark\", \"owl\", \"bear\", \"unicorn\")\n",
    "\n",
    "def starts_with_vowels(words):\n",
    "    words_to_keep = make_array()\n",
    "    for ... in ...:\n",
    "        if ... in \"aeiou\":\n",
    "            ...\n",
    "starts_with_vowels(some_words)"
   ]
  },
  {
   "cell_type": "code",
   "execution_count": null,
   "metadata": {
    "deletable": false,
    "editable": false
   },
   "outputs": [],
   "source": [
    "grader.check(\"q2\")"
   ]
  },
  {
   "cell_type": "markdown",
   "metadata": {},
   "source": [
    "---\n",
    "## Question 3\n",
    "\n",
    "Let's write a function that uses another `for` loop. We want to be able to find the acronym of a name. For example, we want to be able to call **The University of California, Berkeley** by an abbreviated `UCB`.\n",
    "\n",
    "Because we don't care as much about small words even if they are capitalized, also make sure to **exclude words with three letters or fewer from your acronym**. That is why the `T` in `The` is not included in the example acronym above.\n",
    "\n",
    "Write a function that takes in a string and returns its acronym.\n",
    "\n",
    "_Hint_: the string method `.isupper()` will return `True` if the given string (or character) is entirely upper case, and `False` otherwise."
   ]
  },
  {
   "cell_type": "code",
   "execution_count": 19,
   "metadata": {},
   "outputs": [],
   "source": [
    "# Here is a cell that explains the str.split() function used in the solution below:\n",
    "sentence = \"Hello, I am a student in Data 6!\"\n",
    "sentence.split()"
   ]
  },
  {
   "cell_type": "code",
   "execution_count": 20,
   "metadata": {},
   "outputs": [],
   "source": [
    "def acronym(title):\n",
    "    # This str.split() function mentioned above turns a string into a list of its words.\n",
    "    words = title.split()\n",
    "    result = \"\"\n",
    "    ...\n",
    "    return result\n",
    "\n",
    "acronym(\"The University of Califiornia, Berkeley\")"
   ]
  },
  {
   "cell_type": "code",
   "execution_count": null,
   "metadata": {
    "deletable": false,
    "editable": false
   },
   "outputs": [],
   "source": [
    "grader.check(\"q3\")"
   ]
  },
  {
   "cell_type": "markdown",
   "metadata": {},
   "source": [
    "## Done! 😇\n",
    "\n",
    "That's it! There's nowhere for you to submit this, as labs are not assignments. However, please ask any questions you have with this notebook in lab or on Ed.\n",
    "\n",
    "Disregard the section below, **you do not need to submit anything for this or any other lab**."
   ]
  },
  {
   "cell_type": "markdown",
   "metadata": {
    "deletable": false,
    "editable": false
   },
   "source": [
    "---\n",
    "\n",
    "To double-check your work, the cell below will rerun all of the autograder tests."
   ]
  },
  {
   "cell_type": "code",
   "execution_count": null,
   "metadata": {
    "deletable": false,
    "editable": false
   },
   "outputs": [],
   "source": [
    "grader.check_all()"
   ]
  },
  {
   "cell_type": "markdown",
   "metadata": {
    "deletable": false,
    "editable": false
   },
   "source": [
    "## Submission\n",
    "\n",
    "Make sure you have run all cells in your notebook in order before running the cell below, so that all images/graphs appear in the output. The cell below will generate a zip file for you to submit. **Please save before exporting!**"
   ]
  },
  {
   "cell_type": "code",
   "execution_count": null,
   "metadata": {
    "deletable": false,
    "editable": false
   },
   "outputs": [],
   "source": [
    "# Save your notebook first, then run this cell to export your submission.\n",
    "grader.export(pdf=False)"
   ]
  },
  {
   "cell_type": "markdown",
   "metadata": {},
   "source": [
    " "
   ]
  }
 ],
 "metadata": {
  "celltoolbar": "Edit Metadata",
  "kernelspec": {
   "display_name": "Python 3 (ipykernel)",
   "language": "python",
   "name": "python3"
  },
  "language_info": {
   "codemirror_mode": {
    "name": "ipython",
    "version": 3
   },
   "file_extension": ".py",
   "mimetype": "text/x-python",
   "name": "python",
   "nbconvert_exporter": "python",
   "pygments_lexer": "ipython3",
   "version": "3.9.11"
  }
 },
 "nbformat": 4,
 "nbformat_minor": 4
}
