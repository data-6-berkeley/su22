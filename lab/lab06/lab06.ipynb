{
 "cells": [
  {
   "cell_type": "code",
   "execution_count": null,
   "metadata": {
    "deletable": false,
    "editable": false
   },
   "outputs": [],
   "source": [
    "# Initialize Otter\n",
    "import otter\n",
    "grader = otter.Notebook(\"lab06.ipynb\")"
   ]
  },
  {
   "cell_type": "markdown",
   "metadata": {},
   "source": [
    "# Lab 6 - Functions and Control\n",
    "\n",
    "## Data 6, Summer 2022"
   ]
  },
  {
   "cell_type": "markdown",
   "metadata": {},
   "source": [
    "Welcome to lab 6! This week we will be covering boolean operators and functions.\n",
    "\n",
    "As usual, lab assignments will **not** be turned in, but we will go over them during lab sections and they will be supplemental practice for the weekly homework assignments. **We highly recommend you collaborate with your classmates and ask questions!**"
   ]
  },
  {
   "cell_type": "code",
   "execution_count": 1,
   "metadata": {},
   "outputs": [],
   "source": [
    "# Just run this cell\n",
    "from datascience import *\n",
    "\n",
    "import warnings\n",
    "warnings.simplefilter('ignore')"
   ]
  },
  {
   "cell_type": "markdown",
   "metadata": {},
   "source": [
    "\n",
    "\n",
    "# Boolean Operators"
   ]
  },
  {
   "cell_type": "markdown",
   "metadata": {},
   "source": [
    "---\n",
    "\n",
    "## Comparison Operators\n",
    "\n",
    "Comparison operators are boolean operators that are used to compare two different values in Python.\n",
    "\n",
    "We introduced six of these operators in lecture: `==`, `!=`,`<`, `<=`, `>`, and `>=`. Try using these operators on variables and values of all types, though in practice they are typically used with integers and floats, and sometimes on strings. Strings are treated in increasing alphabetical order: ('a' < 'b') == True.\n",
    "\n",
    "Run the following series of cells to see some examples of these comparison operators in practice:"
   ]
  },
  {
   "cell_type": "code",
   "execution_count": 2,
   "metadata": {},
   "outputs": [],
   "source": [
    "1 < 2"
   ]
  },
  {
   "cell_type": "code",
   "execution_count": 3,
   "metadata": {},
   "outputs": [],
   "source": [
    "min(20, 30) <= max(-10, 20)"
   ]
  },
  {
   "cell_type": "code",
   "execution_count": 4,
   "metadata": {},
   "outputs": [],
   "source": [
    "(3 + 4) != (3 * 4)"
   ]
  },
  {
   "cell_type": "code",
   "execution_count": 5,
   "metadata": {},
   "outputs": [],
   "source": [
    "\"abc\" < \"def\""
   ]
  },
  {
   "cell_type": "markdown",
   "metadata": {},
   "source": [
    "### An Important Distinction\n",
    "\n",
    "There is an important distinction here between `=` and `==`:\n",
    "\n",
    ">`=` is used to **set** a Python name (i.e. assignment), while `==` is used as the **comparison operator** to compare two values. "
   ]
  },
  {
   "cell_type": "code",
   "execution_count": 6,
   "metadata": {},
   "outputs": [],
   "source": [
    "# Set the name 'a' to have value 5\n",
    "a = 5"
   ]
  },
  {
   "cell_type": "code",
   "execution_count": 7,
   "metadata": {},
   "outputs": [],
   "source": [
    "# Ask if it is equal to the value you think it should be\n",
    "a == 5"
   ]
  },
  {
   "cell_type": "markdown",
   "metadata": {},
   "source": [
    "## Membership Operators: `in`\n",
    "There is one more boolean operator built into Python we have not mentioned yet. The keyword `in` allows you to check if strings are contained in larger strings. It can be used in other ways in Python, but for now we will use it to ask if the first string is a substring of the second string (if it appears in the other string).\n",
    "\n",
    "Run the cells below for examples of `in`:"
   ]
  },
  {
   "cell_type": "code",
   "execution_count": 8,
   "metadata": {},
   "outputs": [],
   "source": [
    "\"hello\" in \"hello world\""
   ]
  },
  {
   "cell_type": "code",
   "execution_count": 9,
   "metadata": {},
   "outputs": [],
   "source": [
    "\"i\" in \"rhythm\""
   ]
  },
  {
   "cell_type": "markdown",
   "metadata": {},
   "source": [
    "The `in` keyword can also check whether an array *contains* a certain element. `True` is returned if the array contains the element, and `False` otherwise."
   ]
  },
  {
   "cell_type": "code",
   "execution_count": 10,
   "metadata": {},
   "outputs": [],
   "source": [
    "my_array = make_array(3,2,5,6)\n",
    "5 in my_array"
   ]
  },
  {
   "cell_type": "code",
   "execution_count": 11,
   "metadata": {},
   "outputs": [],
   "source": [
    "9 in my_array"
   ]
  },
  {
   "cell_type": "markdown",
   "metadata": {},
   "source": [
    "## Boolean Operators: `and`, `or`, and `not`\n",
    "\n",
    "`and`, `or`, and `not` are boolean operators that operate directly on booleans.\n",
    "\n",
    ">`and` returns `True` when both operands are `True`, `False` otherwise.\n",
    "\n",
    ">`or` returns `False` when both operands are `False`, `True` otherwise.\n",
    "\n",
    ">`not` gives back the opposite boolean.\n",
    "\n",
    "These three operators are useful when writing functions because they help control a function's logic. You will find them useful when writing more complicated functions in the course.\n",
    "\n",
    "**Tip**: use parentheses to ensure your boolean operators are being applied correctly and without ambiguity.\n",
    "\n",
    "Run the cells below to see these 3 operators in practice:"
   ]
  },
  {
   "cell_type": "code",
   "execution_count": 12,
   "metadata": {},
   "outputs": [],
   "source": [
    "(3 * 4 == 12) or (3 + 4 == 50)"
   ]
  },
  {
   "cell_type": "code",
   "execution_count": 13,
   "metadata": {},
   "outputs": [],
   "source": [
    "(3 * 4 == 12) and (3 + 4 == 50)"
   ]
  },
  {
   "cell_type": "code",
   "execution_count": 14,
   "metadata": {},
   "outputs": [],
   "source": [
    "not (3 + 4 == 50)"
   ]
  },
  {
   "cell_type": "markdown",
   "metadata": {
    "deletable": false,
    "editable": false
   },
   "source": [
    "---\n",
    "### Question 1\n",
    "\n",
    "Write code that assigns `x_satisfies` to `True` or `False` depending on if the value of `x` satisfies *either* of the following conditions:\n",
    "1. Even and has a value in the range 24 and 32 (inclusive)\n",
    "2. Odd and has a value between 7 and 20 (exclusive). \n",
    "\n",
    "For this question, `x` will be assigned to `26`.\n",
    "\n",
    "*Hint*: You should try using the modulo operator (%) to help check if a value is odd or even! The `%` operator will provide you with the *remainder* after diving by a certain number\n",
    "\n",
    "<!--\n",
    "BEGIN QUESTION\n",
    "name: q1\n",
    "points: 0\n",
    "-->"
   ]
  },
  {
   "cell_type": "code",
   "execution_count": 15,
   "metadata": {},
   "outputs": [],
   "source": [
    "x = 26\n",
    "x_satifies = ...\n",
    "x_satifies"
   ]
  },
  {
   "cell_type": "code",
   "execution_count": null,
   "metadata": {
    "deletable": false,
    "editable": false
   },
   "outputs": [],
   "source": [
    "grader.check(\"q1\")"
   ]
  },
  {
   "cell_type": "markdown",
   "metadata": {},
   "source": [
    "---\n",
    "# Functions\n",
    "\n",
    "Functions allow us to combine the topics we have discussed so far in the course. Writing functions is useful when we want to use the same code repeatedly without wanting to write it out each and every time. You can think of functions like names -- they store lines of code instead of Python values, and they can be used when you need them.\n",
    "\n",
    "Below is an example of a Python function that doubles its input:"
   ]
  },
  {
   "cell_type": "code",
   "execution_count": 18,
   "metadata": {},
   "outputs": [],
   "source": [
    "def double(x):\n",
    "    return 2 * x"
   ]
  },
  {
   "cell_type": "markdown",
   "metadata": {},
   "source": [
    "Let's break down the different parts of this function:\n",
    "- The `def` at the beginning tells Python that we are making a new function.\n",
    "- The blue `double` text is the name of our function. If we want to use this function, we will call it using this name.\n",
    "- The `x` inside the parentheses is the input variable, otherwise known as a function's domain. A function can have as many input variables as you need, as long as they have different names.\n",
    "- The `:` indicates we are done defining our function's name and input variables.\n",
    "- All lines after this `def` line are **indented** to indicate we are is what we call the **body** of the function.\n",
    "    - You can have as many lines as you want in your functions, but in this case we only have 1.\n",
    "- The `return` keyword indicates we want to output the following evaluated Python expression. In our case, we want to multiply our input variable by 2.\n",
    "\n",
    "Let's see what happens when we use our function:"
   ]
  },
  {
   "cell_type": "code",
   "execution_count": 19,
   "metadata": {},
   "outputs": [],
   "source": [
    "answer = double(5)\n",
    "# We expect the value of this 'answer' variable to be 10 as long as our function is working correctly\n",
    "answer"
   ]
  },
  {
   "cell_type": "markdown",
   "metadata": {},
   "source": [
    "We can also call values that are assigned **outside** of the function, including other pre-existing functions or variables, **inside** a new function that we define.\n",
    "\n",
    "However, any variable that we assign **inside** (also known as a \"local\" variable) cannot be called **outside** of the function, because it only exists in the function.\n",
    "\n",
    "For example, using an outside variable inside a function:"
   ]
  },
  {
   "cell_type": "code",
   "execution_count": 20,
   "metadata": {},
   "outputs": [],
   "source": [
    "outside_value = \"Hello, \"\n",
    "\n",
    "def greeting(place):\n",
    "    return outside_value + place"
   ]
  },
  {
   "cell_type": "code",
   "execution_count": 21,
   "metadata": {},
   "outputs": [],
   "source": [
    "greeting(\"World!\")"
   ]
  },
  {
   "cell_type": "code",
   "execution_count": 22,
   "metadata": {},
   "outputs": [],
   "source": [
    "def age_diff(birthday):\n",
    "    \"\"\" This is called a docstring. This explains what the function does:\n",
    "    Return the absolute value of the difference in ages from Cora and someone else.\"\"\"\n",
    "    cora_year = 2012\n",
    "    return abs(birthday - cora_year)"
   ]
  },
  {
   "cell_type": "code",
   "execution_count": 23,
   "metadata": {
    "tags": [
     "raises-exception"
    ]
   },
   "outputs": [],
   "source": [
    "# Notice that, because cora_year exsits in the function, we cannot get it outside of the function\n",
    "cora_year"
   ]
  },
  {
   "cell_type": "markdown",
   "metadata": {
    "deletable": false,
    "editable": false
   },
   "source": [
    "---\n",
    "### Question 2\n",
    "\n",
    "Complete the function `triple_double`, so that it uses the function `double` we used earlier to double an input. Then, take that doubled input and triple it and return the triple-doubled value. \n",
    "\n",
    "For example: if we called `triple_double(2)`, the input 2 should be doubled to 4, and then tripled to 12. The function would then output 12.  \n",
    "\n",
    "<!--\n",
    "BEGIN QUESTION\n",
    "name: q2\n",
    "points: 0\n",
    "-->"
   ]
  },
  {
   "cell_type": "code",
   "execution_count": 24,
   "metadata": {},
   "outputs": [],
   "source": [
    "def triple_double(x):\n",
    "    ..."
   ]
  },
  {
   "cell_type": "code",
   "execution_count": null,
   "metadata": {
    "deletable": false,
    "editable": false
   },
   "outputs": [],
   "source": [
    "grader.check(\"q2\")"
   ]
  },
  {
   "cell_type": "markdown",
   "metadata": {},
   "source": [
    "---\n",
    "### Should I Stay or Should I Go\n",
    "Now let's take a look at a function that uses **variables** and **boolean operators**:\n",
    "\n",
    "Based on the color of the stoplight in front of us we want to know whether we should stop or keep going. Because we know we are going to encounter many lights on our trip, we should write a function! We can make two functions: one where we take risks and go on yellow lights, and one where we play it safe and stop for yellow lights"
   ]
  },
  {
   "cell_type": "code",
   "execution_count": 28,
   "metadata": {},
   "outputs": [],
   "source": [
    "def stop_or_go_risky(light):\n",
    "    green = (light == 'green')\n",
    "    yellow = (light == 'yellow')\n",
    "    red = (light == 'red')\n",
    "    return (green or yellow) and (not red) # Go on green and yellow, stop on red\n",
    "\n",
    "def stop_or_go_safe(light):\n",
    "    green = (light == 'green')\n",
    "    yellow = (light == 'yellow')\n",
    "    red = (light == 'red')\n",
    "    return green and ((not yellow) and (not red)) # Go on green, stop on yellow and red"
   ]
  },
  {
   "cell_type": "markdown",
   "metadata": {},
   "source": [
    "These functions are booleans because they output either True or False. We can write functions that output any type we need, and you will do so throughout the course!"
   ]
  },
  {
   "cell_type": "markdown",
   "metadata": {},
   "source": [
    "Run the following cell as a demo:"
   ]
  },
  {
   "cell_type": "code",
   "execution_count": 29,
   "metadata": {},
   "outputs": [],
   "source": [
    "#We can use the outputs of these functions to let us know to stop the car if we need to on our way to the market.\n",
    "\n",
    "light1 = stop_or_go_safe('green')\n",
    "light2 = stop_or_go_safe('yellow')\n",
    "light3 = stop_or_go_safe('red')\n",
    "\n",
    "print(\"I am driving to the market! No rush!\")\n",
    "print(\"\") # This is the same as hitting the return key while typing in Google Docs\n",
    "print(\"Should I go at a green light?... \" + str(light1))\n",
    "print(\"Should I go at a yellow light?... \" + str(light2))\n",
    "print(\"Should I go at a red light?... \" + str(light3))\n",
    "print(\"\")\n",
    "\n",
    "#But if we find out we are running late, we may want to take more risks.\n",
    "print(\"Oh no! I'm running late!\")\n",
    "print(\"\")\n",
    "\n",
    "light4 = stop_or_go_risky('green')\n",
    "light5 = stop_or_go_risky('yellow')\n",
    "light6 = stop_or_go_risky('red')\n",
    "\n",
    "print(\"Should I go at a green light?... \" + str(light4))\n",
    "print(\"Should I go at a yellow light?... \" + str(light5))\n",
    "print(\"Should I go at a red light?... \" + str(light6))"
   ]
  },
  {
   "cell_type": "markdown",
   "metadata": {
    "deletable": false,
    "editable": false
   },
   "source": [
    "---\n",
    "### Question 3: Hailstone\n",
    "\n",
    "The Hailstone sequence from Hofstadter is as follows:\n",
    "1. Pick a positive integer n as the start value.\n",
    "2. If n is even, divide it by 2.\n",
    "3. If n is odd, multiply it by 3 and add 1.\n",
    "4. If you continue this process, n will eventually reach 1. \n",
    "\n",
    "Based on what you learned today, write a function that uses if/else statements to do **one step** of the hailstone sequence. It should take in an integer n and then return the corresponding Hailstone number for that value. For example, `hailstone(10)` should return 5 and `hailstone(9)` should return 28. \n",
    "\n",
    "<!--\n",
    "BEGIN QUESTION\n",
    "name: q3\n",
    "points: 0\n",
    "-->"
   ]
  },
  {
   "cell_type": "code",
   "execution_count": 30,
   "metadata": {},
   "outputs": [],
   "source": [
    "def hailstone(n):\n",
    "    if ...:\n",
    "        ...\n",
    "    else:"
   ]
  },
  {
   "cell_type": "code",
   "execution_count": null,
   "metadata": {
    "deletable": false,
    "editable": false
   },
   "outputs": [],
   "source": [
    "grader.check(\"q3\")"
   ]
  },
  {
   "cell_type": "code",
   "execution_count": 35,
   "metadata": {},
   "outputs": [],
   "source": [
    "# Run this cell to see the Hailstone sequence in action!\n",
    "print(\"Starting value: 10\")\n",
    "n1 = hailstone(10)\n",
    "print(\"Step 1:\", n1)\n",
    "n2 = hailstone(n1)\n",
    "print(\"Step 2:\", n2)\n",
    "n3 = hailstone(n2)\n",
    "print(\"Step 3:\", n3)\n",
    "n4 = hailstone(n3)\n",
    "print(\"Step 4:\", n4)\n",
    "n5 = hailstone(n4)\n",
    "print(\"Step 5:\", n5)\n",
    "n6 = hailstone(n5)\n",
    "print(\"Step 6:\", n6)"
   ]
  },
  {
   "cell_type": "markdown",
   "metadata": {},
   "source": [
    "## Done! 😇\n",
    "\n",
    "That's it! There's nowhere for you to submit this, as labs are not assignments. However, please ask any questions you have with this notebook in lab or on Ed."
   ]
  },
  {
   "cell_type": "markdown",
   "metadata": {
    "deletable": false,
    "editable": false
   },
   "source": [
    "---\n",
    "\n",
    "To double-check your work, the cell below will rerun all of the autograder tests."
   ]
  },
  {
   "cell_type": "code",
   "execution_count": null,
   "metadata": {
    "deletable": false,
    "editable": false
   },
   "outputs": [],
   "source": [
    "grader.check_all()"
   ]
  },
  {
   "cell_type": "markdown",
   "metadata": {
    "deletable": false,
    "editable": false
   },
   "source": [
    "## Submission\n",
    "\n",
    "Make sure you have run all cells in your notebook in order before running the cell below, so that all images/graphs appear in the output. The cell below will generate a zip file for you to submit. **Please save before exporting!**"
   ]
  },
  {
   "cell_type": "code",
   "execution_count": null,
   "metadata": {
    "deletable": false,
    "editable": false
   },
   "outputs": [],
   "source": [
    "# Save your notebook first, then run this cell to export your submission.\n",
    "grader.export(pdf=False)"
   ]
  },
  {
   "cell_type": "markdown",
   "metadata": {},
   "source": [
    " "
   ]
  }
 ],
 "metadata": {
  "kernelspec": {
   "display_name": "Python 3 (ipykernel)",
   "language": "python",
   "name": "python3"
  },
  "language_info": {
   "codemirror_mode": {
    "name": "ipython",
    "version": 3
   },
   "file_extension": ".py",
   "mimetype": "text/x-python",
   "name": "python",
   "nbconvert_exporter": "python",
   "pygments_lexer": "ipython3",
   "version": "3.9.11"
  }
 },
 "nbformat": 4,
 "nbformat_minor": 4
}
