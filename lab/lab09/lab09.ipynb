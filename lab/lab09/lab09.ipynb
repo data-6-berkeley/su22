{
 "cells": [
  {
   "cell_type": "code",
   "execution_count": null,
   "metadata": {
    "deletable": false,
    "editable": false
   },
   "outputs": [],
   "source": [
    "# Initialize Otter\n",
    "import otter\n",
    "grader = otter.Notebook(\"lab09.ipynb\")"
   ]
  },
  {
   "cell_type": "markdown",
   "metadata": {},
   "source": [
    "# Lab 9 - Dictionaries"
   ]
  },
  {
   "cell_type": "code",
   "execution_count": null,
   "metadata": {},
   "outputs": [],
   "source": [
    "# Just run this cell to load in the relevant dependencies\n",
    "from datascience import *\n",
    "import numpy as np"
   ]
  },
  {
   "cell_type": "markdown",
   "metadata": {},
   "source": [
    "\n",
    "## Dictionaries\n",
    "\n",
    "In this lab, we'll be taking a deep dive into a new Python data structure: **dictionaries**. While other data types we've seen in this class are quite useful in many ways, dictionaries have a special purpose.\n",
    "\n",
    "<img src='images/dictionary.png' width=300>\n",
    "\n",
    "**Dictionaries** can be very useful. They store key/value pairs that can be used to map one value to another. You can think of a dictionary as a list where the indexes (locations) of the values of the list are no longer their integer locations, but rather their keys.\n",
    "\n",
    ">In an array, you access the first item with `my_array.item(0)`.\n",
    "\n",
    ">In a dictionary, you access the \"key-th\" item with `my_dictionary[key]`.\n",
    "\n",
    "If we think of list items as having their \"address\" be their location in the list, then a dictionary value's \"address\" is its key.\n",
    "\n",
    "Some important properties of dictionaries to note:\n",
    "- The key and value **do not** have to be of the same type\n",
    "- We designate a new key/value entry in a dictionary in this format: *key* **:** *value*\n",
    "- We store all these key/value entries in a dictionaries with braces `{}` around the ends (like `[]` with a list) and commas separating the entries\n",
    "    - `new_dictionary` = {\"a\": 100, \"b\": 200, \"c\": 300}\n",
    "    \n",
    "Let's take a closer look at a dictionary in practice:"
   ]
  },
  {
   "cell_type": "code",
   "execution_count": null,
   "metadata": {},
   "outputs": [],
   "source": [
    "my_dictionary = {\"a\": 100, \"b\": 200, \"c\": 300}\n",
    "print(\"The value 'a' maps to the value:\", my_dictionary[\"a\"])\n",
    "print(\"The value 'b' maps to the value:\", my_dictionary[\"b\"])\n",
    "print(\"The value 'c' maps to the value:\", my_dictionary[\"c\"])"
   ]
  },
  {
   "cell_type": "markdown",
   "metadata": {},
   "source": [
    "### How to Access the Data\n",
    "\n",
    "We can't access a dictionary's values like we can access a list's values. If we want the \"first\" item in a dictionary, we cannot ask for `my_dictionary[0]`, because this request is really asking \"What does the key 0 map to in this dictionary?\". If your dictionary does not have a value associated with the key 0, you will get an error."
   ]
  },
  {
   "cell_type": "code",
   "execution_count": null,
   "metadata": {
    "tags": [
     "raises-exception"
    ]
   },
   "outputs": [],
   "source": [
    "my_dictionary[0]"
   ]
  },
  {
   "cell_type": "markdown",
   "metadata": {},
   "source": [
    "A `KeyError` warning means that you asked for a key that is not in your dictionary. This may happen when you are writing a function with a dictionary, so if you see it, this is what it means."
   ]
  },
  {
   "cell_type": "markdown",
   "metadata": {},
   "source": [
    "### Changing the Data\n",
    "\n",
    "We can add the key value pair `(key, value)` with the following syntax:\n",
    "\n",
    "> `my_dictionary[key] = value`\n",
    "\n",
    "Run the cell below to change the `\"d\"` entry of the dictionary to 400:"
   ]
  },
  {
   "cell_type": "code",
   "execution_count": null,
   "metadata": {},
   "outputs": [],
   "source": [
    "my_dictionary[\"d\"] = 400 # Add the key/value pair (\"d\", 400) to our dictionary\n",
    "my_dictionary"
   ]
  },
  {
   "cell_type": "markdown",
   "metadata": {},
   "source": [
    "We can use **any** data type we know as a value in a dictionary..."
   ]
  },
  {
   "cell_type": "code",
   "execution_count": null,
   "metadata": {},
   "outputs": [],
   "source": [
    "# Here, the value we add is a list!\n",
    "my_dictionary[\"grocery list\"] = make_array(\"apples\", \"bananas\", \"carrots\")\n",
    "my_dictionary"
   ]
  },
  {
   "cell_type": "markdown",
   "metadata": {},
   "source": [
    "...including even having a **dictionary itself** as a value! "
   ]
  },
  {
   "cell_type": "code",
   "execution_count": null,
   "metadata": {},
   "outputs": [],
   "source": [
    "my_dictionary[\"squares\"] = {1: 1, 2: 4, 3: 9, 4: 16}\n",
    "my_dictionary"
   ]
  },
  {
   "cell_type": "markdown",
   "metadata": {},
   "source": [
    "### Dictionary Iteration\n",
    "\n",
    "We can get a list of a dictionary's keys with the `.keys()` function."
   ]
  },
  {
   "cell_type": "code",
   "execution_count": null,
   "metadata": {},
   "outputs": [],
   "source": [
    "my_keys = my_dictionary.keys()\n",
    "my_keys"
   ]
  },
  {
   "cell_type": "code",
   "execution_count": null,
   "metadata": {},
   "outputs": [],
   "source": [
    "# Note the type of this list of keys\n",
    "type(my_keys)"
   ]
  },
  {
   "cell_type": "markdown",
   "metadata": {},
   "source": [
    "To iterate over the keys in a dictionary, we can use a `for` loop!"
   ]
  },
  {
   "cell_type": "code",
   "execution_count": null,
   "metadata": {},
   "outputs": [],
   "source": [
    "for key in my_dictionary:\n",
    "    print(\"I am a key, and my name is:\", key)"
   ]
  },
  {
   "cell_type": "markdown",
   "metadata": {},
   "source": [
    "We can also get a list of a dictionary's values with the `.values()` function."
   ]
  },
  {
   "cell_type": "code",
   "execution_count": null,
   "metadata": {},
   "outputs": [],
   "source": [
    "my_values = my_dictionary.values()\n",
    "my_values"
   ]
  },
  {
   "cell_type": "markdown",
   "metadata": {},
   "source": [
    "We can iterate over the values of a dictionary like this:"
   ]
  },
  {
   "cell_type": "code",
   "execution_count": null,
   "metadata": {},
   "outputs": [],
   "source": [
    "for value in list(my_dictionary.values()):\n",
    "    print(\"I am a value, and my name is:\", value)"
   ]
  },
  {
   "cell_type": "markdown",
   "metadata": {},
   "source": [
    "We can use this to do cool things like change all the values in a dictionary!"
   ]
  },
  {
   "cell_type": "code",
   "execution_count": null,
   "metadata": {},
   "outputs": [],
   "source": [
    "def add_one_to_dictionary_values(dictionary):\n",
    "    for key in dictionary:\n",
    "        dictionary[key] = dictionary[key] + 1\n",
    "    return dictionary\n",
    "\n",
    "new_dictionary = {\"data\": 6, \"cs\": 61, \"poli sci\": 1}\n",
    "modified_dictionary = add_one_to_dictionary_values(new_dictionary)\n",
    "modified_dictionary"
   ]
  },
  {
   "cell_type": "markdown",
   "metadata": {
    "deletable": false,
    "editable": false
   },
   "source": [
    "---\n",
    "## Question 1\n",
    "\n",
    "Let's try writing a function that uses a dictionary that can help us make up a whole new language so we can communicate in secret with our friends! We want to convert all of our text messages to our new language, which we call *Fake-lish*.\n",
    "\n",
    "*Fake-lish* converts all letters in a message to another letter. We make a dictionary that maps every letter to another letter, which makes our message impossible to read for anyone other than other people who have the *Fake-lish* dictionary!\n",
    "\n",
    "Spaces should be preserved by this function, so leave spaces as spaces when we convert the message to *Fake-lish*.\n",
    "\n",
    "Your function below should find each non white-space (i.e. \" \") character in `text`, use it as a key to find its corresponding value in `fake_lish_dictionary`, and then use those values to build a new word in Fake-lish. \n",
    "\n",
    "<!--\n",
    "BEGIN QUESTION\n",
    "name: q1\n",
    "points: 0\n",
    "-->"
   ]
  },
  {
   "cell_type": "code",
   "execution_count": null,
   "metadata": {},
   "outputs": [],
   "source": [
    "def fake_lish(text, fake_lish_dictionary):\n",
    "    output_text = ...\n",
    "    for letter in text:\n",
    "        if letter != \" \":\n",
    "            converted_letter = ...\n",
    "            output_text = output_text + converted_letter\n",
    "        else:\n",
    "            output_text = output_text + \" \"\n",
    "    return output_text\n",
    "\n",
    "# This is the fake-lish dictionary we will use for this question\n",
    "# You do not need to know how this works, and you do not need to touch it\n",
    "fld = {}\n",
    "for char in list(map(chr, range(97,123))):\n",
    "    fld[char] = chr((ord(char) - 97 + 13) % 26 + 97)\n",
    "fld"
   ]
  },
  {
   "cell_type": "code",
   "execution_count": null,
   "metadata": {
    "deletable": false,
    "editable": false
   },
   "outputs": [],
   "source": [
    "grader.check(\"q1\")"
   ]
  },
  {
   "cell_type": "markdown",
   "metadata": {},
   "source": [
    "### Using Our Function\n",
    "\n",
    "Now we can use this function to send messages that nobody will understand (unless they crack our code...)!"
   ]
  },
  {
   "cell_type": "code",
   "execution_count": null,
   "metadata": {},
   "outputs": [],
   "source": [
    "fake_lish(\"hello world\", fld)"
   ]
  },
  {
   "cell_type": "code",
   "execution_count": null,
   "metadata": {},
   "outputs": [],
   "source": [
    "fake_lish(\"i am speaking in secret hehe\", fld)"
   ]
  },
  {
   "cell_type": "markdown",
   "metadata": {},
   "source": [
    "Just a cool property of the dictionary we chose to use, look what happens when we encrypt one of our messages... we can use the function again to *decrypt* the messages too!"
   ]
  },
  {
   "cell_type": "code",
   "execution_count": null,
   "metadata": {},
   "outputs": [],
   "source": [
    "fake_lish(\"hello can you hear me\", fld)"
   ]
  },
  {
   "cell_type": "code",
   "execution_count": null,
   "metadata": {},
   "outputs": [],
   "source": [
    "fake_lish(\"uryyb pna lbh urne zr\", fld)"
   ]
  },
  {
   "cell_type": "markdown",
   "metadata": {},
   "source": [
    "Now we can talk in secret! See **Question 3** to see how this can be useful in a cool way!"
   ]
  },
  {
   "cell_type": "markdown",
   "metadata": {},
   "source": [
    "---\n",
    "\n",
    "## Question 2\n",
    "\n",
    "In this problem, we will be using dictionaries to implement a login system. For **new accounts**, we **create** a new username with the password given, and for **existing accounts**, we **log in** if the password given matches the correct password for the given username. If a user tries to make an account with a username that **already exists**, we **do not** allow them to make that new account, and if the password **does not** match the username's password, login **fails**.\n",
    "\n",
    "Here is what the function should return:\n",
    "- It should return `\"New account\"` when a new account is successfully created\n",
    "- It should return `\"No new account\"` when a new account is not successfully created\n",
    "- It should return `\"Successful login\"` when login is successful\n",
    "- It should return `\"No successful login\"` when login is not successful\n",
    "\n",
    "You will write two parts of this function:\n",
    "- You must add a new username/password pair to the `accounts` dictionary when a new account is being created\n",
    "- You must check if the given password is correct for an existing account in `accounts`\n",
    "\n",
    "You can see that the argument `new_account` appears as `new_account=False`. This makes `new_account` an *optional* argument, and if no third argument is given to `login`, the default value with be `False`. If you want the value of `new_account` to be `True`, you must put `True` in as the third argument (ex. `login(\"data6student\", \"1234\", True)`)."
   ]
  },
  {
   "cell_type": "code",
   "execution_count": null,
   "metadata": {},
   "outputs": [],
   "source": [
    "accounts = {}"
   ]
  },
  {
   "cell_type": "code",
   "execution_count": null,
   "metadata": {},
   "outputs": [],
   "source": [
    "def login(username, password, new_account=False):\n",
    "    if new_account:\n",
    "        if username not in accounts:\n",
    "            ...\n",
    "            print(\"Account with username:\", username, \"created with password:\", password)\n",
    "            result = ...\n",
    "            return result\n",
    "        else:\n",
    "            print(\"Username already exists, please select another username\")\n",
    "            result = ...\n",
    "            return result\n",
    "    elif password = ...\n",
    "        print(\"Successfully logged in as user:\", username)\n",
    "        result = ...\n",
    "        return result\n",
    "    else:\n",
    "        print(\"Incorrect password, please try again\")\n",
    "        result = ...\n",
    "        return result"
   ]
  },
  {
   "cell_type": "code",
   "execution_count": null,
   "metadata": {
    "deletable": false,
    "editable": false
   },
   "outputs": [],
   "source": [
    "grader.check(\"q2\")"
   ]
  },
  {
   "cell_type": "markdown",
   "metadata": {},
   "source": [
    "<details>\n",
    "    <summary>Solution (for after you have tried yourself - click this Markdown cell)</summary>\n",
    "    <code>def login(username, password, new_account=False):\n",
    "    if new_account:\n",
    "        if username not in accounts:\n",
    "            accounts[username] = password\n",
    "            print(\"Account with username:\", username, \"created with password:\", password)\n",
    "            result = \"New account\"\n",
    "            return result\n",
    "        else:\n",
    "            print(\"Username already exists, please select another username\")\n",
    "            result = \"No new account\"\n",
    "            return result\n",
    "    elif password == accounts[username]:\n",
    "        print(\"Successfully logged in as user:\", username)\n",
    "        result = \"Successful login\"\n",
    "        return result\n",
    "    else:\n",
    "        print(\"Incorrect password, please try again\")\n",
    "        result = \"No successful login\"\n",
    "        return result</code>\n",
    "</details>"
   ]
  },
  {
   "cell_type": "markdown",
   "metadata": {},
   "source": [
    "Let's look at this function at work:"
   ]
  },
  {
   "cell_type": "code",
   "execution_count": null,
   "metadata": {
    "scrolled": true
   },
   "outputs": [],
   "source": [
    "login(\"ian\", \"ian12345\", True)"
   ]
  },
  {
   "cell_type": "code",
   "execution_count": null,
   "metadata": {},
   "outputs": [],
   "source": [
    "login(\"isaac\", \"isaac9876\", True)"
   ]
  },
  {
   "cell_type": "code",
   "execution_count": null,
   "metadata": {
    "scrolled": true
   },
   "outputs": [],
   "source": [
    "login(\"kseniya\", \"kseniya4567\", True)"
   ]
  },
  {
   "cell_type": "code",
   "execution_count": null,
   "metadata": {},
   "outputs": [],
   "source": [
    "login(\"ian\", \"ian12345\")"
   ]
  },
  {
   "cell_type": "code",
   "execution_count": null,
   "metadata": {},
   "outputs": [],
   "source": [
    "login(\"isaac\", \"isaac9876\")"
   ]
  },
  {
   "cell_type": "code",
   "execution_count": null,
   "metadata": {},
   "outputs": [],
   "source": [
    "login(\"kseniya\", \"kseniya4567\")"
   ]
  },
  {
   "cell_type": "code",
   "execution_count": null,
   "metadata": {},
   "outputs": [],
   "source": [
    "login(\"ian\", \"password\")"
   ]
  },
  {
   "cell_type": "code",
   "execution_count": null,
   "metadata": {},
   "outputs": [],
   "source": [
    "login(\"isaac\", \"password\")"
   ]
  },
  {
   "cell_type": "code",
   "execution_count": null,
   "metadata": {},
   "outputs": [],
   "source": [
    "login(\"kseniya\", \"password\")"
   ]
  },
  {
   "cell_type": "markdown",
   "metadata": {},
   "source": [
    "Now if we take a look at our accounts dictionary, we can see that the username/password pairs we have for login are here!"
   ]
  },
  {
   "cell_type": "code",
   "execution_count": null,
   "metadata": {
    "scrolled": true
   },
   "outputs": [],
   "source": [
    "accounts"
   ]
  },
  {
   "cell_type": "code",
   "execution_count": null,
   "metadata": {},
   "outputs": [],
   "source": [
    "# Use this cell to explore how the login function works!\n",
    "# Try and make your own accounts to see how the dictionary helps us log in!\n"
   ]
  },
  {
   "cell_type": "markdown",
   "metadata": {},
   "source": [
    "---\n",
    "\n",
    "## Question 3\n",
    "\n",
    "Imagine our `accounts` dictionary has been obtained by some people who want to hack into our login system. They have access to all the passwords! We should figure out a way to make sure that even if people have access to the `accounts` dictionary, they still cannot steal peoples' passwords. We can do this using our `fake_lish` function from earlier! Modify the `login` funciton in `login_secure` so that it not only stores passwords in fake-lish, but also converts from fake-lish back to english while logging someone in!\n",
    "\n",
    "*Remember*: you have to pass in `fld` as the second input to `fake_lish` for it to work properly."
   ]
  },
  {
   "cell_type": "code",
   "execution_count": null,
   "metadata": {},
   "outputs": [],
   "source": [
    "accounts_secure = {}"
   ]
  },
  {
   "cell_type": "code",
   "execution_count": null,
   "metadata": {},
   "outputs": [],
   "source": [
    "def login_secure(username, password, new_account=False):\n",
    "    if new_account:\n",
    "        if username not in accounts_secure:\n",
    "            password_fake_lish = ...\n",
    "            ...\n",
    "            print(\"Account with username:\", username, \"created with secure password:\", password)\n",
    "            result = ...\n",
    "            return result\n",
    "        else:\n",
    "            print(\"Username already exists, please select another username\")\n",
    "            result = ...\n",
    "            return result\n",
    "    ...\n",
    "        print(\"Successfully logged in as user:\", username)\n",
    "        result = ...\n",
    "        return result\n",
    "    else:\n",
    "        print(\"Incorrect password, please try again\")\n",
    "        result = ...\n",
    "        return result"
   ]
  },
  {
   "cell_type": "code",
   "execution_count": null,
   "metadata": {
    "deletable": false,
    "editable": false
   },
   "outputs": [],
   "source": [
    "grader.check(\"q3\")"
   ]
  },
  {
   "cell_type": "markdown",
   "metadata": {},
   "source": [
    "<details>\n",
    "    <summary>Solution (for after you have tried yourself - click this Markdown cell)</summary>\n",
    "    <code>def login_secure(username, password, new_account=False):\n",
    "    if new_account:\n",
    "        if username not in accounts_secure:\n",
    "            password_fake_lish = ...\n",
    "            ...\n",
    "            print(\"Account with username:\", username, \"created with secure password:\", password)\n",
    "            result = ...\n",
    "            return result\n",
    "        else:\n",
    "            print(\"Username already exists, please select another username\")\n",
    "            result = ...\n",
    "            return result\n",
    "    ...\n",
    "        print(\"Successfully logged in as user:\", username)\n",
    "        result = ...\n",
    "        return result\n",
    "    else:\n",
    "        print(\"Incorrect password, please try again\")\n",
    "        result = ...\n",
    "        return result</code>\n",
    "</details>"
   ]
  },
  {
   "cell_type": "markdown",
   "metadata": {},
   "source": [
    "### Put Your Function To the Test"
   ]
  },
  {
   "cell_type": "code",
   "execution_count": null,
   "metadata": {
    "scrolled": true
   },
   "outputs": [],
   "source": [
    "login_secure(\"ian\", \"berkeley\", True)"
   ]
  },
  {
   "cell_type": "code",
   "execution_count": null,
   "metadata": {},
   "outputs": [],
   "source": [
    "login_secure(\"isaac\", \"datascience\", True)"
   ]
  },
  {
   "cell_type": "code",
   "execution_count": null,
   "metadata": {
    "scrolled": true
   },
   "outputs": [],
   "source": [
    "login_secure(\"kseniya\", \"iscool\", True)"
   ]
  },
  {
   "cell_type": "code",
   "execution_count": null,
   "metadata": {},
   "outputs": [],
   "source": [
    "login_secure(\"ian\", \"berkeley\")"
   ]
  },
  {
   "cell_type": "code",
   "execution_count": null,
   "metadata": {},
   "outputs": [],
   "source": [
    "login_secure(\"isaac\", \"datascience\")"
   ]
  },
  {
   "cell_type": "code",
   "execution_count": null,
   "metadata": {},
   "outputs": [],
   "source": [
    "login_secure(\"kseniya\", \"iscool\")"
   ]
  },
  {
   "cell_type": "code",
   "execution_count": null,
   "metadata": {},
   "outputs": [],
   "source": [
    "login_secure(\"ian\", \"password\")"
   ]
  },
  {
   "cell_type": "code",
   "execution_count": null,
   "metadata": {},
   "outputs": [],
   "source": [
    "login_secure(\"isaac\", \"password\")"
   ]
  },
  {
   "cell_type": "code",
   "execution_count": null,
   "metadata": {},
   "outputs": [],
   "source": [
    "login_secure(\"kseniya\", \"password\")"
   ]
  },
  {
   "cell_type": "markdown",
   "metadata": {},
   "source": [
    "Now if we look at our accounts dictionary, it is useless to those hackers!"
   ]
  },
  {
   "cell_type": "code",
   "execution_count": null,
   "metadata": {},
   "outputs": [],
   "source": [
    "accounts_secure"
   ]
  },
  {
   "cell_type": "markdown",
   "metadata": {},
   "source": [
    "If they try to use these passwords to log in, they won't work! Go cybersecurity!"
   ]
  },
  {
   "cell_type": "code",
   "execution_count": null,
   "metadata": {},
   "outputs": [],
   "source": [
    "login_secure(\"data6admin\", \"tbbqcnffjbeq\")"
   ]
  },
  {
   "cell_type": "code",
   "execution_count": null,
   "metadata": {},
   "outputs": [],
   "source": [
    "login_secure(\"ian\", \"orexryrl\")"
   ]
  },
  {
   "cell_type": "code",
   "execution_count": null,
   "metadata": {},
   "outputs": [],
   "source": [
    "login_secure(\"isaac\", \"qngnfpvrapr\")"
   ]
  },
  {
   "cell_type": "code",
   "execution_count": null,
   "metadata": {},
   "outputs": [],
   "source": [
    "login_secure(\"kseniya\", \"vfpbby\")"
   ]
  },
  {
   "cell_type": "markdown",
   "metadata": {},
   "source": [
    "## Done! 😇\n",
    "\n",
    "That's it! There's nowhere for you to submit this, as labs are not assignments. However, please ask any questions you have with this notebook in lab or on Ed. \n",
    "\n",
    "If your group has extra time or you want to practice, proceed onto the next section, which contains additional practice problems for this week."
   ]
  }
 ],
 "metadata": {
  "kernelspec": {
   "display_name": "Python 3 (ipykernel)",
   "language": "python",
   "name": "python3"
  },
  "language_info": {
   "codemirror_mode": {
    "name": "ipython",
    "version": 3
   },
   "file_extension": ".py",
   "mimetype": "text/x-python",
   "name": "python",
   "nbconvert_exporter": "python",
   "pygments_lexer": "ipython3",
   "version": "3.9.11"
  }
 },
 "nbformat": 4,
 "nbformat_minor": 4
}
