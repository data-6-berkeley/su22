{
 "cells": [
  {
   "cell_type": "code",
   "execution_count": null,
   "id": "dad57b87",
   "metadata": {
    "deletable": false,
    "editable": false
   },
   "outputs": [],
   "source": [
    "# Initialize Otter\n",
    "import otter\n",
    "grader = otter.Notebook(\"lab03.ipynb\")"
   ]
  },
  {
   "cell_type": "code",
   "execution_count": null,
   "id": "bf84c5fe",
   "metadata": {},
   "outputs": [],
   "source": [
    "# Run this cell to load all required Python libraries \n",
    "exec(open(\"./utils.py\").read())\n",
    "%matplotlib inline"
   ]
  },
  {
   "cell_type": "markdown",
   "id": "2137fd7a",
   "metadata": {},
   "source": [
    "# Lab 3 – Data Visualization\n",
    "\n",
    "## Data 6, Summer 2022\n",
    "\n",
    "So far, we have discussed methods to interpret the data, but what if we want to present our data in a visual format? In this lab, you'll learn several important table methods for producing data visualizations. Visualizations are some of the most powerful tools in data science; they're helpful for showing data to people who don't necessarily have a background in data science, and allow data scientists like yourselves to help others understand the data in a more intuitive way.\n",
    "\n",
    "In Lecture 8, we talked about methods we could use to visualize one variable, namely the `barh` and `hist` methods. We added the `scatter` and `plot` methods in Lecture 9. These methods allow us to visualize two or more variables at once, which can open up more patterns in the data and can further improve your ability to visualize data for people who do not necessarily understand data science.\n",
    "\n",
    "As data scientists it is not only our job to be able to use the visualization methods we know, but it is also our job to know *when* to use which methods. As we build our toolkit of visualization techniques going forward, it's important to understand the advantages and disadvantages of each visualization type.\n",
    "\n",
    "We will be working with the same `brfss` dataset as we did in the previous lab, so we will load that in to begin looking at the new methods. "
   ]
  },
  {
   "cell_type": "code",
   "execution_count": null,
   "id": "2b8ff201",
   "metadata": {},
   "outputs": [],
   "source": [
    "brfss = Table.read_table(\"data/brfss.csv\")\n",
    "brfss.show(5)"
   ]
  },
  {
   "cell_type": "markdown",
   "id": "a3ec2351",
   "metadata": {},
   "source": [
    "# The [barh](http://data8.org/datascience/_autosummary/datascience.tables.Table.barh.html#datascience.tables.Table.barh) method\n",
    "\n",
    "The `barh` (horizontal bar chart) method is used to visualize **categorical** variable values. Categorical variables are non-numbers, like names and qualities (Color, State Names, etc.). As we saw in lecture, categorical variables come in 2 different types: *ordinal* and *nominal*. Refer to the [Lecture 8 Slides](https://docs.google.com/presentation/d/1QbR3eXN7XxxUvmPB4xOWzLsJYFUgtKc1wyLHuABH5mw/edit?usp=sharing) to see the difference between the two types.\n",
    "\n",
    "The `barh` method takes in 1 mandatory argument, which is the **name of the column** you want on the left (vertical) axis of your `barh` plot. There are also optional arguments that have to do with plotting -- you'll see examples of those in this lab and in the homework. The remaining optional arguments in the `datascience` documentation linked above can also be used, feel free to try out some of the others on your own!\n",
    "\n",
    "To use the `barh` method properly, we first need to select the columns we want to see in the graph. We should not call `barh` directly on a large `Table` because without specifying a column, we get a bar graph for every single instance of every single variable, which you can imagine results in a lot of bar graphs."
   ]
  },
  {
   "cell_type": "code",
   "execution_count": null,
   "id": "e2a5374a",
   "metadata": {},
   "outputs": [],
   "source": [
    "# Just run this cell to load a table with State Counts\n",
    "states = Table.read_table(\"data/state_counts.csv\")\n",
    "states"
   ]
  },
  {
   "cell_type": "code",
   "execution_count": null,
   "id": "f0ca082c",
   "metadata": {},
   "outputs": [],
   "source": [
    "# Since the `states` table only has two columns, we can plot it with barh\n",
    "states.barh(\"State\")"
   ]
  },
  {
   "cell_type": "markdown",
   "id": "67e4e6db",
   "metadata": {},
   "source": [
    "Notice that each value in the \"State\" column is plotted with a bar with length corresponding to its count."
   ]
  },
  {
   "cell_type": "markdown",
   "id": "011349c8",
   "metadata": {
    "deletable": false,
    "editable": false
   },
   "source": [
    "<!-- BEGIN QUESTION -->\n",
    "\n",
    "**Question 1**: Plot a horizontal bar chart that shows the counts of each category from the `\"Days Smoking\"` column of the `brfss` table. \n",
    "\n",
    "*Hint*: Use the `smoking_counts` table.\n",
    "\n",
    "<!--\n",
    "BEGIN QUESTION\n",
    "name: q1\n",
    "points: 0\n",
    "manual: true\n",
    "-->"
   ]
  },
  {
   "cell_type": "code",
   "execution_count": null,
   "id": "ccf3eead",
   "metadata": {},
   "outputs": [],
   "source": [
    "smoking_counts = Table.read_table(\"data/smoking_counts.csv\")\n",
    "..."
   ]
  },
  {
   "cell_type": "markdown",
   "id": "f8dda6f7",
   "metadata": {},
   "source": [
    "<!-- END QUESTION -->\n",
    "\n",
    "\n",
    "\n",
    "### Multiple Columns \n",
    "\n",
    "We can also use `barh` to see multiple statistics at once. Let's use the `barh` method to see the average number of both *poor mental health* and *poor physical health* days. We'll be using the following columns:\n",
    "1. `\"Physical Health\"`: Now thinking about your physical health, which includes physical illness and injury, for how many days during the past 30 days was your physical health not good? \n",
    "2. `\"Mental Health\"`: Now thinking about your mental health, which includes stress, depression, and problems with emotions, for how many days during the past 30 days was your mental health not good? \n",
    "\n",
    "Run the following cell to show an example of how to create an *overlaid bar chart* with two statistics."
   ]
  },
  {
   "cell_type": "code",
   "execution_count": null,
   "id": "bd41ed35",
   "metadata": {},
   "outputs": [],
   "source": [
    "state_averages = Table.read_table(\"data/state_averages.csv\")\n",
    "state_averages"
   ]
  },
  {
   "cell_type": "code",
   "execution_count": null,
   "id": "5308250e",
   "metadata": {},
   "outputs": [],
   "source": [
    "# We must group first to get our desired columns, then we can call barh\n",
    "state_averages.barh(\"State\", overlay=True)"
   ]
  },
  {
   "cell_type": "markdown",
   "id": "42b1ab54",
   "metadata": {},
   "source": [
    "If we want different visualizations for each variable, we can set the optional `overlay` argument to `False`. The default value of `overlay` is `True`, so if you don't give it a value, you will get a plot with all the included variables at once."
   ]
  },
  {
   "cell_type": "code",
   "execution_count": null,
   "id": "8ecfbc56",
   "metadata": {},
   "outputs": [],
   "source": [
    "state_averages.barh(\"State\", overlay=False)"
   ]
  },
  {
   "cell_type": "markdown",
   "id": "a87c416c",
   "metadata": {},
   "source": [
    "That way we can choose if we want to have one plot with all our information or a new plot for each piece of information!\n",
    "\n",
    "In this case, do we prefer an overlaid plot or two separate plots? Can you think of a case where we might want to have two separate plots instead of one overlaid plot? (Hint: think about the units for both variables — are they the same or different?)\n",
    "\n",
    "Discuss with the people around you and check in with your GSI to confirm. "
   ]
  },
  {
   "cell_type": "markdown",
   "id": "8a72c18d",
   "metadata": {},
   "source": [
    "### Where `barh` fails\n",
    "\n",
    "The `barh` method works well on categorical variables, but what if we have a **numerical** variable that we want to see the distribution in one particular state? Let's see what happens if we try to use `barh` on a numerical variable (`\"Binge Drinking\"`) instead of a categorical variable:"
   ]
  },
  {
   "cell_type": "code",
   "execution_count": null,
   "id": "31b46763",
   "metadata": {},
   "outputs": [],
   "source": [
    "# Just run this cell -- don't worry about this `group` method\n",
    "brfss.group(\"Binge Drinks\").barh(\"Binge Drinks\")"
   ]
  },
  {
   "cell_type": "markdown",
   "id": "bf79aea9",
   "metadata": {},
   "source": [
    "As you can see, this bar plot is not particularly helpful. There are many categories that seem to not have any corresponding bar. Yet, that isn't the case! Seeing the breakdown of `\"Binge Drinks\"` does not provide us with any useful information, and it is also difficult to read or understand. Instead, for numerical variables, we have another visualization method that helps us visualize a numerical variable's distribution..."
   ]
  },
  {
   "cell_type": "markdown",
   "id": "ff72e2c5",
   "metadata": {},
   "source": [
    "# The [hist](http://data8.org/datascience/_autosummary/datascience.tables.Table.hist.html#datascience.tables.Table.hist) method\n",
    "\n",
    "The `hist` method allows us to see the distribution of a numerical variable. Categorical variables should be visualized using `barh`, and numerical variables should be visualized using `hist`.\n",
    "\n",
    "The `hist` method takes in 1 mandatory argument and has several optional arguments (as is the case with `barh`, there are many other optional arguments, but here are just a few of them). For this lab, we'll set **`density` to be `False`**.\n",
    "\n",
    "| **Argument** | **Description** | **Type** | **Mandatory?** |\n",
    "| -- | -- | -- | -- |\n",
    "| `column` | Column name whose values you want on the x-axis of your plot | Column name (string) | Yes |\n",
    "| `density` | If `True`, then the resulting plot will be displayed not on the count of a value, but on the density of that value in the Table | boolean | No |\n",
    "| `group` | Similar to the Table method `group`, groups rows by this label before plotting | Column name (string) | No |\n",
    "| `overlay` | When `False`, make a new plot for each eligible statistic in the Table | boolean | No |\n",
    "| `bins` | A NumPy array of bin boundaries you want your histogram to gather data into | array | No |\n",
    "| `unit` |  A name for the units of the plotted column | Column name (string) | No |\n",
    "\n",
    "**Again, in all cases, `density` should be set to `False`**\n",
    "\n",
    "Keep in mind the same plotting optional arguments mentioned in the `barh` introduction.\n",
    "\n",
    "Let's take a look at the distribution of exercise sessions in different states to see how the `hist` method helps visualize numerical variables, first starting with our favorite state, California. We'll use the `sleep_no_negatives` table to exclude missing values (-1's)."
   ]
  },
  {
   "cell_type": "code",
   "execution_count": null,
   "id": "087022b8",
   "metadata": {},
   "outputs": [],
   "source": [
    "sleep_no_negatives = brfss.where(\"Sleep Time\", are.not_equal_to(-1))"
   ]
  },
  {
   "cell_type": "code",
   "execution_count": null,
   "id": "a8b2a3ae",
   "metadata": {},
   "outputs": [],
   "source": [
    "# This plot shows the distribution of sleep time for Californians\n",
    "my_bins = np.arange(0, 25, 1)\n",
    "california = sleep_no_negatives.where(\"State\", \"California\")\n",
    "california.hist(\"Sleep Time\", density = False, bins=my_bins)"
   ]
  },
  {
   "cell_type": "markdown",
   "id": "ba9c232d",
   "metadata": {},
   "source": [
    "This shows us that people living in California usually tend to sleep between 7 to 8 hours a night, but there are many people who sleep more hours (10+) or few hours (less than 5). Let's see how that compares to sleep time in another state, Illinois:"
   ]
  },
  {
   "cell_type": "markdown",
   "id": "c884c721",
   "metadata": {
    "deletable": false,
    "editable": false
   },
   "source": [
    "<!-- BEGIN QUESTION -->\n",
    "\n",
    "**Question 2:** Fill in the following **code cell** to produce a histogram representing the ***distribution of sleep time*** for respondents from the state of Illinois.\n",
    "\n",
    "*Note*: Set the optional `bins` argument of the `hist` method to `my_bins`. We've provided this variable for you.\n",
    "\n",
    "<!--\n",
    "BEGIN QUESTION\n",
    "name: q2\n",
    "points: 0\n",
    "manual: true\n",
    "-->"
   ]
  },
  {
   "cell_type": "code",
   "execution_count": null,
   "id": "56ef817a",
   "metadata": {},
   "outputs": [],
   "source": [
    "# This plot shows the distribution of sleep time for Illinois residents\n",
    "my_bins = np.arange(0, 25, 1)\n",
    "il = ...\n",
    "..."
   ]
  },
  {
   "cell_type": "markdown",
   "id": "75fea166",
   "metadata": {},
   "source": [
    "<!-- END QUESTION -->\n",
    "\n",
    "\n",
    "\n",
    "### California vs. Illinois\n",
    "\n",
    "We can use `hist` on a `Table` with just rows for these two states and use the optional `group` argument.\n",
    "\n",
    "*Note*: You'll see how `are.contained_in` works with the `where` method next week. For now, think of it as finding any rows corresponding to *either* `\"California\"` or `\"Illinois\"`."
   ]
  },
  {
   "cell_type": "code",
   "execution_count": null,
   "id": "a08c5849",
   "metadata": {},
   "outputs": [],
   "source": [
    "# Just run this cell to load the `il_ca` table\n",
    "il_ca = sleep_no_negatives.where(\"State\", are.contained_in([\"California\", \"Illinois\"]))\n",
    "il_ca.show(5)"
   ]
  },
  {
   "cell_type": "markdown",
   "id": "d8e63733",
   "metadata": {
    "deletable": false,
    "editable": false
   },
   "source": [
    "<!-- BEGIN QUESTION -->\n",
    "\n",
    "**Question 3:** Now that we've created our `il_ca` table, fill in the following **code cell** to produce a histogram representing the ***distribution of sleep time*** for *both* California and Illinois. You'll first need to `select` the necessary columns from `il_ca` then fill in the appropriate call to the `hist` method.\n",
    "\n",
    "*Hint*: Take a look at the optional `group` argument from the description above.\n",
    "\n",
    "*Note*: Set the optional `bins` argument of the `hist` method to `my_bins`. We've provided this variable for you.\n",
    "\n",
    "<!--\n",
    "BEGIN QUESTION\n",
    "name: q3\n",
    "points: 0\n",
    "manual: true\n",
    "-->"
   ]
  },
  {
   "cell_type": "code",
   "execution_count": null,
   "id": "59ef835f",
   "metadata": {},
   "outputs": [],
   "source": [
    "# This plot shows the distribution of sleep time for people from California AND New York\n",
    "my_bins = np.arange(0, 25, 1)\n",
    "..."
   ]
  },
  {
   "cell_type": "markdown",
   "id": "64694270",
   "metadata": {},
   "source": [
    "<!-- END QUESTION -->\n",
    "\n",
    "\n",
    "\n",
    "It appears that sleep time in California is a very similar, on average, to the sleep time in California. The plot above shows the New York `Sleep Time` to be almost exactly on top of the Illinois `Sleep Time`. Let's see if we can use a table query to figure out the same information:"
   ]
  },
  {
   "cell_type": "code",
   "execution_count": null,
   "id": "4f2fa0ed",
   "metadata": {},
   "outputs": [],
   "source": [
    "print(f\"California average:\\t{np.mean(california.column('Sleep Time'))}\")\n",
    "print(f\"Illinois average:\\t{np.mean(il.column('Sleep Time'))}\")"
   ]
  },
  {
   "cell_type": "markdown",
   "id": "1c9cd13d",
   "metadata": {},
   "source": [
    "As we can see, the plot we made appeared to suggest that average amount of sleep should be very similar between California and Illinois, and the table operations reflected that! This is a benefit of visualization, that information can be learned about the dataset with just visual observation. It is always beneficial to back your claims about data with concrete facts about the dataset, but visualizations can help abstract away some of the confusion of looking at raw data so that non-data-scientists can better understand what is going on."
   ]
  },
  {
   "cell_type": "markdown",
   "id": "c72b1907",
   "metadata": {
    "deletable": false,
    "editable": false
   },
   "source": [
    "<!-- BEGIN QUESTION -->\n",
    "\n",
    "**Question 4 (*Discussion*):** Now, think about what would happen if you chose two states with **very different counts**, why would it be more difficult to compare them with histograms? \n",
    "\n",
    "Once you've discussed with someone around you or a GSI, proceed with the code cells below to confirm your answers. We'll look to compare **Texas** and **Delaware**.\n",
    "\n",
    "<!--\n",
    "BEGIN QUESTION\n",
    "name: q4\n",
    "points: 0\n",
    "manual: true\n",
    "-->"
   ]
  },
  {
   "cell_type": "markdown",
   "id": "ac094177",
   "metadata": {},
   "source": [
    "_Type your answer here, replacing this text._"
   ]
  },
  {
   "cell_type": "markdown",
   "id": "feff170d",
   "metadata": {
    "deletable": false,
    "editable": false
   },
   "source": [
    "<!-- END QUESTION -->"
   ]
  },
  {
   "cell_type": "code",
   "execution_count": null,
   "id": "67a8a1c2",
   "metadata": {},
   "outputs": [],
   "source": [
    "# Just run this cell\n",
    "texas = sleep_no_negatives.where(\"State\", \"Texas\")\n",
    "delaware = sleep_no_negatives.where(\"State\", \"Delaware\")\n",
    "print(f\"Texans in `cleaned_exercise_mental_health` dataset: {texas.num_rows}\")\n",
    "print(f\"Delawareans in `cleaned_exercise_mental_health` dataset: {delaware.num_rows}\")"
   ]
  },
  {
   "cell_type": "markdown",
   "id": "4517c546",
   "metadata": {},
   "source": [
    "Each individual plot looks fine:"
   ]
  },
  {
   "cell_type": "code",
   "execution_count": null,
   "id": "2be258b4",
   "metadata": {},
   "outputs": [],
   "source": [
    "# This plot shows the distribution of sleep times for Texas respondents\n",
    "my_bins = np.arange(0, 25, 1)\n",
    "texas.hist(\"Sleep Time\", density = False, bins=my_bins)"
   ]
  },
  {
   "cell_type": "code",
   "execution_count": null,
   "id": "a258f1c8",
   "metadata": {},
   "outputs": [],
   "source": [
    "# This plot shows the distribution of sleep times for Delaware respondents\n",
    "my_bins = np.arange(0, 25, 1)\n",
    "delaware.hist(\"Sleep Time\", density = False, bins=my_bins)"
   ]
  },
  {
   "cell_type": "markdown",
   "id": "90e1d745",
   "metadata": {},
   "source": [
    "Take a look at the y-axis on both of these plots. What do you think will happen when we try to plot them on the same graph?"
   ]
  },
  {
   "cell_type": "code",
   "execution_count": null,
   "id": "19a59be3",
   "metadata": {
    "scrolled": true
   },
   "outputs": [],
   "source": [
    "# Just run this cell\n",
    "texas_delaware = sleep_no_negatives.where(\"State\", are.contained_in([\"Texas\", \"Delaware\"]))\n",
    "texas_delaware.show(5)"
   ]
  },
  {
   "cell_type": "markdown",
   "id": "689fe34d",
   "metadata": {
    "deletable": false,
    "editable": false
   },
   "source": [
    "<!-- BEGIN QUESTION -->\n",
    "\n",
    "**Question 5:** Using the code in **Question 3** as reference, produce a histogram showing the distribution of sleep time for respondents from *Delaware* and *Texas*. What do you notice about this plot?\n",
    "\n",
    "<!--\n",
    "BEGIN QUESTION\n",
    "name: q5\n",
    "points: 0\n",
    "manual: true\n",
    "-->"
   ]
  },
  {
   "cell_type": "code",
   "execution_count": null,
   "id": "2ddc7b01",
   "metadata": {},
   "outputs": [],
   "source": [
    "# This plot shows the distribution of the number of times people from Delaware and Texas exercised in a month\n",
    "my_bins = np.arange(0, 25, 1)\n",
    "..."
   ]
  },
  {
   "cell_type": "markdown",
   "id": "3794569b",
   "metadata": {},
   "source": [
    "<!-- END QUESTION -->\n",
    "\n",
    "\n",
    "\n",
    "As you can see, there is so much more Texas data than Delaware data that we can hardly make comparisons between the two. Trying to figure out information from this plot is very difficult, so we would either have to use another type of visualization or change the perspective of this plot to be able to learn from it."
   ]
  },
  {
   "cell_type": "markdown",
   "id": "a3977a2d",
   "metadata": {},
   "source": [
    "# The [scatter](http://data8.org/datascience/_autosummary/datascience.tables.Table.scatter.html#datascience.tables.Table.scatter) method\n",
    "\n",
    "As we mentioned, visualizing two variables can show us patterns in the data that can help us learn new information. The `scatter` method allows us to see the relationship between two numerical variables in our data using a **scatter plot**. The first provided column name goes along the x-axis and the second goes along the y-axis.\n",
    "\n",
    "Let's take a look at the relationship between **Physical Health** and **Alcohol Consumption**. For reference, here are the following questions from the original BRFSS Survey that correspond to our `\"Physical Health\"` and `\"Binge Drinks\"` columns.\n",
    "\n",
    "> **Physical Health:** Now thinking about your physical health, which includes physical illness and injury, for how many days during\n",
    "the past 30 days was your physical health not good? \n",
    "\n",
    "\n",
    ">**Binge Drinks**: Considering all types of alcoholic beverages, how many times during the past 30 days did you have 5 or more drinks for men or 4 or more drinks for women on an occasion?"
   ]
  },
  {
   "cell_type": "markdown",
   "id": "538d74db",
   "metadata": {
    "deletable": false,
    "editable": false
   },
   "source": [
    "### Housekeeping\n",
    "\n",
    "**Question 6:** As was the case with our previous visualizations lab, we know that the missing numerical values are encoded as `-1`s. Create a new table called `scatter_cleaned` which contains every row from the original `brfss` table that *does not* contain a `-1` in either the `\"Physical Health\"` column or the `\"Binge Drinks\"` column.\n",
    "\n",
    "*Hint*: If you're having trouble with the code, feel free to reference the `barh` section of this lab.\n",
    "\n",
    "<!--\n",
    "BEGIN QUESTION\n",
    "name: q6\n",
    "points: 0\n",
    "-->"
   ]
  },
  {
   "cell_type": "code",
   "execution_count": null,
   "id": "f79b2a65",
   "metadata": {},
   "outputs": [],
   "source": [
    "scatter_cleaned = ...\n",
    "scatter_cleaned"
   ]
  },
  {
   "cell_type": "code",
   "execution_count": null,
   "id": "808cfd5e",
   "metadata": {
    "deletable": false,
    "editable": false
   },
   "outputs": [],
   "source": [
    "grader.check(\"q6\")"
   ]
  },
  {
   "cell_type": "markdown",
   "id": "745286e3",
   "metadata": {},
   "source": [
    "### Producing Scatter Plots\n",
    "\n",
    "Now, we can call `scatter` on the `scatter_cleaned` table. Run the following cell to do so."
   ]
  },
  {
   "cell_type": "code",
   "execution_count": null,
   "id": "ce84c38d",
   "metadata": {},
   "outputs": [],
   "source": [
    "scatter_cleaned.scatter(\"Binge Drinks\", \"Physical Health\")"
   ]
  },
  {
   "cell_type": "markdown",
   "id": "9f86fafb",
   "metadata": {},
   "source": [
    "Just like that, you've produced your first scatter plot! It looks a little messy, however. Oftentimes scatter plots can suffer from what's known as **[overplotting](https://www.displayr.com/what-is-overplotting/)**: when many data points fall on top of each other, creating a blob of data. When data is *overplot*, it's often difficult to see the individual data points on the scatter plot.\n",
    "\n",
    "To fix this, we attempt to focus in on a smaller subset of the data. In this case, we'll look at points in which `\"Binge Drinks\"` falls between 0 and 30 days and the `\"Physical Health\"` column falls between 0 and 30 days."
   ]
  },
  {
   "cell_type": "code",
   "execution_count": null,
   "id": "6dc21a4d",
   "metadata": {},
   "outputs": [],
   "source": [
    "# Create a smaller subset of data\n",
    "scatter_reduced = scatter_cleaned.where(\"Binge Drinks\", \n",
    "                                are.below(30)).where(\"Physical Health\", are.below(30))\n",
    "scatter_reduced"
   ]
  },
  {
   "cell_type": "markdown",
   "id": "00afb053",
   "metadata": {
    "deletable": false,
    "editable": false
   },
   "source": [
    "<!-- BEGIN QUESTION -->\n",
    "\n",
    "**Question 7:** Using the `scatter_reduced` table, produce a scatterplot that plots \"`Binge Drinks\"` on the x-axis and `\"Exercise Sessions (Past Month)\"` on the y-axis. The code should be very similar to the previous scatter plot.\n",
    "\n",
    "<!--\n",
    "BEGIN QUESTION\n",
    "name: q7\n",
    "points: 0\n",
    "manual: true\n",
    "-->"
   ]
  },
  {
   "cell_type": "code",
   "execution_count": null,
   "id": "2d944ff7",
   "metadata": {},
   "outputs": [],
   "source": [
    "..."
   ]
  },
  {
   "cell_type": "markdown",
   "id": "64625ad0",
   "metadata": {
    "deletable": false,
    "editable": false
   },
   "source": [
    "<!-- END QUESTION -->\n",
    "\n",
    "<!-- BEGIN QUESTION -->\n",
    "\n",
    "That looks a little better! There is still a cluster of data points in the bottom left corner, but a clear relationship can be seen between the two variables.\n",
    "\n",
    "**Question 8 (*Discussion*):** What relationship between binge drinking and number of days with poor physical health does the above scatter plot reveal? Discuss with someone around you and check in with your GSI once you've agreed on an answer.\n",
    "\n",
    "<!--\n",
    "BEGIN QUESTION\n",
    "name: q8\n",
    "points: 0\n",
    "manual: true\n",
    "-->"
   ]
  },
  {
   "cell_type": "markdown",
   "id": "fbfcd6f0",
   "metadata": {},
   "source": [
    "_Type your answer here, replacing this text._"
   ]
  },
  {
   "cell_type": "markdown",
   "id": "8ebb39e7",
   "metadata": {},
   "source": [
    "<!-- END QUESTION -->\n",
    "\n",
    "\n",
    "\n",
    "### The `group` and `labels` Optional Arguments\n",
    "\n",
    "The `scatter` method also allows you to specify specific groups or labels for each data point using the `group` or `labels` keyword arguments. \n",
    "\n",
    "Say we wanted to investigate the relationship between an individual's **number of children** and their **mental health**. The corresponding questions from the original BRFSS survey were as follows:\n",
    ">  **Mental Health**: Now thinking about your mental health, which includes stress, depression, and problems with emotions, for how many days during the past 30 days was your mental health not good?\n",
    "\n",
    "> **Children**: How many children less than 18 years of age live in your household?\n",
    "\n",
    "**Question 9**: In order to take advantage of the optional arguments, let's first load an additional table from the `\"states_scatter.csv\"` file. We'll provide the code for this.\n",
    "\n",
    "Then, using the `states` table, produce a scatter plot that plots the average children against the average number of poor mental health days. "
   ]
  },
  {
   "cell_type": "code",
   "execution_count": null,
   "id": "7229cc38",
   "metadata": {},
   "outputs": [],
   "source": [
    "states = Table.read_table(\"data/states_scatter.csv\")\n",
    "states"
   ]
  },
  {
   "cell_type": "markdown",
   "id": "c29d0324",
   "metadata": {
    "deletable": false,
    "editable": false
   },
   "source": [
    "<!-- BEGIN QUESTION -->\n",
    "\n",
    "<!--\n",
    "BEGIN QUESTION\n",
    "name: q9\n",
    "points: 0\n",
    "manual: true\n",
    "-->"
   ]
  },
  {
   "cell_type": "code",
   "execution_count": null,
   "id": "65fbfbc0",
   "metadata": {},
   "outputs": [],
   "source": [
    "..."
   ]
  },
  {
   "cell_type": "markdown",
   "id": "c796ea96",
   "metadata": {},
   "source": [
    "<!-- END QUESTION -->\n",
    "\n",
    "\n",
    "\n",
    "This plot looks good, but it is difficult to see which points correspond to which states. To give each data point it's city name, we can use the `group` or `label` arguments:"
   ]
  },
  {
   "cell_type": "code",
   "execution_count": null,
   "id": "a48efc47",
   "metadata": {},
   "outputs": [],
   "source": [
    "states.scatter(\"Children mean\", \"Mental Health mean\", labels=\"State\")"
   ]
  },
  {
   "cell_type": "code",
   "execution_count": null,
   "id": "91712f17",
   "metadata": {},
   "outputs": [],
   "source": [
    "states.scatter(\"Children mean\", \"Mental Health mean\", group=\"State\")"
   ]
  },
  {
   "cell_type": "markdown",
   "id": "726aae8e",
   "metadata": {},
   "source": [
    "As you can see, one of these plots is easier to read than the other, so we were better off using the `group` argument in this case. Moreover, since there are so many states, some of the colors get reused, making it difficult to inerpret the *second* scatter plot. However, in practice, it may be useful to use `labels`, not `group`, so think about when it may be useful to use each argument.\n",
    "\n",
    "Scatter plots are useful when visualizing two numerical variables together. If you want to plot two numerical variables but one of those variables corresponds to time, we can use a line plot to visualize the non-time variable as time passes.\n",
    "\n",
    "# The [plot](http://data8.org/datascience/_autosummary/datascience.tables.Table.plot.html#datascience.tables.Table.plot) method\n",
    "\n",
    "Similar to `scatter`, we give plot the names of two numerical columns and it creates a **line plot** for us. If we want to draw multiple line plots on the same set of axes, we give it a table with multiple numerical columns, and tell it which one contains the values for the x-axis.\n",
    "\n",
    "The `plot` method allows us to see how non-time variables change over time. Let's use `plot` to look at the exercise patterns over the course of the year. First, we will look at a single line plot using `plot`:"
   ]
  },
  {
   "cell_type": "code",
   "execution_count": null,
   "id": "c6db2fdf",
   "metadata": {},
   "outputs": [],
   "source": [
    "# Just run this cell to load a new table\n",
    "months = Table.read_table(\"data/months.csv\")\n",
    "months"
   ]
  },
  {
   "cell_type": "markdown",
   "id": "c91e5978",
   "metadata": {
    "deletable": false,
    "editable": false
   },
   "source": [
    "<!-- BEGIN QUESTION -->\n",
    "\n",
    "**Question 10**: Using the `months` table and the `plot` method, produce a *line plot* that plots the average sleep time over time\n",
    "\n",
    "*Hint*: You'll want to plot the month on the x-is and average exercise sessions on the y-axis.\n",
    "\n",
    "<!--\n",
    "BEGIN QUESTION\n",
    "name: q10\n",
    "points: 0\n",
    "manual: true\n",
    "-->"
   ]
  },
  {
   "cell_type": "code",
   "execution_count": null,
   "id": "04eace52",
   "metadata": {},
   "outputs": [],
   "source": [
    "..."
   ]
  },
  {
   "cell_type": "markdown",
   "id": "e22dd98b",
   "metadata": {},
   "source": [
    "<!-- END QUESTION -->\n",
    "\n",
    "\n",
    "\n",
    " ### Identifying Temporal Patterns\n",
    " \n",
    " Line plots are incredibly effective tools for identifying temporal patterns (i.e. changes over time). Let's utilize our newfound knowledge of the `plot` method to uncover underlying temporal patterns within our BRFSS data. Run the following cells and answer the question that follows."
   ]
  },
  {
   "cell_type": "code",
   "execution_count": null,
   "id": "eaf9fedf",
   "metadata": {},
   "outputs": [],
   "source": [
    "# Run this cell -- you should understand how this code works\n",
    "vermont = sleep_no_negatives.where(\"State\", \"Vermont\")\n",
    "florida = sleep_no_negatives.where(\"State\", \"Florida\")"
   ]
  },
  {
   "cell_type": "code",
   "execution_count": null,
   "id": "80f28121",
   "metadata": {},
   "outputs": [],
   "source": [
    "# Run this cell to produce a line plot for Vermont\n",
    "vt_grouped = vermont.group(\"Month\", np.average)\n",
    "vt_grouped.plot(\"Month\", \"Sleep Time average\")"
   ]
  },
  {
   "cell_type": "code",
   "execution_count": null,
   "id": "6f15ae5e",
   "metadata": {},
   "outputs": [],
   "source": [
    "# Run this cell to produce a line plot for Florida\n",
    "fl_grouped = florida.group(\"Month\", np.average)\n",
    "fl_grouped.plot(\"Month\", \"Sleep Time average\")"
   ]
  },
  {
   "cell_type": "markdown",
   "id": "eab1e6ff",
   "metadata": {},
   "source": [
    "### Multiple Variables"
   ]
  },
  {
   "cell_type": "markdown",
   "id": "c1522f80",
   "metadata": {
    "deletable": false,
    "editable": false
   },
   "source": [
    "<!-- BEGIN QUESTION -->\n",
    "\n",
    "If we want to see multiple variables on one plot, we can include them in the table we call `plot` on. \n",
    "\n",
    "**Question 11**: For both the `vermont_averages.csv` and `florida_averages.csv` files, read the file into two new tables, `vt_health` and `fl_health`, respectively. Then, for each table, select the following columns:\n",
    ">1. Month\n",
    "2. Physical Health average\n",
    "3. Mental Health average\n",
    "\n",
    "Finally, produce a scatter plot with *one line per variable* that is not `\"Month\"`. That is, `\"Month\"` is what should be plotted on the x-axis.\n",
    "\n",
    "<!--\n",
    "BEGIN QUESTION\n",
    "name: q11\n",
    "points: 0\n",
    "manual: true\n",
    "-->"
   ]
  },
  {
   "cell_type": "code",
   "execution_count": null,
   "id": "dc459cba",
   "metadata": {},
   "outputs": [],
   "source": [
    "vt_health = ...\n",
    "vt_health"
   ]
  },
  {
   "cell_type": "markdown",
   "id": "a68bc61c",
   "metadata": {
    "deletable": false,
    "editable": false
   },
   "source": [
    "<!-- END QUESTION -->"
   ]
  },
  {
   "cell_type": "code",
   "execution_count": null,
   "id": "3a8d8a44",
   "metadata": {},
   "outputs": [],
   "source": [
    "# Create the line plot\n",
    "..."
   ]
  },
  {
   "cell_type": "code",
   "execution_count": null,
   "id": "6b990660",
   "metadata": {},
   "outputs": [],
   "source": [
    "fl_health = ...\n",
    "fl_health"
   ]
  },
  {
   "cell_type": "code",
   "execution_count": null,
   "id": "d4605a21",
   "metadata": {},
   "outputs": [],
   "source": [
    "# Create the line plot\n",
    "..."
   ]
  },
  {
   "cell_type": "markdown",
   "id": "1de59ae8",
   "metadata": {
    "deletable": false,
    "editable": false
   },
   "source": [
    "<!-- BEGIN QUESTION -->\n",
    "\n",
    "**Question 12 (*Discussion*)**: What insights can you draw for each state about how **mental and physical** health change over the course of the year?\n",
    "\n",
    "*Note*: Remember that a *higher* value for both `\"Mental Health\"` and `\"Physical Health\"` corresponding to a *larger* number of days where the individual considered their mental or physical health to be *poor*.\n",
    "\n",
    "<!--\n",
    "BEGIN QUESTION\n",
    "name: q12\n",
    "points: 0\n",
    "manual: true\n",
    "-->"
   ]
  },
  {
   "cell_type": "markdown",
   "id": "e0c7e3cf",
   "metadata": {},
   "source": [
    "_Type your answer here, replacing this text._"
   ]
  },
  {
   "cell_type": "markdown",
   "id": "461b6992",
   "metadata": {},
   "source": [
    "<!-- END QUESTION -->\n",
    "\n",
    "\n",
    "\n",
    "### Choose a State\n",
    "\n",
    "We've just looked at two states, but there are many more to investigate. Run the following cell to experiment with other states."
   ]
  },
  {
   "cell_type": "code",
   "execution_count": null,
   "id": "6e2c9c81",
   "metadata": {},
   "outputs": [],
   "source": [
    "def plot_state(state):\n",
    "    state_tbl = brfss.where(\"General Health\", are.not_equal_to(-1)).where(\"State\", \\\n",
    "                    state).where(\"Physical Health\", are.not_equal_to(-1))\n",
    "    grouped = state_tbl.group(\"Month\", np.average)\n",
    "    reduced = grouped.select(\"Month\", \n",
    "                  \"Physical Health average\", \n",
    "                  \"Mental Health average\")\n",
    "    reduced.plot(\"Month\")\n",
    "    plt.title(f\"{state} Line Plots\")\n",
    "    plt.ylim(0,15)\n",
    "    plt.ylabel(\"Number of Days\")\n",
    "    \n",
    "state_names = ['Alabama','Alaska','Arizona','Arkansas','California', 'Colorado', 'Connecticut', 'Delaware',\n",
    " 'District of Columbia', 'Florida', 'Georgia', 'Guam', 'Hawaii', 'Idaho', 'Illinois', 'Indiana', 'Iowa',\n",
    " 'Kansas', 'Kentucky', 'Louisiana', 'Maine', 'Maryland', 'Massachusetts', 'Michigan', 'Minnesota', 'Mississippi',\n",
    " 'Missouri', 'Montana', 'Nebraska', 'Nevada', 'New Hampshire', 'New Jersey', 'New Mexico', 'New York',\n",
    " 'North Carolina', 'North Dakota', 'Ohio', 'Oklahoma', 'Oregon', 'Pennsylvania', 'Puerto Rico', 'Rhode Island',\n",
    " 'South Carolina', 'South Dakota', 'Tennessee', 'Texas', 'Utah', 'Vermont', 'Virginia', 'Washington',\n",
    " 'West Virginia', 'Wisconsin', 'Wyoming']"
   ]
  },
  {
   "cell_type": "code",
   "execution_count": null,
   "id": "2e1f0ef8",
   "metadata": {},
   "outputs": [],
   "source": [
    "interact_manual(plot_state, state=state_names);"
   ]
  },
  {
   "cell_type": "markdown",
   "id": "5879fdee",
   "metadata": {},
   "source": [
    "## Done! 😇\n",
    "\n",
    "That's it! There's nowhere for you to submit this, as labs are not assignments. However, please ask any questions you have with this notebook in lab or on Ed."
   ]
  },
  {
   "cell_type": "markdown",
   "id": "f2594529",
   "metadata": {
    "deletable": false,
    "editable": false
   },
   "source": [
    "---\n",
    "\n",
    "To double-check your work, the cell below will rerun all of the autograder tests."
   ]
  },
  {
   "cell_type": "code",
   "execution_count": null,
   "id": "62014038",
   "metadata": {
    "deletable": false,
    "editable": false
   },
   "outputs": [],
   "source": [
    "grader.check_all()"
   ]
  },
  {
   "cell_type": "markdown",
   "id": "2283c1d0",
   "metadata": {
    "deletable": false,
    "editable": false
   },
   "source": [
    "## Submission\n",
    "\n",
    "Make sure you have run all cells in your notebook in order before running the cell below, so that all images/graphs appear in the output. The cell below will generate a zip file for you to submit. **Please save before exporting!**"
   ]
  },
  {
   "cell_type": "code",
   "execution_count": null,
   "id": "11d11c7e",
   "metadata": {
    "deletable": false,
    "editable": false
   },
   "outputs": [],
   "source": [
    "# Save your notebook first, then run this cell to export your submission.\n",
    "grader.export(pdf=False)"
   ]
  },
  {
   "cell_type": "markdown",
   "id": "e66d425e",
   "metadata": {},
   "source": [
    " "
   ]
  }
 ],
 "metadata": {
  "kernelspec": {
   "display_name": "Python 3 (ipykernel)",
   "language": "python",
   "name": "python3"
  },
  "language_info": {
   "codemirror_mode": {
    "name": "ipython",
    "version": 3
   },
   "file_extension": ".py",
   "mimetype": "text/x-python",
   "name": "python",
   "nbconvert_exporter": "python",
   "pygments_lexer": "ipython3",
   "version": "3.9.11"
  }
 },
 "nbformat": 4,
 "nbformat_minor": 5
}
