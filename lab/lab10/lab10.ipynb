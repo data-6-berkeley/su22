{
 "cells": [
  {
   "cell_type": "code",
   "execution_count": null,
   "id": "e798f329",
   "metadata": {
    "deletable": false,
    "editable": false
   },
   "outputs": [],
   "source": [
    "# Initialize Otter\n",
    "import otter\n",
    "grader = otter.Notebook(\"lab10.ipynb\")"
   ]
  },
  {
   "cell_type": "markdown",
   "id": "4af5625f",
   "metadata": {},
   "source": [
    "# Lab 10 - Randomness and Simulation"
   ]
  },
  {
   "cell_type": "code",
   "execution_count": 1,
   "id": "85d115b3",
   "metadata": {},
   "outputs": [],
   "source": [
    "# Just run this cell to load in the relevant dependencies\n",
    "from IPython.display import display, HTML\n",
    "from datascience import *\n",
    "import numpy as np\n",
    "\n",
    "import matplotlib.pyplot as plt\n",
    "%matplotlib inline\n",
    "plt.style.use('ggplot')"
   ]
  },
  {
   "cell_type": "markdown",
   "id": "a79772da",
   "metadata": {},
   "source": [
    "## Part 1: Randomness\n",
    "\n",
    "As you've seen in lecture, computers give the illusion of randomness by using **pseudo-random** processes. We, as data scientists, can *control* the randomness of our computer by using a *seed*. \n",
    "\n",
    "Run the following cell **multiple times** to set a random seed value of 42 and then call the `np.random.randint` function. You'll quickly notice that the cell will always output the same integer every time."
   ]
  },
  {
   "cell_type": "code",
   "execution_count": 2,
   "id": "d57047c6",
   "metadata": {},
   "outputs": [],
   "source": [
    "np.random.seed(42)\n",
    "np.random.randint(0, 100)"
   ]
  },
  {
   "cell_type": "markdown",
   "id": "7fc37334",
   "metadata": {},
   "source": [
    "**Question 1:** Play around with the seed value assigned to the `my_seed_val` variable. What happens to the resulting call to `randint` when you change the seed value? What stays the same?"
   ]
  },
  {
   "cell_type": "code",
   "execution_count": 3,
   "id": "6be8fb01",
   "metadata": {},
   "outputs": [],
   "source": [
    "my_seed_val = 500\n",
    "np.random.seed(my_seed_val)\n",
    "np.random.randint(0, 100)"
   ]
  },
  {
   "cell_type": "markdown",
   "id": "3833ac1b",
   "metadata": {
    "deletable": false,
    "editable": false
   },
   "source": [
    "<!-- BEGIN QUESTION -->\n",
    "\n",
    "<!--\n",
    "BEGIN QUESTION\n",
    "name: q1\n",
    "points: 0\n",
    "manual: true\n",
    "-->"
   ]
  },
  {
   "cell_type": "markdown",
   "id": "38f488c1",
   "metadata": {},
   "source": [
    "_Type your answer here, replacing this text._"
   ]
  },
  {
   "cell_type": "markdown",
   "id": "7205085f",
   "metadata": {
    "deletable": false,
    "editable": false
   },
   "source": [
    "<!-- END QUESTION -->\n",
    "\n",
    "<!-- BEGIN QUESTION -->\n",
    "\n",
    "### `np.random.randint`\n",
    "\n",
    "The `randint` function takes in three arguments: a **start**, **stop**, and an optional **size**. In the cells above, we generated a single number in the range $[0,99)$. For more detail on the `randint` function, visit the Lecture 25 Slides.\n",
    "\n",
    "**Question 2**: In the following cell, generate an array of 100 integers between -500 and 500, inclusive on **both ends**. Assign the resulting array to `hundo_ints`.\n",
    "\n",
    "<!--\n",
    "BEGIN QUESTION\n",
    "name: q2\n",
    "points: 0\n",
    "manual: true\n",
    "-->"
   ]
  },
  {
   "cell_type": "code",
   "execution_count": 4,
   "id": "163fcf02",
   "metadata": {},
   "outputs": [],
   "source": [
    "# Seed set for testing purposes -- don't touch!\n",
    "np.random.seed(42)\n",
    "\n",
    "hundo_ints = np.random.randint(-500,501, 100)\n",
    "hundo_ints"
   ]
  },
  {
   "cell_type": "code",
   "execution_count": null,
   "id": "ce779641",
   "metadata": {
    "deletable": false,
    "editable": false
   },
   "outputs": [],
   "source": [
    "grader.check(\"q2\")"
   ]
  },
  {
   "cell_type": "markdown",
   "id": "375f72c5",
   "metadata": {
    "deletable": false,
    "editable": false
   },
   "source": [
    "<!-- END QUESTION -->\n",
    "\n",
    "**Question 3 (Up or Down)**: In the world of tennis, it's commonplace to start a friendly match with the question: \"*Up or down?*\". One participant will spin their tennis racket on its head and let go -- whichever way the tennis racket is facing (i.e. up or down) determines who will serve first. The following is considered **up**.\n",
    "<figure>\n",
    "    <img src=\"images/up.jpeg\" alt='missing' width=150 height=150/>\n",
    "</figure>\n",
    "\n",
    "**Task:** Using `np.random.choice`, create an array called `ups_and_downs` containing the results of 1,000 spins of the tennis racket, assuming that *up* and *down* are both equally likely outcomes.\n",
    "\n",
    "<!--\n",
    "BEGIN QUESTION\n",
    "name: q3\n",
    "points: 0\n",
    "-->"
   ]
  },
  {
   "cell_type": "code",
   "execution_count": 9,
   "id": "f8bc0dd4",
   "metadata": {},
   "outputs": [],
   "source": [
    "# Seed set for testing purposes -- don't touch!\n",
    "np.random.seed(42)\n",
    "\n",
    "choices = ...\n",
    "ups_and_downs = ...\n",
    "ups_and_downs"
   ]
  },
  {
   "cell_type": "code",
   "execution_count": null,
   "id": "22e5d2b1",
   "metadata": {
    "deletable": false,
    "editable": false
   },
   "outputs": [],
   "source": [
    "grader.check(\"q3\")"
   ]
  },
  {
   "cell_type": "markdown",
   "id": "de92f7c5",
   "metadata": {},
   "source": [
    "## Part 2: The Monty Hall Problem\n",
    "<br>\n",
    "\n",
    "<img src=\"images/monty_hall.png\" width=500, height=400></img>\n",
    "\n",
    "You may already be familiar with the classic conundrum of the *Monty Hall Problem*, but here's a brief explanation of it. From [Wolfram](https://mathworld.wolfram.com/MontyHallProblem.html):\n",
    "> Assume that a room is equipped with **three doors**. Behind two are goats, and behind the third is a **shiny new car**. You are asked to pick a door, and will win whatever is behind it. Let's say you pick door 1. Before the door is opened, however, someone who knows what's behind the doors (Monty Hall) opens one of the other two doors, revealing a goat, and asks you if you wish to change your selection to the third door (i.e., the door which neither you picked nor he opened). The Monty Hall problem is deciding **whether or not you should switch doors**.\n",
    "\n",
    "In this section of the lab, you'll run a **simulation** to answer the question raised above.\n",
    "\n",
    "### Playing the Game\n",
    "\n",
    "Before we dive into the simulation itself, let's get a feel for the actual game as described above. Below, we've defined the `monty_hall` function which simulates an actual game of the **Monty Hall Problem**. "
   ]
  },
  {
   "cell_type": "code",
   "execution_count": 14,
   "id": "2bde567a",
   "metadata": {},
   "outputs": [],
   "source": [
    "def monty_hall():\n",
    "    choice = int(input(\"What door would you like to choose?\\n\"))\n",
    "    \n",
    "    new_order_doors = np.random.permutation([\"goat\", \"goat\", \"car\"])\n",
    "    picked = new_order_doors.item(choice-1)\n",
    "    new_options = [\"goat\", \"car\"]\n",
    "    print(\"Monty reveals one of the goats!\")\n",
    "    second_choice = input(\"Would you like to 'stay' or 'switch'?\\n\")\n",
    "    \n",
    "    if second_choice == \"stay\":\n",
    "        if picked == \"car\":\n",
    "            display(HTML(\"<h1>🎉 You Win! 🎉</h1>\"))\n",
    "        else:\n",
    "            display(HTML(\"<h1>👎 You Lose. 👎</h1>\"))\n",
    "        return picked\n",
    "    elif second_choice == \"switch\":\n",
    "        new_options.remove(picked)\n",
    "        if new_options[0] == \"car\":\n",
    "            display(HTML(\"<h1>🎉 You Win! 🎉</h1>\"))\n",
    "        else:\n",
    "            display(HTML(\"<h1>👎 You Lose. 👎</h1>\"))\n",
    "        return new_options[0]"
   ]
  },
  {
   "cell_type": "code",
   "execution_count": 15,
   "id": "16bc43b2",
   "metadata": {},
   "outputs": [],
   "source": [
    "# Just run this cell and follow the prompts\n",
    "monty_hall()"
   ]
  },
  {
   "cell_type": "markdown",
   "id": "3632547c",
   "metadata": {},
   "source": [
    "## What's the Optimal Strategy?\n",
    "\n",
    "In order to run a simulation, we'll provide you with several helpful variables. The first is `goats`, an array of the two goats. The second is a function, `other_goat`, which, given a goat, it will return a string representing the **other goat**. This is important to distinguish the two goats from one another."
   ]
  },
  {
   "cell_type": "code",
   "execution_count": 16,
   "id": "06817438",
   "metadata": {},
   "outputs": [],
   "source": [
    "goats = make_array('first goat', 'second goat')"
   ]
  },
  {
   "cell_type": "code",
   "execution_count": 17,
   "id": "8ba9bf9b",
   "metadata": {},
   "outputs": [],
   "source": [
    "def other_goat(x):\n",
    "    if x == 'first goat':\n",
    "        return 'second goat'\n",
    "    elif x == 'second goat':\n",
    "        return 'first goat'"
   ]
  },
  {
   "cell_type": "markdown",
   "id": "b33b364a",
   "metadata": {},
   "source": [
    "Run the following cells to see the `other_goat` function in action:"
   ]
  },
  {
   "cell_type": "code",
   "execution_count": 18,
   "id": "13c12854",
   "metadata": {},
   "outputs": [],
   "source": [
    "other_goat('first goat')"
   ]
  },
  {
   "cell_type": "code",
   "execution_count": 19,
   "id": "08c4d7e4",
   "metadata": {},
   "outputs": [],
   "source": [
    "other_goat('second goat')"
   ]
  },
  {
   "cell_type": "markdown",
   "id": "c7e8fd4b",
   "metadata": {},
   "source": [
    "### All Three Items\n",
    "\n",
    "Let's store both goats and the car into the new `hidden_behind_doors`."
   ]
  },
  {
   "cell_type": "code",
   "execution_count": 20,
   "id": "d29d28bc",
   "metadata": {},
   "outputs": [],
   "source": [
    "hidden_behind_doors = np.append(goats, 'car')\n",
    "hidden_behind_doors"
   ]
  },
  {
   "cell_type": "markdown",
   "id": "bb991222",
   "metadata": {},
   "source": [
    "### The Investigation\n",
    "\n",
    "Now it's time for the actual game. Once again, we'll define another helpful function called `run_monty_hall_simulation` which will simulate **one game** in a slightly different way than above. The function returns an **array of three items**: the contestant's guess, the door revealed by Monty Hall, and the item that is behind the remaining door."
   ]
  },
  {
   "cell_type": "code",
   "execution_count": 21,
   "id": "0fe11730",
   "metadata": {},
   "outputs": [],
   "source": [
    "def run_monty_hall_simulation():\n",
    "    \"\"\"Return \n",
    "    [contestant's guess, what Monty reveals, what remains behind the other door]\"\"\"\n",
    "    \n",
    "    contestant_guess = np.random.choice(hidden_behind_doors)\n",
    "    \n",
    "    if contestant_guess == 'first goat':\n",
    "        return make_array(contestant_guess, 'second goat', 'car')\n",
    "    \n",
    "    if contestant_guess == 'second goat':\n",
    "        return make_array(contestant_guess, 'first goat', 'car')\n",
    "    \n",
    "    if contestant_guess == 'car':\n",
    "        revealed = np.random.choice(goats)\n",
    "        return make_array(contestant_guess, revealed, other_goat(revealed))"
   ]
  },
  {
   "cell_type": "markdown",
   "id": "cdfeb4fe",
   "metadata": {},
   "source": [
    "Run the following cell to simulate one game (you don't need to pass any arguments into the `monty_hall_game` function):"
   ]
  },
  {
   "cell_type": "code",
   "execution_count": 22,
   "id": "f3f9be42",
   "metadata": {},
   "outputs": [],
   "source": [
    "run_monty_hall_simulation()"
   ]
  },
  {
   "cell_type": "markdown",
   "id": "d3b67ec7",
   "metadata": {},
   "source": [
    "We can interpret these results as: the original choice of door had the `\"first goat\"` behind it, Monty revealed the `\"second goat\"`, and the remaining door had the `\"car\"` behind it."
   ]
  },
  {
   "cell_type": "markdown",
   "id": "b6cdda2b",
   "metadata": {},
   "source": [
    "### Collecting the Data\n",
    "\n",
    "In order to accurately answer the question of *switching*, the best course of action is to simulate *many, many games* and see the results in aggregate. Then, we'll be able analyze the results to make our decision. The following cell will run 10,000 games and store the results in a new table called `games`."
   ]
  },
  {
   "cell_type": "code",
   "execution_count": 23,
   "id": "ba9881ba",
   "metadata": {},
   "outputs": [],
   "source": [
    "games = Table(make_array('Guess', 'Revealed', 'Remaining'))\n",
    "\n",
    "for i in np.arange(10000):\n",
    "    games.append(run_monty_hall_simulation())\n",
    "\n",
    "games.show(5)"
   ]
  },
  {
   "cell_type": "markdown",
   "id": "8f89431b",
   "metadata": {},
   "source": [
    "### What's in the Remaining Door?\n",
    "\n",
    "Let's now aggregate the results by our **original choice of door** and the item in the **remaining door**. You'll notice that we originally chose each door around the same number of times (~1/3 for each door), but the car is in the remaining door ~2/3rds of the time."
   ]
  },
  {
   "cell_type": "code",
   "execution_count": 24,
   "id": "6ecdae8e",
   "metadata": {},
   "outputs": [],
   "source": [
    "original_choice = games.group('Guess')\n",
    "original_choice"
   ]
  },
  {
   "cell_type": "code",
   "execution_count": 25,
   "id": "78ed9d15",
   "metadata": {},
   "outputs": [],
   "source": [
    "remaining_door = games.group('Remaining')\n",
    "remaining_door"
   ]
  },
  {
   "cell_type": "markdown",
   "id": "020c2390",
   "metadata": {},
   "source": [
    "Let's combine our results into one, cleanly-formatted table:"
   ]
  },
  {
   "cell_type": "code",
   "execution_count": 26,
   "id": "2d8fdcf1",
   "metadata": {},
   "outputs": [],
   "source": [
    "joined = original_choice.join('Guess', remaining_door, 'Remaining')\n",
    "combined = joined.relabeled(0, 'Item').relabeled(1, 'Original Door').relabeled(2, 'Remaining Door')\n",
    "combined"
   ]
  },
  {
   "cell_type": "markdown",
   "id": "8d4b98a7",
   "metadata": {
    "deletable": false,
    "editable": false
   },
   "source": [
    "<!-- BEGIN QUESTION -->\n",
    "\n",
    "### Visualizing Our Results\n",
    "\n",
    "While staring at the numbers in the table may be helpful, the most effective way to understand the results of our simulation is via a visualization.\n",
    "\n",
    "**Question 4:** In the following cell, produce a horizontal bar chart which plots each of **car**, **first goat**, and **second goat** as categories, each with two bars: one representing the count of *Original Door* from the simulation and one representing the count of *Remaining Door* from the simulation.\n",
    "\n",
    "<!--\n",
    "BEGIN QUESTION\n",
    "name: q3\n",
    "points: 0\n",
    "manual: true\n",
    "-->"
   ]
  },
  {
   "cell_type": "code",
   "execution_count": 27,
   "id": "2ba20a44",
   "metadata": {},
   "outputs": [],
   "source": [
    "combined.barh(\"Item\")"
   ]
  },
  {
   "cell_type": "markdown",
   "id": "bdfd25a4",
   "metadata": {},
   "source": [
    "<!-- END QUESTION -->\n",
    "\n",
    "\n",
    "\n",
    "Assuming you've plotted the bar chart above correctly, you should see clear evidence that **switching doors** is the better move. Switching doors gives you nearly a **66% chance** that you'll win the car. "
   ]
  },
  {
   "cell_type": "markdown",
   "id": "6b6068f7",
   "metadata": {},
   "source": [
    "## Done! 😇\n",
    "\n",
    "That's it! There's nowhere for you to submit this, as labs are not assignments. However, please ask any questions you have with this notebook in lab or on Ed. "
   ]
  },
  {
   "cell_type": "markdown",
   "id": "8501e766",
   "metadata": {
    "deletable": false,
    "editable": false
   },
   "source": [
    "---\n",
    "\n",
    "To double-check your work, the cell below will rerun all of the autograder tests."
   ]
  },
  {
   "cell_type": "code",
   "execution_count": null,
   "id": "b1495494",
   "metadata": {
    "deletable": false,
    "editable": false
   },
   "outputs": [],
   "source": [
    "grader.check_all()"
   ]
  },
  {
   "cell_type": "markdown",
   "id": "d73ad5da",
   "metadata": {
    "deletable": false,
    "editable": false
   },
   "source": [
    "## Submission\n",
    "\n",
    "Make sure you have run all cells in your notebook in order before running the cell below, so that all images/graphs appear in the output. The cell below will generate a zip file for you to submit. **Please save before exporting!**"
   ]
  },
  {
   "cell_type": "code",
   "execution_count": null,
   "id": "ca91350f",
   "metadata": {
    "deletable": false,
    "editable": false
   },
   "outputs": [],
   "source": [
    "# Save your notebook first, then run this cell to export your submission.\n",
    "grader.export(pdf=False)"
   ]
  },
  {
   "cell_type": "markdown",
   "id": "ed5cb8c2",
   "metadata": {},
   "source": [
    " "
   ]
  }
 ],
 "metadata": {
  "kernelspec": {
   "display_name": "Python 3 (ipykernel)",
   "language": "python",
   "name": "python3"
  },
  "language_info": {
   "codemirror_mode": {
    "name": "ipython",
    "version": 3
   },
   "file_extension": ".py",
   "mimetype": "text/x-python",
   "name": "python",
   "nbconvert_exporter": "python",
   "pygments_lexer": "ipython3",
   "version": "3.9.11"
  }
 },
 "nbformat": 4,
 "nbformat_minor": 5
}
