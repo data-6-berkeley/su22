{
 "cells": [
  {
   "cell_type": "markdown",
   "metadata": {},
   "source": [
    "# Lecture 1 – Introduction\n",
    "\n",
    "## Data 6, Summer 2022"
   ]
  },
  {
   "cell_type": "markdown",
   "metadata": {},
   "source": [
    "This is a Jupyter notebook. We'll write all of our code in this class in a Jupyter notebook.\n",
    "\n",
    "Today, don't worry about how any of this works. Throughout the summer, we'll learn how each of these pieces work.\n",
    "\n",
    "**Note: If you're having trouble loading any plots or maps, try using Google Chrome.**"
   ]
  },
  {
   "cell_type": "code",
   "execution_count": null,
   "metadata": {},
   "outputs": [],
   "source": [
    "from datascience import *\n",
    "import numpy as np\n",
    "import matplotlib.pyplot as plt\n",
    "%matplotlib inline\n",
    "import plotly.graph_objects as go"
   ]
  },
  {
   "cell_type": "markdown",
   "metadata": {},
   "source": [
    "## California universities\n",
    "\n",
    "Here, we'll load in data about all public universities in California. The data comes from [this Wikipedia article](https://en.wikipedia.org/wiki/List_of_colleges_and_universities_in_California)."
   ]
  },
  {
   "cell_type": "code",
   "execution_count": null,
   "metadata": {},
   "outputs": [],
   "source": [
    "# Load in the \"california_universities.csv\" file in the \"data\" folder\n",
    "uni = Table.read_table('data/california_universities.csv')\n",
    "\n",
    "# Remove irregular formatting\n",
    "uni = uni.with_columns(\n",
    "    'Enrollment', uni.apply(lambda s: int(s.replace(',', '')), 'Enrollment'),\n",
    "    'Founded', uni.apply(lambda s: int(s.replace('*', '')), 'Founded')\n",
    ")"
   ]
  },
  {
   "cell_type": "markdown",
   "metadata": {},
   "source": [
    "Data is often stored in tables. In about a few weeks, we'll become very, very familiar with how tables work. But for now, let's just observe."
   ]
  },
  {
   "cell_type": "code",
   "execution_count": null,
   "metadata": {},
   "outputs": [],
   "source": [
    "# Let's see what the table looks like\n",
    "uni.show(5)"
   ]
  },
  {
   "cell_type": "markdown",
   "metadata": {},
   "source": [
    "Let's start asking questions."
   ]
  },
  {
   "cell_type": "markdown",
   "metadata": {},
   "source": [
    "### What are the largest public universities in California?"
   ]
  },
  {
   "cell_type": "code",
   "execution_count": null,
   "metadata": {},
   "outputs": [],
   "source": [
    "# Largest universities - table format\n",
    "uni.sort(\"Enrollment\", descending=True).show(5)"
   ]
  },
  {
   "cell_type": "code",
   "execution_count": null,
   "metadata": {},
   "outputs": [],
   "source": [
    "# Can we visualize the sizes of each university?\n",
    "uni.sort(\"Enrollment\", descending=True).barh(\"Name\", \"Enrollment\")"
   ]
  },
  {
   "cell_type": "markdown",
   "metadata": {},
   "source": [
    "### What's the oldest public university in California? 🤔"
   ]
  },
  {
   "cell_type": "code",
   "execution_count": null,
   "metadata": {},
   "outputs": [],
   "source": [
    "# Oldest university - table format\n",
    "uni.sort(\"Founded\", descending=False).show(1)"
   ]
  },
  {
   "cell_type": "code",
   "execution_count": null,
   "metadata": {},
   "outputs": [],
   "source": [
    "# How can we visualize the ages of the universities?\n",
    "uni_copy = uni.sort('Founded').with_columns('Total Universities', np.arange(1, uni.num_rows + 1))\n",
    "uni_copy.plot('Founded', 'Total Universities')"
   ]
  },
  {
   "cell_type": "markdown",
   "metadata": {},
   "source": [
    "Let's add some spice."
   ]
  },
  {
   "cell_type": "code",
   "execution_count": null,
   "metadata": {},
   "outputs": [],
   "source": [
    "# Just run me\n",
    "fig = go.Figure()\n",
    "\n",
    "fig.add_trace(\n",
    "    go.Scatter(x = uni_copy.column('Founded'), \n",
    "               y = uni_copy.column('Total Universities'), \n",
    "               hovertext = uni_copy.column('Name'),\n",
    "               mode = 'markers',\n",
    "              )\n",
    ")\n",
    "\n",
    "fig.add_trace(\n",
    "    go.Scatter(x = uni_copy.column('Founded'), \n",
    "               y = uni_copy.column('Total Universities'),\n",
    "               line = dict(color = 'blue'),\n",
    "              )\n",
    ")\n",
    "\n",
    "fig.update_layout(title = 'Total Number of Public Universities in California by Year',\n",
    "                  xaxis_title = 'Year',\n",
    "                  yaxis_title = 'Total Universities',\n",
    "                  showlegend = False)\n",
    "\n",
    "fig.show()"
   ]
  },
  {
   "cell_type": "markdown",
   "metadata": {},
   "source": [
    "## Public Universities in California (and you!)"
   ]
  },
  {
   "cell_type": "markdown",
   "metadata": {},
   "source": [
    "### Where are the public universities in California located?"
   ]
  },
  {
   "cell_type": "markdown",
   "metadata": {},
   "source": [
    "First, we need some additional information:"
   ]
  },
  {
   "cell_type": "code",
   "execution_count": null,
   "metadata": {},
   "outputs": [],
   "source": [
    "# Load in the \"california_universities.csv\" file in the \"data\" folder\n",
    "uni_locations = Table.read_table('data/uni_locations.csv')\n",
    "uni_locations"
   ]
  },
  {
   "cell_type": "markdown",
   "metadata": {},
   "source": [
    "Let combine some data."
   ]
  },
  {
   "cell_type": "code",
   "execution_count": null,
   "metadata": {},
   "outputs": [],
   "source": [
    "# Join the `uni` and `uni_locations` tables\n",
    "unis_with_location = uni.join(\"Name\", uni_locations, \"University\")\n",
    "unis_with_location"
   ]
  },
  {
   "cell_type": "markdown",
   "metadata": {},
   "source": [
    "What if we want to plot these on a map?\n",
    "\n",
    "We can use the `plotly` API (essentially a library of additional things we can do with Python)!"
   ]
  },
  {
   "cell_type": "code",
   "execution_count": null,
   "metadata": {},
   "outputs": [],
   "source": [
    "# Just run me\n",
    "\n",
    "def bubble_plot(tbl, text, size=None, lat=\"Latitude\", lon=\"Longitude\", color=None, title=None, scale_factor=150):\n",
    "    fig = go.Figure()\n",
    "    \n",
    "    if not color:\n",
    "        color_arr = ['royalblue'] * tbl.num_rows\n",
    "    else:\n",
    "        color_arr = tbl.column(color)\n",
    "        \n",
    "    if not size:\n",
    "        size_arr = [1 / scale_factor] * tbl.num_rows\n",
    "    else:\n",
    "        size_arr = tbl.column(size) / scale_factor\n",
    "\n",
    "    fig = fig.add_trace(go.Scattergeo(\n",
    "                            lat = tbl.column(lat), \n",
    "                            lon = tbl.column(lon),\n",
    "                            text = tbl.column(text),\n",
    "                            marker = dict(\n",
    "                                size = size_arr,\n",
    "                                sizemode = 'area',\n",
    "                                color = color_arr\n",
    "                            )\n",
    "                        ))\n",
    "\n",
    "    fig.update_geos(fitbounds=\"locations\")\n",
    "    fig.update_layout(\n",
    "        geo = dict(\n",
    "                scope = 'usa',\n",
    "                landcolor = 'rgb(217, 217, 217)',\n",
    "            ),\n",
    "        title = title\n",
    "    )\n",
    "    \n",
    "    return fig\n"
   ]
  },
  {
   "cell_type": "code",
   "execution_count": null,
   "metadata": {},
   "outputs": [],
   "source": [
    "# Call the `bubble_plot` function, passing in the proper arguments\n",
    "fig = bubble_plot(unis_with_location, text=\"Name\", size=\"Enrollment\", title=\"Public Universities in California\")\n",
    "fig.show()"
   ]
  },
  {
   "cell_type": "markdown",
   "metadata": {},
   "source": [
    "Can we add more information?"
   ]
  },
  {
   "cell_type": "code",
   "execution_count": null,
   "metadata": {},
   "outputs": [],
   "source": [
    "# Let's add a color column\n",
    "unis_with_color = unis_with_location.with_column('Color', ['crimson'] * unis_with_location.num_rows)\n",
    "unis_with_color"
   ]
  },
  {
   "cell_type": "code",
   "execution_count": null,
   "metadata": {},
   "outputs": [],
   "source": [
    "# Use the `bubble_plot` function to map the universities, this time specifying the bubble color\n",
    "fig = bubble_plot(unis_with_color, text=\"Name\", size=\"Enrollment\", color=\"Color\", title=\"Public Universities in California\")\n",
    "fig.show()"
   ]
  },
  {
   "cell_type": "markdown",
   "metadata": {},
   "source": [
    "It would be nice if this were color-coded based on UC vs. CSU. We can do that!"
   ]
  },
  {
   "cell_type": "code",
   "execution_count": null,
   "metadata": {},
   "outputs": [],
   "source": [
    "#Just run me\n",
    "def code_uc(name):\n",
    "    if 'University of California' in name:\n",
    "        return 'royalblue'\n",
    "    else:\n",
    "        return 'crimson'"
   ]
  },
  {
   "cell_type": "code",
   "execution_count": null,
   "metadata": {},
   "outputs": [],
   "source": [
    "# Apply the `code_uc` function to the 'Name' column to color-code the universities\n",
    "uni_locations_separate = unis_with_color.with_column('Color', unis_with_color.apply(code_uc, 'Name'))\n",
    "uni_locations_separate"
   ]
  },
  {
   "cell_type": "code",
   "execution_count": null,
   "metadata": {},
   "outputs": [],
   "source": [
    "# Plot the color-coded universities on the map with the `bubble_plot` function\n",
    "fig = bubble_plot(uni_locations_separate, text=\"Name\", size=\"Enrollment\", color=\"Color\", title=\"UCs and CSUs\")\n",
    "fig.show()"
   ]
  },
  {
   "cell_type": "markdown",
   "metadata": {},
   "source": [
    "Violà!"
   ]
  },
  {
   "cell_type": "markdown",
   "metadata": {},
   "source": [
    "### Where are you all from?"
   ]
  },
  {
   "cell_type": "markdown",
   "metadata": {},
   "source": [
    "Using the responses from the welcome survey, let's use our knowledge of Python to plot the hometowns of the students in Data 6!"
   ]
  },
  {
   "cell_type": "code",
   "execution_count": null,
   "metadata": {},
   "outputs": [],
   "source": [
    "# Load in the \"student_hometowns.csv\" file from the \"data\" folder\n",
    "hometowns = Table.read_table(\"data/student_hometowns.csv\")\n",
    "hometowns"
   ]
  },
  {
   "cell_type": "code",
   "execution_count": null,
   "metadata": {},
   "outputs": [],
   "source": [
    "# Plot the hometowns of Data 6 students using the `bubble_plot` function\n",
    "fig = bubble_plot(hometowns, text=\"City\", title=\"Where Data 6 Students Are From\", scale_factor=0.02)\n",
    "fig.show()"
   ]
  },
  {
   "cell_type": "markdown",
   "metadata": {},
   "source": [
    "The end!"
   ]
  }
 ],
 "metadata": {
  "kernelspec": {
   "display_name": "Python 3",
   "language": "python",
   "name": "python3"
  },
  "language_info": {
   "codemirror_mode": {
    "name": "ipython",
    "version": 3
   },
   "file_extension": ".py",
   "mimetype": "text/x-python",
   "name": "python",
   "nbconvert_exporter": "python",
   "pygments_lexer": "ipython3",
   "version": "3.8.8"
  }
 },
 "nbformat": 4,
 "nbformat_minor": 2
}
