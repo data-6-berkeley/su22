{
 "cells": [
  {
   "cell_type": "markdown",
   "metadata": {},
   "source": [
    "# Lecture 8 – Visualizing Categorical Variables\n",
    "\n",
    "## Data 6, Summer 2022"
   ]
  },
  {
   "cell_type": "code",
   "execution_count": null,
   "metadata": {},
   "outputs": [],
   "source": [
    "from datascience import * # datascience has plotting features built in\n",
    "import numpy as np\n",
    "\n",
    "Table.interactive_plots() "
   ]
  },
  {
   "cell_type": "markdown",
   "metadata": {},
   "source": [
    "## Bar Charts"
   ]
  },
  {
   "cell_type": "markdown",
   "metadata": {},
   "source": [
    "Bar charts are helpful for visualizing the relationship between a categorical variable and a numerical variable, or for visualizing the distribution of a categorical variable. For example, we can visualize how many of the [R1 Universities](https://en.wikipedia.org/wiki/List_of_research_universities_in_the_United_States) in the U.S. are public vs. private schools."
   ]
  },
  {
   "cell_type": "code",
   "execution_count": null,
   "metadata": {},
   "outputs": [],
   "source": [
    "schools = Table.read_table('data/r1_with_students.csv')\n",
    "schools"
   ]
  },
  {
   "cell_type": "markdown",
   "metadata": {},
   "source": [
    "Don't worry about what `tbl.group()` does. You will learn about this later."
   ]
  },
  {
   "cell_type": "code",
   "execution_count": null,
   "metadata": {},
   "outputs": [],
   "source": [
    "schools_by_type = schools.group('Type')"
   ]
  },
  {
   "cell_type": "code",
   "execution_count": null,
   "metadata": {
    "scrolled": false
   },
   "outputs": [],
   "source": [
    "schools_by_type.barh('Type')"
   ]
  },
  {
   "cell_type": "markdown",
   "metadata": {},
   "source": [
    "If you table has more than two columns, you may need to specify both the categories (the y axis) and the value to be displayed on the x axis by following this form: `tbl.barh(y_label, x_label)`\n",
    "\n",
    "For example, given `state_mean_enrollments` a table of average enrollment at R1 universities by state, we can generate a bar chart of average enrollment by state."
   ]
  },
  {
   "cell_type": "code",
   "execution_count": null,
   "metadata": {},
   "outputs": [],
   "source": [
    "# Don't worry about how this cell works — just run it for now\n",
    "state_mean_enrollments = schools.select('State', 'Number_students', 'Score_Result').group('State', np.mean) \\\n",
    "                                .relabeled('Number_students mean', 'Average Enrollment')\n",
    "state_mean_enrollments"
   ]
  },
  {
   "cell_type": "code",
   "execution_count": null,
   "metadata": {},
   "outputs": [],
   "source": [
    "state_mean_enrollments.barh('State', 'Average Enrollment')"
   ]
  },
  {
   "cell_type": "markdown",
   "metadata": {},
   "source": [
    "Looking at this graph, Minnesota clearly stands out. Why is Minnesota's average enrollment more than 20,000 students about all other states?"
   ]
  },
  {
   "cell_type": "markdown",
   "metadata": {},
   "source": [
    "### Example: Top 10 Songs on Spotify\n",
    "\n",
    "The streaming service Spotify has a lot of data we can work with. For the next few questions, we will work with Spotify data from 2021. You can download an up-to-date copy of this data [here](https://spotifycharts.com/regional)."
   ]
  },
  {
   "cell_type": "code",
   "execution_count": null,
   "metadata": {},
   "outputs": [],
   "source": [
    "streams = Table.read_table('data/regional-global-daily-latest.csv', header = 1)\n",
    "top_10 = streams.select('Track Name', 'Streams').take(np.arange(10))"
   ]
  },
  {
   "cell_type": "code",
   "execution_count": null,
   "metadata": {
    "scrolled": true
   },
   "outputs": [],
   "source": [
    "top_10"
   ]
  },
  {
   "cell_type": "code",
   "execution_count": null,
   "metadata": {},
   "outputs": [],
   "source": [
    "... # Create a bar chart of streams for each of the songs in the top 10"
   ]
  },
  {
   "cell_type": "markdown",
   "metadata": {},
   "source": [
    "### Example 2: Artists with the Most Songs in the Spotify Top 200 (2021)"
   ]
  },
  {
   "cell_type": "code",
   "execution_count": null,
   "metadata": {},
   "outputs": [],
   "source": [
    "streams"
   ]
  },
  {
   "cell_type": "code",
   "execution_count": null,
   "metadata": {},
   "outputs": [],
   "source": [
    "# Don't worry about this yet — just run this cell\n",
    "artists_top_200 = streams.group('Artist') \\\n",
    "                         .sort('count', descending = True) \\\n",
    "                         .where('count', are.above(2))\n",
    "artists_top_200"
   ]
  },
  {
   "cell_type": "code",
   "execution_count": null,
   "metadata": {},
   "outputs": [],
   "source": [
    "... # Plot a bar chart of artists by number of singles in the top 200"
   ]
  },
  {
   "cell_type": "markdown",
   "metadata": {},
   "source": [
    "### Example 3: Number of Students at the 15 Largest Universities (in our dataset)"
   ]
  },
  {
   "cell_type": "code",
   "execution_count": null,
   "metadata": {
    "scrolled": true
   },
   "outputs": [],
   "source": [
    "schools"
   ]
  },
  {
   "cell_type": "code",
   "execution_count": null,
   "metadata": {},
   "outputs": [],
   "source": [
    "# Find the 15 schools with the largest enrollment\n",
    "# Don't worry, you haven't learn .take() yet\n",
    "top_15_schools = schools.select('University', 'Number_students') \\\n",
    "                        .sort('Number_students', descending = True) \\\n",
    "                        .take(np.arange(15))"
   ]
  },
  {
   "cell_type": "markdown",
   "metadata": {},
   "source": [
    "Can you find Berkeley?"
   ]
  },
  {
   "cell_type": "code",
   "execution_count": null,
   "metadata": {},
   "outputs": [],
   "source": [
    "... # Plot the enrollment of the top 15 schools"
   ]
  },
  {
   "cell_type": "markdown",
   "metadata": {},
   "source": [
    "### Quick Check 1"
   ]
  },
  {
   "cell_type": "markdown",
   "metadata": {},
   "source": [
    "Given the table `schools`, generate a bar chart of the enrollments at universities in Georgia (GA) (James' home state). _(Hint: `.where` will be helpful here)_"
   ]
  },
  {
   "cell_type": "code",
   "execution_count": null,
   "metadata": {},
   "outputs": [],
   "source": [
    "..."
   ]
  },
  {
   "cell_type": "markdown",
   "metadata": {},
   "source": [
    "## Grouped Bar Charts"
   ]
  },
  {
   "cell_type": "markdown",
   "metadata": {},
   "source": [
    "To illustrate the power of bar charts (and visualization more generally), we are going to work with economic data from countries across the world. The `gdp` table includes both _nominal_ GDP (essentially total economic output in dollars) and GDP [Purchasing Power Parity (PPP)](https://en.wikipedia.org/wiki/Purchasing_power_parity), which adjusts for the cost of living across countries."
   ]
  },
  {
   "cell_type": "code",
   "execution_count": null,
   "metadata": {},
   "outputs": [],
   "source": [
    "# Just run this cell.\n",
    "def remove_comma(s):\n",
    "    return int(s.replace(',', ''))\n",
    "\n",
    "nominal = Table.read_table('data/gdp-nominal.csv')\n",
    "ppp = Table.read_table('data/gdp-ppp.csv').drop(3)\n",
    "gdp = nominal.join('Country/Territory', ppp) \\\n",
    "       .drop(1, 3) \\\n",
    "       .relabeled(['GDP(US$million)', 'GDP(millions of current Int$)'], ['GDP Nominal', 'GDP PPP'])\n",
    "gdp = gdp.with_columns(\n",
    "    'GDP Nominal', gdp.apply(remove_comma, 'GDP Nominal'),\n",
    "    'GDP PPP', gdp.apply(remove_comma, 'GDP PPP')\n",
    ")\n",
    "gdp = gdp.sort('GDP Nominal', descending = True)"
   ]
  },
  {
   "cell_type": "code",
   "execution_count": null,
   "metadata": {},
   "outputs": [],
   "source": [
    "gdp"
   ]
  },
  {
   "cell_type": "markdown",
   "metadata": {},
   "source": [
    "In the cell below, we first take the first 15 countries sorted by nominal GDP. The specifics of how we do this isn't in scope yet, but consider why we first take a subset of all 181 rows in our table. _(Hint: what would our bar chart look like if we tried to plot bars for all countries?)_"
   ]
  },
  {
   "cell_type": "code",
   "execution_count": null,
   "metadata": {},
   "outputs": [],
   "source": [
    "gdp_top_15 = gdp.take(np.arange(15))"
   ]
  },
  {
   "cell_type": "markdown",
   "metadata": {},
   "source": [
    "Now, let's look at the nominal GDP for these top 15 countries"
   ]
  },
  {
   "cell_type": "code",
   "execution_count": null,
   "metadata": {},
   "outputs": [],
   "source": [
    "gdp_top_15.select('Country/Territory', 'GDP Nominal').barh('Country/Territory')"
   ]
  },
  {
   "cell_type": "markdown",
   "metadata": {},
   "source": [
    "We can also look at the GDP PPP for these countries."
   ]
  },
  {
   "cell_type": "code",
   "execution_count": null,
   "metadata": {},
   "outputs": [],
   "source": [
    "gdp_top_15.select('Country/Territory', 'GDP PPP').barh('Country/Territory')"
   ]
  },
  {
   "cell_type": "markdown",
   "metadata": {},
   "source": [
    "**Since the scales/magnitudes of both of these variables are similar** it makes sense to plot them in one overlaid (or \"grouped\") bar chart:"
   ]
  },
  {
   "cell_type": "code",
   "execution_count": null,
   "metadata": {},
   "outputs": [],
   "source": [
    "... # Create an overlaid histogram of nominal and PPP GDP for `gdp_top_15`"
   ]
  },
  {
   "cell_type": "markdown",
   "metadata": {},
   "source": [
    "We can sort by GDP PPP, too:"
   ]
  },
  {
   "cell_type": "code",
   "execution_count": null,
   "metadata": {},
   "outputs": [],
   "source": [
    "gdp.sort('GDP PPP', descending = True).take(np.arange(15)).barh('Country/Territory')"
   ]
  },
  {
   "cell_type": "markdown",
   "metadata": {},
   "source": [
    "## Customization"
   ]
  },
  {
   "cell_type": "markdown",
   "metadata": {},
   "source": [
    "You can also customize bar charts (and other plots) by adding in the following optional inputs:\n",
    "* `title`: The title of the bar chart\n",
    "* `xaxis_title`: The x axis label\n",
    "* `yaxis_title`: The y axis label\n",
    "* `width`: The width of the chart\n",
    "* `height`: The height of the chart"
   ]
  },
  {
   "cell_type": "markdown",
   "metadata": {},
   "source": [
    "For example:"
   ]
  },
  {
   "cell_type": "code",
   "execution_count": null,
   "metadata": {},
   "outputs": [],
   "source": [
    "gdp_bottom_15 = gdp.sort('GDP Nominal', descending = False).take(np.arange(15))\n",
    "gdp_bottom_15"
   ]
  },
  {
   "cell_type": "code",
   "execution_count": null,
   "metadata": {},
   "outputs": [],
   "source": [
    "gdp_bottom_15.barh('Country/Territory', \n",
    "                   title= 'Top 15 Lowest GDP (Nominal) Countries',\n",
    "                   xaxis_title = 'Nominal GDP (Millions of $)',\n",
    "                   yaxis_title = 'Country',\n",
    "                   height = 600,\n",
    "                   width = 900,)"
   ]
  },
  {
   "cell_type": "markdown",
   "metadata": {},
   "source": [
    "### Quick Check 2"
   ]
  },
  {
   "cell_type": "code",
   "execution_count": null,
   "metadata": {},
   "outputs": [],
   "source": [
    "top_gdp = gdp.take(np.arange(7))\n",
    "top_gdp"
   ]
  },
  {
   "cell_type": "markdown",
   "metadata": {},
   "source": [
    "Fill in the blanks in the cell below to produce this bar chart:\n",
    "\n",
    "<img src=\"bar_chart_example.png\" width=\"70%\">"
   ]
  },
  {
   "cell_type": "code",
   "execution_count": null,
   "metadata": {},
   "outputs": [],
   "source": [
    "top_gdp.barh(..., width = 800, height = 500,\n",
    "             ... = 'GDP (Millions of USD)', ... = 'Country',\n",
    "             ... = 'The top 7 ranked countries by GDP (Nominal) in 2020')"
   ]
  }
 ],
 "metadata": {
  "kernelspec": {
   "display_name": "Python 3",
   "language": "python",
   "name": "python3"
  },
  "language_info": {
   "codemirror_mode": {
    "name": "ipython",
    "version": 3
   },
   "file_extension": ".py",
   "mimetype": "text/x-python",
   "name": "python",
   "nbconvert_exporter": "python",
   "pygments_lexer": "ipython3",
   "version": "3.8.8"
  }
 },
 "nbformat": 4,
 "nbformat_minor": 4
}
