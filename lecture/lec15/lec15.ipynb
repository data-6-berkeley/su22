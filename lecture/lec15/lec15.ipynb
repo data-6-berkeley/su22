{
 "cells": [
  {
   "cell_type": "markdown",
   "metadata": {},
   "source": [
    "# Lecture 15 – Applying\n",
    "\n",
    "## Data 6, Summer 2022"
   ]
  },
  {
   "cell_type": "code",
   "execution_count": 1,
   "metadata": {},
   "outputs": [],
   "source": [
    "from datascience import *\n",
    "import numpy as np"
   ]
  },
  {
   "cell_type": "markdown",
   "metadata": {},
   "source": [
    "## Motivation"
   ]
  },
  {
   "cell_type": "code",
   "execution_count": 2,
   "metadata": {},
   "outputs": [],
   "source": [
    "pups = Table.read_table('data/pups.csv')"
   ]
  },
  {
   "cell_type": "code",
   "execution_count": 3,
   "metadata": {
    "scrolled": true
   },
   "outputs": [
    {
     "data": {
      "text/html": [
       "<table border=\"1\" class=\"dataframe\">\n",
       "    <thead>\n",
       "        <tr>\n",
       "            <th>name</th> <th>age</th> <th>size</th>\n",
       "        </tr>\n",
       "    </thead>\n",
       "    <tbody>\n",
       "        <tr>\n",
       "            <td>Junior Smith</td> <td>11  </td> <td>medium</td>\n",
       "        </tr>\n",
       "        <tr>\n",
       "            <td>Rex Rogers  </td> <td>7   </td> <td>big   </td>\n",
       "        </tr>\n",
       "        <tr>\n",
       "            <td>Flash Heat  </td> <td>3   </td> <td>big   </td>\n",
       "        </tr>\n",
       "        <tr>\n",
       "            <td>Reese Bo    </td> <td>4   </td> <td>medium</td>\n",
       "        </tr>\n",
       "        <tr>\n",
       "            <td>Polo Cash   </td> <td>2   </td> <td>small </td>\n",
       "        </tr>\n",
       "    </tbody>\n",
       "</table>"
      ],
      "text/plain": [
       "name         | age  | size\n",
       "Junior Smith | 11   | medium\n",
       "Rex Rogers   | 7    | big\n",
       "Flash Heat   | 3    | big\n",
       "Reese Bo     | 4    | medium\n",
       "Polo Cash    | 2    | small"
      ]
     },
     "execution_count": 3,
     "metadata": {},
     "output_type": "execute_result"
    }
   ],
   "source": [
    "pups"
   ]
  },
  {
   "cell_type": "code",
   "execution_count": 4,
   "metadata": {},
   "outputs": [
    {
     "data": {
      "text/html": [
       "<table border=\"1\" class=\"dataframe\">\n",
       "    <thead>\n",
       "        <tr>\n",
       "            <th>name</th> <th>age</th> <th>size</th> <th>human years</th>\n",
       "        </tr>\n",
       "    </thead>\n",
       "    <tbody>\n",
       "        <tr>\n",
       "            <td>Junior Smith</td> <td>11  </td> <td>medium</td> <td>77         </td>\n",
       "        </tr>\n",
       "        <tr>\n",
       "            <td>Rex Rogers  </td> <td>7   </td> <td>big   </td> <td>49         </td>\n",
       "        </tr>\n",
       "        <tr>\n",
       "            <td>Flash Heat  </td> <td>3   </td> <td>big   </td> <td>21         </td>\n",
       "        </tr>\n",
       "        <tr>\n",
       "            <td>Reese Bo    </td> <td>4   </td> <td>medium</td> <td>28         </td>\n",
       "        </tr>\n",
       "        <tr>\n",
       "            <td>Polo Cash   </td> <td>2   </td> <td>small </td> <td>14         </td>\n",
       "        </tr>\n",
       "    </tbody>\n",
       "</table>"
      ],
      "text/plain": [
       "name         | age  | size   | human years\n",
       "Junior Smith | 11   | medium | 77\n",
       "Rex Rogers   | 7    | big    | 49\n",
       "Flash Heat   | 3    | big    | 21\n",
       "Reese Bo     | 4    | medium | 28\n",
       "Polo Cash    | 2    | small  | 14"
      ]
     },
     "execution_count": 4,
     "metadata": {},
     "output_type": "execute_result"
    }
   ],
   "source": [
    "pups.with_columns(\n",
    "    'human years', pups.column('age') * 7\n",
    ")"
   ]
  },
  {
   "cell_type": "markdown",
   "metadata": {},
   "source": [
    "## Apply"
   ]
  },
  {
   "cell_type": "code",
   "execution_count": 5,
   "metadata": {},
   "outputs": [],
   "source": [
    "def seven_times(x):\n",
    "    return 7 * x"
   ]
  },
  {
   "cell_type": "code",
   "execution_count": 6,
   "metadata": {},
   "outputs": [
    {
     "data": {
      "text/plain": [
       "array([77, 49, 21, 28, 14])"
      ]
     },
     "execution_count": 6,
     "metadata": {},
     "output_type": "execute_result"
    }
   ],
   "source": [
    "pups.apply(seven_times, 'age')"
   ]
  },
  {
   "cell_type": "markdown",
   "metadata": {},
   "source": [
    "Note, we wouldn't actually use the above example since we could just write `pups.column('age') * 7`.\n",
    "\n",
    "Here's a more useful example:"
   ]
  },
  {
   "cell_type": "code",
   "execution_count": 7,
   "metadata": {},
   "outputs": [],
   "source": [
    "def email_from_name(name):\n",
    "    first, last = name.split(' ')\n",
    "    email = first + '.' + last + '@dogschool.edu'\n",
    "    return email.lower()"
   ]
  },
  {
   "cell_type": "code",
   "execution_count": 8,
   "metadata": {},
   "outputs": [
    {
     "data": {
      "text/plain": [
       "'champ.major@dogschool.edu'"
      ]
     },
     "execution_count": 8,
     "metadata": {},
     "output_type": "execute_result"
    }
   ],
   "source": [
    "# Can use email_from_name on a single argument\n",
    "email_from_name('Champ Major')"
   ]
  },
  {
   "cell_type": "code",
   "execution_count": 9,
   "metadata": {},
   "outputs": [
    {
     "data": {
      "text/plain": [
       "array(['junior.smith@dogschool.edu', 'rex.rogers@dogschool.edu',\n",
       "       'flash.heat@dogschool.edu', 'reese.bo@dogschool.edu',\n",
       "       'polo.cash@dogschool.edu'],\n",
       "      dtype='<U26')"
      ]
     },
     "execution_count": 9,
     "metadata": {},
     "output_type": "execute_result"
    }
   ],
   "source": [
    "pups.apply(email_from_name, 'name')"
   ]
  },
  {
   "cell_type": "code",
   "execution_count": 10,
   "metadata": {},
   "outputs": [
    {
     "data": {
      "text/html": [
       "<table border=\"1\" class=\"dataframe\">\n",
       "    <thead>\n",
       "        <tr>\n",
       "            <th>name</th> <th>age</th> <th>size</th> <th>email</th>\n",
       "        </tr>\n",
       "    </thead>\n",
       "    <tbody>\n",
       "        <tr>\n",
       "            <td>Junior Smith</td> <td>11  </td> <td>medium</td> <td>junior.smith@dogschool.edu</td>\n",
       "        </tr>\n",
       "        <tr>\n",
       "            <td>Rex Rogers  </td> <td>7   </td> <td>big   </td> <td>rex.rogers@dogschool.edu  </td>\n",
       "        </tr>\n",
       "        <tr>\n",
       "            <td>Flash Heat  </td> <td>3   </td> <td>big   </td> <td>flash.heat@dogschool.edu  </td>\n",
       "        </tr>\n",
       "        <tr>\n",
       "            <td>Reese Bo    </td> <td>4   </td> <td>medium</td> <td>reese.bo@dogschool.edu    </td>\n",
       "        </tr>\n",
       "        <tr>\n",
       "            <td>Polo Cash   </td> <td>2   </td> <td>small </td> <td>polo.cash@dogschool.edu   </td>\n",
       "        </tr>\n",
       "    </tbody>\n",
       "</table>"
      ],
      "text/plain": [
       "name         | age  | size   | email\n",
       "Junior Smith | 11   | medium | junior.smith@dogschool.edu\n",
       "Rex Rogers   | 7    | big    | rex.rogers@dogschool.edu\n",
       "Flash Heat   | 3    | big    | flash.heat@dogschool.edu\n",
       "Reese Bo     | 4    | medium | reese.bo@dogschool.edu\n",
       "Polo Cash    | 2    | small  | polo.cash@dogschool.edu"
      ]
     },
     "execution_count": 10,
     "metadata": {},
     "output_type": "execute_result"
    }
   ],
   "source": [
    "pups.with_columns('email', pups.apply(email_from_name, 'name'))"
   ]
  },
  {
   "cell_type": "code",
   "execution_count": 11,
   "metadata": {},
   "outputs": [],
   "source": [
    "# Note, the parameter names don't\n",
    "# need to be 'age' and 'size'\n",
    "def human_years_converter(years_old, kind):\n",
    "    if kind == 'small':\n",
    "        return years_old * 6\n",
    "    elif kind == 'medium':\n",
    "        return years_old * 7\n",
    "    else:\n",
    "        return years_old * 8"
   ]
  },
  {
   "cell_type": "code",
   "execution_count": 12,
   "metadata": {},
   "outputs": [
    {
     "data": {
      "text/plain": [
       "77"
      ]
     },
     "execution_count": 12,
     "metadata": {},
     "output_type": "execute_result"
    }
   ],
   "source": [
    "human_years_converter(11, 'medium')"
   ]
  },
  {
   "cell_type": "code",
   "execution_count": 13,
   "metadata": {},
   "outputs": [
    {
     "data": {
      "text/plain": [
       "66"
      ]
     },
     "execution_count": 13,
     "metadata": {},
     "output_type": "execute_result"
    }
   ],
   "source": [
    "human_years_converter(11, 'small')"
   ]
  },
  {
   "cell_type": "code",
   "execution_count": 14,
   "metadata": {},
   "outputs": [
    {
     "data": {
      "text/plain": [
       "array([77, 56, 24, 28, 12])"
      ]
     },
     "execution_count": 14,
     "metadata": {},
     "output_type": "execute_result"
    }
   ],
   "source": [
    "pups.apply(human_years_converter, 'age', 'size')"
   ]
  },
  {
   "cell_type": "code",
   "execution_count": 15,
   "metadata": {},
   "outputs": [
    {
     "data": {
      "text/html": [
       "<table border=\"1\" class=\"dataframe\">\n",
       "    <thead>\n",
       "        <tr>\n",
       "            <th>name</th> <th>age</th> <th>size</th> <th>accurate human years</th>\n",
       "        </tr>\n",
       "    </thead>\n",
       "    <tbody>\n",
       "        <tr>\n",
       "            <td>Junior Smith</td> <td>11  </td> <td>medium</td> <td>77                  </td>\n",
       "        </tr>\n",
       "        <tr>\n",
       "            <td>Rex Rogers  </td> <td>7   </td> <td>big   </td> <td>56                  </td>\n",
       "        </tr>\n",
       "        <tr>\n",
       "            <td>Flash Heat  </td> <td>3   </td> <td>big   </td> <td>24                  </td>\n",
       "        </tr>\n",
       "        <tr>\n",
       "            <td>Reese Bo    </td> <td>4   </td> <td>medium</td> <td>28                  </td>\n",
       "        </tr>\n",
       "        <tr>\n",
       "            <td>Polo Cash   </td> <td>2   </td> <td>small </td> <td>12                  </td>\n",
       "        </tr>\n",
       "    </tbody>\n",
       "</table>"
      ],
      "text/plain": [
       "name         | age  | size   | accurate human years\n",
       "Junior Smith | 11   | medium | 77\n",
       "Rex Rogers   | 7    | big    | 56\n",
       "Flash Heat   | 3    | big    | 24\n",
       "Reese Bo     | 4    | medium | 28\n",
       "Polo Cash    | 2    | small  | 12"
      ]
     },
     "execution_count": 15,
     "metadata": {},
     "output_type": "execute_result"
    }
   ],
   "source": [
    "pups.with_columns('accurate human years', pups.apply(human_years_converter, 'age', 'size'))"
   ]
  },
  {
   "cell_type": "markdown",
   "metadata": {},
   "source": [
    "### Quick Check 1"
   ]
  },
  {
   "cell_type": "code",
   "execution_count": 16,
   "metadata": {},
   "outputs": [
    {
     "data": {
      "text/html": [
       "<table border=\"1\" class=\"dataframe\">\n",
       "    <thead>\n",
       "        <tr>\n",
       "            <th>year</th> <th>location</th> <th>first</th> <th>last</th> <th>title</th> <th>gross</th> <th>regular</th> <th>overtime</th> <th>other</th>\n",
       "        </tr>\n",
       "    </thead>\n",
       "    <tbody>\n",
       "        <tr>\n",
       "            <td>2015</td> <td>Berkeley</td> <td> ANNE     </td> <td>AABOE     </td> <td>BUS SYS ANL 4        </td> <td>124,454</td> <td>124,454</td> <td>0       </td> <td>0     </td>\n",
       "        </tr>\n",
       "        <tr>\n",
       "            <td>2015</td> <td>Berkeley</td> <td> DAVID    </td> <td>AAKER     </td> <td>RECALL FACULTY       </td> <td>2,500  </td> <td>0      </td> <td>0       </td> <td>2,500 </td>\n",
       "        </tr>\n",
       "        <tr>\n",
       "            <td>2015</td> <td>Berkeley</td> <td> ELIZABETH</td> <td>ABEL      </td> <td>PROF-AY              </td> <td>138,775</td> <td>138,775</td> <td>0       </td> <td>0     </td>\n",
       "        </tr>\n",
       "        <tr>\n",
       "            <td>2015</td> <td>Berkeley</td> <td> NORMAN   </td> <td>ABRAHAMSON</td> <td>ADJ PROF-AY-1/9-B/E/E</td> <td>19,668 </td> <td>19,668 </td> <td>0       </td> <td>0     </td>\n",
       "        </tr>\n",
       "        <tr>\n",
       "            <td>2015</td> <td>Berkeley</td> <td> BARBARA  </td> <td>ABRAMS    </td> <td>PROF-AY              </td> <td>191,162</td> <td>169,862</td> <td>0       </td> <td>21,300</td>\n",
       "        </tr>\n",
       "        <tr>\n",
       "            <td>2015</td> <td>Berkeley</td> <td> JOHN     </td> <td>ACZON     </td> <td>FINANCIAL SVC ANL 3  </td> <td>83,510 </td> <td>78,510 </td> <td>0       </td> <td>5,000 </td>\n",
       "        </tr>\n",
       "        <tr>\n",
       "            <td>2015</td> <td>Berkeley</td> <td> ANTHONY  </td> <td>ADAMS     </td> <td>RES-FY               </td> <td>9,587  </td> <td>9,587  </td> <td>0       </td> <td>0     </td>\n",
       "        </tr>\n",
       "        <tr>\n",
       "            <td>2015</td> <td>Berkeley</td> <td> PENNY    </td> <td>HINES     </td> <td>ACAD HR ANL 5        </td> <td>126,707</td> <td>126,707</td> <td>0       </td> <td>0     </td>\n",
       "        </tr>\n",
       "        <tr>\n",
       "            <td>2015</td> <td>Berkeley</td> <td> ANINDITA </td> <td>ADHIKARI  </td> <td>SR LECT SOE-AY       </td> <td>107,345</td> <td>107,345</td> <td>0       </td> <td>0     </td>\n",
       "        </tr>\n",
       "        <tr>\n",
       "            <td>2015</td> <td>Berkeley</td> <td> ILAN     </td> <td>ADLER     </td> <td>PROF-AY-B/E/E        </td> <td>166,617</td> <td>151,617</td> <td>0       </td> <td>15,000</td>\n",
       "        </tr>\n",
       "    </tbody>\n",
       "</table>\n",
       "<p>... (281504 rows omitted)</p>"
      ],
      "text/plain": [
       "year | location | first      | last       | title                 | gross   | regular | overtime | other\n",
       "2015 | Berkeley |  ANNE      | AABOE      | BUS SYS ANL 4         | 124,454 | 124,454 | 0        | 0\n",
       "2015 | Berkeley |  DAVID     | AAKER      | RECALL FACULTY        | 2,500   | 0       | 0        | 2,500\n",
       "2015 | Berkeley |  ELIZABETH | ABEL       | PROF-AY               | 138,775 | 138,775 | 0        | 0\n",
       "2015 | Berkeley |  NORMAN    | ABRAHAMSON | ADJ PROF-AY-1/9-B/E/E | 19,668  | 19,668  | 0        | 0\n",
       "2015 | Berkeley |  BARBARA   | ABRAMS     | PROF-AY               | 191,162 | 169,862 | 0        | 21,300\n",
       "2015 | Berkeley |  JOHN      | ACZON      | FINANCIAL SVC ANL 3   | 83,510  | 78,510  | 0        | 5,000\n",
       "2015 | Berkeley |  ANTHONY   | ADAMS      | RES-FY                | 9,587   | 9,587   | 0        | 0\n",
       "2015 | Berkeley |  PENNY     | HINES      | ACAD HR ANL 5         | 126,707 | 126,707 | 0        | 0\n",
       "2015 | Berkeley |  ANINDITA  | ADHIKARI   | SR LECT SOE-AY        | 107,345 | 107,345 | 0        | 0\n",
       "2015 | Berkeley |  ILAN      | ADLER      | PROF-AY-B/E/E         | 166,617 | 151,617 | 0        | 15,000\n",
       "... (281504 rows omitted)"
      ]
     },
     "execution_count": 16,
     "metadata": {},
     "output_type": "execute_result"
    }
   ],
   "source": [
    "# Large file – this may take ~10 seconds to load\n",
    "salary = Table.read_table('https://media.githubusercontent.com/media/dailycal-projects/ucb-faculty-salary/master/data/salary/salary_2015.csv')\n",
    "salary"
   ]
  },
  {
   "cell_type": "code",
   "execution_count": 17,
   "metadata": {},
   "outputs": [
    {
     "data": {
      "text/html": [
       "<table border=\"1\" class=\"dataframe\">\n",
       "    <thead>\n",
       "        <tr>\n",
       "            <th>first</th> <th>last</th> <th>title</th> <th>gross</th>\n",
       "        </tr>\n",
       "    </thead>\n",
       "    <tbody>\n",
       "        <tr>\n",
       "            <td> ELIZABETH</td> <td>ABEL      </td> <td>PROF-AY              </td> <td>138,775</td>\n",
       "        </tr>\n",
       "        <tr>\n",
       "            <td> NORMAN   </td> <td>ABRAHAMSON</td> <td>ADJ PROF-AY-1/9-B/E/E</td> <td>19,668 </td>\n",
       "        </tr>\n",
       "        <tr>\n",
       "            <td> BARBARA  </td> <td>ABRAMS    </td> <td>PROF-AY              </td> <td>191,162</td>\n",
       "        </tr>\n",
       "        <tr>\n",
       "            <td> ILAN     </td> <td>ADLER     </td> <td>PROF-AY-B/E/E        </td> <td>166,617</td>\n",
       "        </tr>\n",
       "        <tr>\n",
       "            <td> VINOD    </td> <td>AGGARWAL  </td> <td>PROF-AY              </td> <td>167,525</td>\n",
       "        </tr>\n",
       "        <tr>\n",
       "            <td> ALICE    </td> <td>AGOGINO   </td> <td>PROF-AY-B/E/E        </td> <td>243,259</td>\n",
       "        </tr>\n",
       "        <tr>\n",
       "            <td> DAVID    </td> <td>ALDOUS    </td> <td>PROF-AY              </td> <td>218,666</td>\n",
       "        </tr>\n",
       "        <tr>\n",
       "            <td> RONELLE  </td> <td>ALEXANDER </td> <td>PROF-AY              </td> <td>167,642</td>\n",
       "        </tr>\n",
       "        <tr>\n",
       "            <td> NEZAR    </td> <td>ALSAYYAD  </td> <td>PROF-AY              </td> <td>210,389</td>\n",
       "        </tr>\n",
       "        <tr>\n",
       "            <td> GENEVIEVE</td> <td>AMES      </td> <td>ADJ PROF-AY          </td> <td>9,783  </td>\n",
       "        </tr>\n",
       "    </tbody>\n",
       "</table>\n",
       "<p>... (17564 rows omitted)</p>"
      ],
      "text/plain": [
       "first      | last       | title                 | gross\n",
       " ELIZABETH | ABEL       | PROF-AY               | 138,775\n",
       " NORMAN    | ABRAHAMSON | ADJ PROF-AY-1/9-B/E/E | 19,668\n",
       " BARBARA   | ABRAMS     | PROF-AY               | 191,162\n",
       " ILAN      | ADLER      | PROF-AY-B/E/E         | 166,617\n",
       " VINOD     | AGGARWAL   | PROF-AY               | 167,525\n",
       " ALICE     | AGOGINO    | PROF-AY-B/E/E         | 243,259\n",
       " DAVID     | ALDOUS     | PROF-AY               | 218,666\n",
       " RONELLE   | ALEXANDER  | PROF-AY               | 167,642\n",
       " NEZAR     | ALSAYYAD   | PROF-AY               | 210,389\n",
       " GENEVIEVE | AMES       | ADJ PROF-AY           | 9,783\n",
       "... (17564 rows omitted)"
      ]
     },
     "execution_count": 17,
     "metadata": {},
     "output_type": "execute_result"
    }
   ],
   "source": [
    "profs = salary.select('first', 'last', 'title', 'gross').where('title', are.containing('PROF'))\n",
    "profs"
   ]
  },
  {
   "cell_type": "markdown",
   "metadata": {},
   "source": [
    "Look at the very last row of the output – that gross income doesn't look right."
   ]
  },
  {
   "cell_type": "code",
   "execution_count": 18,
   "metadata": {},
   "outputs": [
    {
     "data": {
      "text/html": [
       "<table border=\"1\" class=\"dataframe\">\n",
       "    <thead>\n",
       "        <tr>\n",
       "            <th>first</th> <th>last</th> <th>title</th> <th>gross</th>\n",
       "        </tr>\n",
       "    </thead>\n",
       "    <tbody>\n",
       "        <tr>\n",
       "            <td>STEVEN H   </td> <td>APPLEBAUM</td> <td>HS ASSOC CLIN PROF-HCOMP</td> <td>999,756</td>\n",
       "        </tr>\n",
       "        <tr>\n",
       "            <td>JOHN A     </td> <td>GLASPY   </td> <td>PROF-HCOMP              </td> <td>999,631</td>\n",
       "        </tr>\n",
       "        <tr>\n",
       "            <td>FRANK P.K. </td> <td>HSU      </td> <td>PROF OF CLIN-HCOMP      </td> <td>998,340</td>\n",
       "        </tr>\n",
       "        <tr>\n",
       "            <td>JOHN STUART</td> <td>NELSON   </td> <td>PROF-HCOMP              </td> <td>997,975</td>\n",
       "        </tr>\n",
       "        <tr>\n",
       "            <td>HANMIN     </td> <td>LEE      </td> <td>PROF OF CLIN-HCOMP      </td> <td>995,434</td>\n",
       "        </tr>\n",
       "        <tr>\n",
       "            <td>DENNIS J   </td> <td>SLAMON   </td> <td>PROF-HCOMP              </td> <td>991,973</td>\n",
       "        </tr>\n",
       "        <tr>\n",
       "            <td>BENJAMIN J </td> <td>ANSELL   </td> <td>HS CLIN PROF-HCOMP      </td> <td>991,543</td>\n",
       "        </tr>\n",
       "        <tr>\n",
       "            <td>NICHOLAS C </td> <td>SAENZ    </td> <td>HS CLIN PROF-HCOMP      </td> <td>991,463</td>\n",
       "        </tr>\n",
       "        <tr>\n",
       "            <td>JOSEPH F   </td> <td>GRECO    </td> <td>HS ASST CLIN PROF-HCOMP </td> <td>991,458</td>\n",
       "        </tr>\n",
       "        <tr>\n",
       "            <td>OMRI Y.    </td> <td>MARIAN   </td> <td>ACT PROF-AY-LAW         </td> <td>99,997 </td>\n",
       "        </tr>\n",
       "    </tbody>\n",
       "</table>\n",
       "<p>... (17564 rows omitted)</p>"
      ],
      "text/plain": [
       "first       | last      | title                    | gross\n",
       "STEVEN H    | APPLEBAUM | HS ASSOC CLIN PROF-HCOMP | 999,756\n",
       "JOHN A      | GLASPY    | PROF-HCOMP               | 999,631\n",
       "FRANK P.K.  | HSU       | PROF OF CLIN-HCOMP       | 998,340\n",
       "JOHN STUART | NELSON    | PROF-HCOMP               | 997,975\n",
       "HANMIN      | LEE       | PROF OF CLIN-HCOMP       | 995,434\n",
       "DENNIS J    | SLAMON    | PROF-HCOMP               | 991,973\n",
       "BENJAMIN J  | ANSELL    | HS CLIN PROF-HCOMP       | 991,543\n",
       "NICHOLAS C  | SAENZ     | HS CLIN PROF-HCOMP       | 991,463\n",
       "JOSEPH F    | GRECO     | HS ASST CLIN PROF-HCOMP  | 991,458\n",
       "OMRI Y.     | MARIAN    | ACT PROF-AY-LAW          | 99,997\n",
       "... (17564 rows omitted)"
      ]
     },
     "execution_count": 18,
     "metadata": {},
     "output_type": "execute_result"
    }
   ],
   "source": [
    "profs.sort('gross', descending = True)"
   ]
  },
  {
   "cell_type": "markdown",
   "metadata": {},
   "source": [
    "It's because the entries in the `'gross'` column are strings, not integers."
   ]
  },
  {
   "cell_type": "code",
   "execution_count": 19,
   "metadata": {},
   "outputs": [
    {
     "data": {
      "text/plain": [
       "'138,775'"
      ]
     },
     "execution_count": 19,
     "metadata": {},
     "output_type": "execute_result"
    }
   ],
   "source": [
    "profs.column('gross').item(0)"
   ]
  },
  {
   "cell_type": "markdown",
   "metadata": {},
   "source": [
    "Your job is to fix that!"
   ]
  },
  {
   "cell_type": "code",
   "execution_count": null,
   "metadata": {},
   "outputs": [],
   "source": [
    "def fix_income(income):\n",
    "    return _____\n",
    "\n",
    "fixed_income = profs.apply(_____, _____)\n",
    "\n",
    "profs = profs.with_columns(\n",
    "    'gross', _____\n",
    ")"
   ]
  },
  {
   "cell_type": "code",
   "execution_count": null,
   "metadata": {},
   "outputs": [],
   "source": []
  },
  {
   "cell_type": "markdown",
   "metadata": {},
   "source": [
    "## Example: "
   ]
  },
  {
   "cell_type": "markdown",
   "metadata": {},
   "source": [
    "## Masking"
   ]
  },
  {
   "cell_type": "code",
   "execution_count": 23,
   "metadata": {},
   "outputs": [],
   "source": [
    "numbers = np.array([15, 14, -2, 1, 9])"
   ]
  },
  {
   "cell_type": "code",
   "execution_count": 41,
   "metadata": {},
   "outputs": [
    {
     "data": {
      "text/plain": [
       "array([15, -2])"
      ]
     },
     "execution_count": 41,
     "metadata": {},
     "output_type": "execute_result"
    }
   ],
   "source": [
    "numbers[[True, False, True, False, False]]"
   ]
  },
  {
   "cell_type": "code",
   "execution_count": 24,
   "metadata": {},
   "outputs": [],
   "source": [
    "gradebook = Table().with_columns(\n",
    "    'Name', np.array(['Carrera', 'Panamera', 'Taycan', 'Cayenne', 'Macan', 'Cayman', 'Boxster']),\n",
    "    'Grading Option', np.array(['GRD', 'PNP', 'PNP', 'GRD', 'GRD', 'GRD', 'PNP']),\n",
    "    'Score', np.array([98, 86, 67.5, 45, 82, 88, 71])\n",
    ")"
   ]
  },
  {
   "cell_type": "code",
   "execution_count": 25,
   "metadata": {},
   "outputs": [
    {
     "data": {
      "text/html": [
       "<table border=\"1\" class=\"dataframe\">\n",
       "    <thead>\n",
       "        <tr>\n",
       "            <th>Name</th> <th>Grading Option</th> <th>Score</th>\n",
       "        </tr>\n",
       "    </thead>\n",
       "    <tbody>\n",
       "        <tr>\n",
       "            <td>Carrera </td> <td>GRD           </td> <td>98   </td>\n",
       "        </tr>\n",
       "        <tr>\n",
       "            <td>Panamera</td> <td>PNP           </td> <td>86   </td>\n",
       "        </tr>\n",
       "        <tr>\n",
       "            <td>Taycan  </td> <td>PNP           </td> <td>67.5 </td>\n",
       "        </tr>\n",
       "        <tr>\n",
       "            <td>Cayenne </td> <td>GRD           </td> <td>45   </td>\n",
       "        </tr>\n",
       "        <tr>\n",
       "            <td>Macan   </td> <td>GRD           </td> <td>82   </td>\n",
       "        </tr>\n",
       "        <tr>\n",
       "            <td>Cayman  </td> <td>GRD           </td> <td>88   </td>\n",
       "        </tr>\n",
       "        <tr>\n",
       "            <td>Boxster </td> <td>PNP           </td> <td>71   </td>\n",
       "        </tr>\n",
       "    </tbody>\n",
       "</table>"
      ],
      "text/plain": [
       "Name     | Grading Option | Score\n",
       "Carrera  | GRD            | 98\n",
       "Panamera | PNP            | 86\n",
       "Taycan   | PNP            | 67.5\n",
       "Cayenne  | GRD            | 45\n",
       "Macan    | GRD            | 82\n",
       "Cayman   | GRD            | 88\n",
       "Boxster  | PNP            | 71"
      ]
     },
     "execution_count": 25,
     "metadata": {},
     "output_type": "execute_result"
    }
   ],
   "source": [
    "gradebook"
   ]
  },
  {
   "cell_type": "code",
   "execution_count": 34,
   "metadata": {},
   "outputs": [
    {
     "data": {
      "text/html": [
       "<table border=\"1\" class=\"dataframe\">\n",
       "    <thead>\n",
       "        <tr>\n",
       "            <th>Name</th> <th>Grading Option</th> <th>Score</th>\n",
       "        </tr>\n",
       "    </thead>\n",
       "    <tbody>\n",
       "        <tr>\n",
       "            <td>Carrera</td> <td>GRD           </td> <td>98   </td>\n",
       "        </tr>\n",
       "        <tr>\n",
       "            <td>Cayenne</td> <td>GRD           </td> <td>45   </td>\n",
       "        </tr>\n",
       "        <tr>\n",
       "            <td>Macan  </td> <td>GRD           </td> <td>82   </td>\n",
       "        </tr>\n",
       "        <tr>\n",
       "            <td>Cayman </td> <td>GRD           </td> <td>88   </td>\n",
       "        </tr>\n",
       "    </tbody>\n",
       "</table>"
      ],
      "text/plain": [
       "Name    | Grading Option | Score\n",
       "Carrera | GRD            | 98\n",
       "Cayenne | GRD            | 45\n",
       "Macan   | GRD            | 82\n",
       "Cayman  | GRD            | 88"
      ]
     },
     "execution_count": 34,
     "metadata": {},
     "output_type": "execute_result"
    }
   ],
   "source": [
    "gradebook.where(make_array(True, False, False, True, True, True, False))"
   ]
  },
  {
   "cell_type": "code",
   "execution_count": 35,
   "metadata": {},
   "outputs": [],
   "source": [
    "letter_grade = gradebook.column(\"Grading Option\") == 'GRD'"
   ]
  },
  {
   "cell_type": "code",
   "execution_count": 36,
   "metadata": {},
   "outputs": [
    {
     "data": {
      "text/html": [
       "<table border=\"1\" class=\"dataframe\">\n",
       "    <thead>\n",
       "        <tr>\n",
       "            <th>Name</th> <th>Grading Option</th> <th>Score</th>\n",
       "        </tr>\n",
       "    </thead>\n",
       "    <tbody>\n",
       "        <tr>\n",
       "            <td>Carrera</td> <td>GRD           </td> <td>98   </td>\n",
       "        </tr>\n",
       "        <tr>\n",
       "            <td>Cayenne</td> <td>GRD           </td> <td>45   </td>\n",
       "        </tr>\n",
       "        <tr>\n",
       "            <td>Macan  </td> <td>GRD           </td> <td>82   </td>\n",
       "        </tr>\n",
       "        <tr>\n",
       "            <td>Cayman </td> <td>GRD           </td> <td>88   </td>\n",
       "        </tr>\n",
       "    </tbody>\n",
       "</table>"
      ],
      "text/plain": [
       "Name    | Grading Option | Score\n",
       "Carrera | GRD            | 98\n",
       "Cayenne | GRD            | 45\n",
       "Macan   | GRD            | 82\n",
       "Cayman  | GRD            | 88"
      ]
     },
     "execution_count": 36,
     "metadata": {},
     "output_type": "execute_result"
    }
   ],
   "source": [
    "gradebook.where(letter_grade)"
   ]
  },
  {
   "cell_type": "markdown",
   "metadata": {},
   "source": [
    "### Example: Countries\n",
    "\n",
    "Run the following cell – ignore the `lambda` parts:"
   ]
  },
  {
   "cell_type": "code",
   "execution_count": null,
   "metadata": {},
   "outputs": [],
   "source": [
    "countries = Table.read_table('data/countries.csv')\n",
    "countries = countries.relabeled('Country(or dependent territory)', 'Country') \\\n",
    "           .relabeled('% of world', '%') \\\n",
    "           .relabeled('Source(official or UN)', 'Source')\n",
    "countries = countries.with_columns(\n",
    "    'Country', countries.apply(lambda s: s[:s.index('[')].lower() if '[' in s else s.lower(), 'Country'),\n",
    "    'Population', countries.apply(lambda i: int(i.replace(',', '')), 'Population'),\n",
    "    '%', countries.apply(lambda f: float(f.replace('%', '')), '%')\n",
    ")"
   ]
  },
  {
   "cell_type": "code",
   "execution_count": null,
   "metadata": {},
   "outputs": [],
   "source": [
    "countries"
   ]
  },
  {
   "cell_type": "code",
   "execution_count": null,
   "metadata": {},
   "outputs": [],
   "source": [
    "def starts_or_ends_with_a(name):\n",
    "    return name[0] == 'a' or name[-1] == 'a'"
   ]
  },
  {
   "cell_type": "code",
   "execution_count": null,
   "metadata": {},
   "outputs": [],
   "source": [
    "countries.apply(starts_or_ends_with_a, 'Country')"
   ]
  },
  {
   "cell_type": "code",
   "execution_count": null,
   "metadata": {},
   "outputs": [],
   "source": [
    "countries.where(countries.apply(starts_or_ends_with_a, 'Country'))"
   ]
  }
 ],
 "metadata": {
  "kernelspec": {
   "display_name": "Python 3",
   "language": "python",
   "name": "python3"
  },
  "language_info": {
   "codemirror_mode": {
    "name": "ipython",
    "version": 3
   },
   "file_extension": ".py",
   "mimetype": "text/x-python",
   "name": "python",
   "nbconvert_exporter": "python",
   "pygments_lexer": "ipython3",
   "version": "3.8.8"
  }
 },
 "nbformat": 4,
 "nbformat_minor": 2
}
