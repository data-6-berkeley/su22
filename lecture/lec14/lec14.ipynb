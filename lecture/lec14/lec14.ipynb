{
 "cells": [
  {
   "cell_type": "markdown",
   "metadata": {},
   "source": [
    "# Lecture 14 – Grouping and Pivoting\n",
    "\n",
    "## Data 6, Summer 2022"
   ]
  },
  {
   "cell_type": "code",
   "execution_count": 1,
   "metadata": {},
   "outputs": [],
   "source": [
    "from datascience import *\n",
    "import numpy as np\n",
    "import matplotlib.pyplot as plt\n",
    "%matplotlib inline\n",
    "import plotly.express as px"
   ]
  },
  {
   "cell_type": "code",
   "execution_count": 4,
   "metadata": {},
   "outputs": [
    {
     "data": {
      "text/html": [
       "<table border=\"1\" class=\"dataframe\">\n",
       "    <thead>\n",
       "        <tr>\n",
       "            <th>University</th> <th>Number_students</th> <th>Score_Result</th> <th>Type</th> <th>City</th> <th>State</th>\n",
       "        </tr>\n",
       "    </thead>\n",
       "    <tbody>\n",
       "        <tr>\n",
       "            <td>Auburn University                 </td> <td>26641          </td> <td>33.4        </td> <td>Public              </td> <td>Auburn       </td> <td>AL   </td>\n",
       "        </tr>\n",
       "        <tr>\n",
       "            <td>Boston College                    </td> <td>12904          </td> <td>45.9        </td> <td>Private (non-profit)</td> <td>Chestnut Hill</td> <td>MA   </td>\n",
       "        </tr>\n",
       "        <tr>\n",
       "            <td>Boston University                 </td> <td>25662          </td> <td>68.4        </td> <td>Private (non-profit)</td> <td>Boston       </td> <td>MA   </td>\n",
       "        </tr>\n",
       "        <tr>\n",
       "            <td>Brandeis University               </td> <td>5375           </td> <td>50.3        </td> <td>Private (non-profit)</td> <td>Waltham      </td> <td>MA   </td>\n",
       "        </tr>\n",
       "        <tr>\n",
       "            <td>Brown University                  </td> <td>9391           </td> <td>70          </td> <td>Private (non-profit)</td> <td>Providence   </td> <td>RI   </td>\n",
       "        </tr>\n",
       "        <tr>\n",
       "            <td>California Institute of Technology</td> <td>2240           </td> <td>94.5        </td> <td>Private (non-profit)</td> <td>Pasadena     </td> <td>CA   </td>\n",
       "        </tr>\n",
       "        <tr>\n",
       "            <td>Carnegie Mellon University        </td> <td>13430          </td> <td>81.3        </td> <td>Private (non-profit)</td> <td>Pittsburgh   </td> <td>PA   </td>\n",
       "        </tr>\n",
       "        <tr>\n",
       "            <td>Case Western Reserve University   </td> <td>10654          </td> <td>60          </td> <td>Private (non-profit)</td> <td>Cleveland    </td> <td>OH   </td>\n",
       "        </tr>\n",
       "        <tr>\n",
       "            <td>Clemson University                </td> <td>21436          </td> <td>30.7        </td> <td>Public              </td> <td>Clemson      </td> <td>SC   </td>\n",
       "        </tr>\n",
       "        <tr>\n",
       "            <td>Columbia University               </td> <td>26586          </td> <td>87          </td> <td>Private (non-profit)</td> <td>New York     </td> <td>NY   </td>\n",
       "        </tr>\n",
       "    </tbody>\n",
       "</table>\n",
       "<p>... (86 rows omitted)</p>"
      ],
      "text/plain": [
       "University                         | Number_students | Score_Result | Type                 | City          | State\n",
       "Auburn University                  | 26641           | 33.4         | Public               | Auburn        | AL\n",
       "Boston College                     | 12904           | 45.9         | Private (non-profit) | Chestnut Hill | MA\n",
       "Boston University                  | 25662           | 68.4         | Private (non-profit) | Boston        | MA\n",
       "Brandeis University                | 5375            | 50.3         | Private (non-profit) | Waltham       | MA\n",
       "Brown University                   | 9391            | 70           | Private (non-profit) | Providence    | RI\n",
       "California Institute of Technology | 2240            | 94.5         | Private (non-profit) | Pasadena      | CA\n",
       "Carnegie Mellon University         | 13430           | 81.3         | Private (non-profit) | Pittsburgh    | PA\n",
       "Case Western Reserve University    | 10654           | 60           | Private (non-profit) | Cleveland     | OH\n",
       "Clemson University                 | 21436           | 30.7         | Public               | Clemson       | SC\n",
       "Columbia University                | 26586           | 87           | Private (non-profit) | New York      | NY\n",
       "... (86 rows omitted)"
      ]
     },
     "execution_count": 4,
     "metadata": {},
     "output_type": "execute_result"
    }
   ],
   "source": [
    "unis = Table.read_table(\"data/r1_with_students.csv\")\n",
    "unis"
   ]
  },
  {
   "cell_type": "code",
   "execution_count": 5,
   "metadata": {},
   "outputs": [
    {
     "data": {
      "text/html": [
       "<table border=\"1\" class=\"dataframe\">\n",
       "    <thead>\n",
       "        <tr>\n",
       "            <th>State</th> <th>count</th>\n",
       "        </tr>\n",
       "    </thead>\n",
       "    <tbody>\n",
       "        <tr>\n",
       "            <td>AL   </td> <td>3    </td>\n",
       "        </tr>\n",
       "        <tr>\n",
       "            <td>AR   </td> <td>1    </td>\n",
       "        </tr>\n",
       "        <tr>\n",
       "            <td>AZ   </td> <td>1    </td>\n",
       "        </tr>\n",
       "        <tr>\n",
       "            <td>CA   </td> <td>11   </td>\n",
       "        </tr>\n",
       "        <tr>\n",
       "            <td>CO   </td> <td>1    </td>\n",
       "        </tr>\n",
       "        <tr>\n",
       "            <td>CT   </td> <td>2    </td>\n",
       "        </tr>\n",
       "        <tr>\n",
       "            <td>DC   </td> <td>2    </td>\n",
       "        </tr>\n",
       "        <tr>\n",
       "            <td>DE   </td> <td>1    </td>\n",
       "        </tr>\n",
       "        <tr>\n",
       "            <td>FL   </td> <td>5    </td>\n",
       "        </tr>\n",
       "        <tr>\n",
       "            <td>GA   </td> <td>4    </td>\n",
       "        </tr>\n",
       "    </tbody>\n",
       "</table>\n",
       "<p>... (29 rows omitted)</p>"
      ],
      "text/plain": [
       "State | count\n",
       "AL    | 3\n",
       "AR    | 1\n",
       "AZ    | 1\n",
       "CA    | 11\n",
       "CO    | 1\n",
       "CT    | 2\n",
       "DC    | 2\n",
       "DE    | 1\n",
       "FL    | 5\n",
       "GA    | 4\n",
       "... (29 rows omitted)"
      ]
     },
     "execution_count": 5,
     "metadata": {},
     "output_type": "execute_result"
    }
   ],
   "source": [
    "unis.group('State')"
   ]
  },
  {
   "cell_type": "markdown",
   "metadata": {},
   "source": [
    "Run the following cell to load in our full dataset."
   ]
  },
  {
   "cell_type": "code",
   "execution_count": null,
   "metadata": {},
   "outputs": [],
   "source": [
    "cars = Table.read_table('data/models-2021.csv')"
   ]
  },
  {
   "cell_type": "markdown",
   "metadata": {},
   "source": [
    "Here we'll take a subset of the rows and columns for illustration."
   ]
  },
  {
   "cell_type": "code",
   "execution_count": null,
   "metadata": {},
   "outputs": [],
   "source": [
    "gm = cars.where('Manufacturer', 'General Motors').select('Brand', 'Model', 'Cylinders', 'MPG').take([0, 1, 9, 16, 20, 30, 31, 35, -1]).take([1, 2, 4, 8, 5, 6, 3, 7, 0])"
   ]
  },
  {
   "cell_type": "code",
   "execution_count": null,
   "metadata": {},
   "outputs": [],
   "source": [
    "gm"
   ]
  },
  {
   "cell_type": "markdown",
   "metadata": {},
   "source": [
    "## `group`"
   ]
  },
  {
   "cell_type": "code",
   "execution_count": null,
   "metadata": {},
   "outputs": [],
   "source": [
    "gm"
   ]
  },
  {
   "cell_type": "markdown",
   "metadata": {},
   "source": [
    "### Default behavior"
   ]
  },
  {
   "cell_type": "code",
   "execution_count": null,
   "metadata": {
    "scrolled": true
   },
   "outputs": [],
   "source": [
    "gm.group('Brand')"
   ]
  },
  {
   "cell_type": "code",
   "execution_count": null,
   "metadata": {
    "scrolled": true
   },
   "outputs": [],
   "source": [
    "gm.group('Cylinders')"
   ]
  },
  {
   "cell_type": "code",
   "execution_count": null,
   "metadata": {},
   "outputs": [],
   "source": [
    "# shuffles the rows in the table; returns a new table\n",
    "cars.shuffle()"
   ]
  },
  {
   "cell_type": "code",
   "execution_count": null,
   "metadata": {},
   "outputs": [],
   "source": [
    "cars.group('Brand').sort('count', descending = True)"
   ]
  },
  {
   "cell_type": "markdown",
   "metadata": {},
   "source": [
    "### Specifying a `collect` function"
   ]
  },
  {
   "cell_type": "code",
   "execution_count": null,
   "metadata": {},
   "outputs": [],
   "source": [
    "gm.group('Brand', np.mean)"
   ]
  },
  {
   "cell_type": "markdown",
   "metadata": {},
   "source": [
    "How does this work under the hood?"
   ]
  },
  {
   "cell_type": "code",
   "execution_count": null,
   "metadata": {},
   "outputs": [],
   "source": [
    "gm.where('Brand', 'Buick')"
   ]
  },
  {
   "cell_type": "code",
   "execution_count": null,
   "metadata": {},
   "outputs": [],
   "source": [
    "print('mean of Cylinders: ', gm.where('Brand', 'Buick').column('Cylinders').mean())\n",
    "print('mean of MPG: ', gm.where('Brand', 'Buick').column('MPG').mean())"
   ]
  },
  {
   "cell_type": "code",
   "execution_count": null,
   "metadata": {
    "scrolled": true
   },
   "outputs": [],
   "source": [
    "gm.where('Brand', 'Cadillac')"
   ]
  },
  {
   "cell_type": "code",
   "execution_count": null,
   "metadata": {
    "scrolled": true
   },
   "outputs": [],
   "source": [
    "print('mean of Cylinders: ', gm.where('Brand', 'Cadillac').column('Cylinders').mean())\n",
    "print('mean of MPG: ', gm.where('Brand', 'Cadillac').column('MPG').mean())"
   ]
  },
  {
   "cell_type": "code",
   "execution_count": null,
   "metadata": {},
   "outputs": [],
   "source": [
    "gm.where('Brand', 'Chevrolet')"
   ]
  },
  {
   "cell_type": "code",
   "execution_count": null,
   "metadata": {
    "scrolled": true
   },
   "outputs": [],
   "source": [
    "print('mean of Cylinders: ', gm.where('Brand', 'Chevrolet').column('Cylinders').mean())\n",
    "print('mean of MPG: ', gm.where('Brand', 'Chevrolet').column('MPG').mean())"
   ]
  },
  {
   "cell_type": "code",
   "execution_count": null,
   "metadata": {},
   "outputs": [],
   "source": [
    "gm.where('Brand', 'GMC')"
   ]
  },
  {
   "cell_type": "code",
   "execution_count": null,
   "metadata": {
    "scrolled": true
   },
   "outputs": [],
   "source": [
    "print('mean of Cylinders: ', gm.where('Brand', 'GMC').column('Cylinders').mean())\n",
    "print('mean of MPG: ', gm.where('Brand', 'GMC').column('MPG').mean())"
   ]
  },
  {
   "cell_type": "markdown",
   "metadata": {},
   "source": [
    "If you want a more concise way of doing the above:"
   ]
  },
  {
   "cell_type": "code",
   "execution_count": null,
   "metadata": {},
   "outputs": [],
   "source": [
    "for brand in np.unique(gm.column('Brand')):\n",
    "    brand_only = gm.where('Brand', brand)\n",
    "    print(brand)\n",
    "    print('mean of Cylinders: ', brand_only.column('Cylinders').mean())\n",
    "    print('mean of MPG: ', brand_only.column('MPG').mean())\n",
    "    print('\\n')"
   ]
  },
  {
   "cell_type": "markdown",
   "metadata": {},
   "source": [
    "What if we use other `collect` functions?"
   ]
  },
  {
   "cell_type": "code",
   "execution_count": null,
   "metadata": {},
   "outputs": [],
   "source": [
    "gm"
   ]
  },
  {
   "cell_type": "code",
   "execution_count": null,
   "metadata": {},
   "outputs": [],
   "source": [
    "gm.group('Brand', sum)"
   ]
  },
  {
   "cell_type": "code",
   "execution_count": null,
   "metadata": {},
   "outputs": [],
   "source": [
    "gm.group('Brand', list)"
   ]
  },
  {
   "cell_type": "code",
   "execution_count": null,
   "metadata": {
    "scrolled": true
   },
   "outputs": [],
   "source": [
    "gm.group('Brand', len)"
   ]
  },
  {
   "cell_type": "code",
   "execution_count": null,
   "metadata": {
    "scrolled": true
   },
   "outputs": [],
   "source": [
    "gm.group('Brand', max)"
   ]
  },
  {
   "cell_type": "markdown",
   "metadata": {},
   "source": [
    "### Quick Check 1"
   ]
  },
  {
   "cell_type": "code",
   "execution_count": null,
   "metadata": {},
   "outputs": [],
   "source": [
    "cars.shuffle()"
   ]
  },
  {
   "cell_type": "code",
   "execution_count": null,
   "metadata": {},
   "outputs": [],
   "source": [
    "# cars.group('Cylinders', ____) \\\n",
    "#     .where(____, 6) \\\n",
    "#     .column(____) \\\n",
    "#     .____"
   ]
  },
  {
   "cell_type": "code",
   "execution_count": null,
   "metadata": {},
   "outputs": [],
   "source": [
    "cars.group('Cylinders', np.mean).bar('Cylinders', 'MPG mean')"
   ]
  },
  {
   "cell_type": "markdown",
   "metadata": {},
   "source": [
    "## `group`ing by multiple columns"
   ]
  },
  {
   "cell_type": "code",
   "execution_count": null,
   "metadata": {},
   "outputs": [],
   "source": [
    "cars"
   ]
  },
  {
   "cell_type": "code",
   "execution_count": null,
   "metadata": {},
   "outputs": [],
   "source": [
    "cars.group(['Manufacturer', 'Brand']).show()"
   ]
  },
  {
   "cell_type": "code",
   "execution_count": null,
   "metadata": {},
   "outputs": [],
   "source": [
    "cars.group(['Brand', 'Cylinders'], np.mean)"
   ]
  },
  {
   "cell_type": "code",
   "execution_count": null,
   "metadata": {},
   "outputs": [],
   "source": [
    "cars.group(['Manufacturer', 'Brand', 'Displacement'])"
   ]
  },
  {
   "cell_type": "markdown",
   "metadata": {},
   "source": [
    "## `pivot`"
   ]
  },
  {
   "cell_type": "code",
   "execution_count": null,
   "metadata": {},
   "outputs": [],
   "source": [
    "cars.group(['Brand', 'Cylinders']).show()"
   ]
  },
  {
   "cell_type": "code",
   "execution_count": null,
   "metadata": {},
   "outputs": [],
   "source": [
    "cars.pivot('Cylinders', 'Brand', 'MPG', np.mean)"
   ]
  },
  {
   "cell_type": "markdown",
   "metadata": {},
   "source": [
    "### Quick Check 2"
   ]
  },
  {
   "cell_type": "code",
   "execution_count": null,
   "metadata": {},
   "outputs": [],
   "source": [
    "cars"
   ]
  },
  {
   "cell_type": "code",
   "execution_count": null,
   "metadata": {},
   "outputs": [],
   "source": [
    "# cars.pivot(___, ___, ___, ___)"
   ]
  }
 ],
 "metadata": {
  "kernelspec": {
   "display_name": "Python 3",
   "language": "python",
   "name": "python3"
  },
  "language_info": {
   "codemirror_mode": {
    "name": "ipython",
    "version": 3
   },
   "file_extension": ".py",
   "mimetype": "text/x-python",
   "name": "python",
   "nbconvert_exporter": "python",
   "pygments_lexer": "ipython3",
   "version": "3.8.8"
  }
 },
 "nbformat": 4,
 "nbformat_minor": 4
}
