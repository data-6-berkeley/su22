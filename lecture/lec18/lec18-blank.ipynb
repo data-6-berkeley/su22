{
 "cells": [
  {
   "cell_type": "markdown",
   "metadata": {},
   "source": [
    "# Lecture 18 – Iteration, Part 1 (For Loops)\n",
    "\n",
    "## Data 6, Summer 2022"
   ]
  },
  {
   "cell_type": "code",
   "execution_count": null,
   "metadata": {},
   "outputs": [],
   "source": [
    "from datascience import *\n",
    "import numpy as np"
   ]
  },
  {
   "cell_type": "markdown",
   "metadata": {},
   "source": [
    "## Motivation\n",
    "\n",
    "Temperatures taken for Berkeley from [source](https://www.timeanddate.com/weather/usa/berkeley/historic) for July 11 to July 24 (two weeks).\n"
   ]
  },
  {
   "cell_type": "code",
   "execution_count": null,
   "metadata": {},
   "outputs": [],
   "source": [
    "berk_temps = make_array(72, 72, 70, 70, 66, 73, 70, 72, 66, 68, 66, 70, 66, 70)\n",
    "print(\"There are \"  + str(len(berk_temps)) + \" entries in this dataset.\")\n",
    "print(\"The temperature on July 11th was \" + str(berk_temps[0]) + \" degrees Fahrenheit.\")\n",
    "print(\"The temperature on July 12th was \" + str(berk_temps[1]) + \" degrees Fahrenheit.\")"
   ]
  },
  {
   "cell_type": "markdown",
   "metadata": {},
   "source": [
    "In Berkeley, it is considered 'hot' if the temperature is at least 70 degrees (Fahrenheit). The temperature is 'cold' if it is less than or equal to 65 degrees. Otherwise, the temperature is 'just right'. \n",
    "\n",
    "Write a function called `berkeley_temp_checker` that will tell us (print) if it is 'hot', 'cold', or 'just right':"
   ]
  },
  {
   "cell_type": "code",
   "execution_count": null,
   "metadata": {},
   "outputs": [],
   "source": [
    "def berkeley_temp_checker(temp):\n",
    "    ... # Write your function here"
   ]
  },
  {
   "cell_type": "code",
   "execution_count": null,
   "metadata": {},
   "outputs": [],
   "source": [
    "berkeley_temp_checker(68)"
   ]
  },
  {
   "cell_type": "markdown",
   "metadata": {},
   "source": [
    "Now, let's check if it was hot, cold or just right for every day in `berk_temps`:"
   ]
  },
  {
   "cell_type": "code",
   "execution_count": null,
   "metadata": {},
   "outputs": [],
   "source": [
    "berkeley_temp_checker(berk_temps.item(0))\n",
    "berkeley_temp_checker(berk_temps.item(1))\n",
    "berkeley_temp_checker(berk_temps.item(2))\n",
    "berkeley_temp_checker(berk_temps.item(3))\n",
    "berkeley_temp_checker(berk_temps.item(4))\n",
    "# ..."
   ]
  },
  {
   "cell_type": "markdown",
   "metadata": {},
   "source": [
    "But this is tedious to do, especially if we want to check a bunch of temperatures. So instead, we can use a **for loop** to automate this process for us"
   ]
  },
  {
   "cell_type": "code",
   "execution_count": null,
   "metadata": {},
   "outputs": [],
   "source": [
    "for temp in berk_temps:\n",
    "    berkeley_temp_checker(temp)"
   ]
  },
  {
   "cell_type": "markdown",
   "metadata": {},
   "source": [
    "What is going on here may be a little confusing now, but hopefully it will make more sense by the end of this lecture."
   ]
  },
  {
   "cell_type": "markdown",
   "metadata": {},
   "source": [
    "## For Loops"
   ]
  },
  {
   "cell_type": "markdown",
   "metadata": {},
   "source": [
    "**For loops** (and loops in general) are used to repeat code. They are also useful for *iterating* over a sequence. For example, we can find the product when multiplied by 5 for every value in the array `([2, 4, 6, 8])`."
   ]
  },
  {
   "cell_type": "code",
   "execution_count": null,
   "metadata": {},
   "outputs": [],
   "source": [
    "for n in make_array(2, 4, 6, 8):\n",
    "    ... # Print the result of multiplying n * 5"
   ]
  },
  {
   "cell_type": "markdown",
   "metadata": {},
   "source": [
    "While the name we use in our for loop *can* be used inside the body of the for loop, we don't always *have to* use it."
   ]
  },
  {
   "cell_type": "code",
   "execution_count": null,
   "metadata": {
    "scrolled": true
   },
   "outputs": [],
   "source": [
    "tips = [5, 2, 3, 8, 9, 0, 2, 1]\n",
    "for i in tips:\n",
    "    print('ignorning i!')"
   ]
  },
  {
   "cell_type": "code",
   "execution_count": null,
   "metadata": {},
   "outputs": [],
   "source": [
    "def modify_verb(verbs):\n",
    "    ... # For each verb in verbs, modify the verb by adding 'ing' to the end"
   ]
  },
  {
   "cell_type": "code",
   "execution_count": null,
   "metadata": {},
   "outputs": [],
   "source": [
    "modify_verb(['eat', 'run'])"
   ]
  },
  {
   "cell_type": "code",
   "execution_count": null,
   "metadata": {
    "scrolled": true
   },
   "outputs": [],
   "source": [
    "modify_verb(['cry', 'drink', 'sleep'])"
   ]
  },
  {
   "cell_type": "markdown",
   "metadata": {},
   "source": [
    "### Example: Titanic Fares"
   ]
  },
  {
   "cell_type": "code",
   "execution_count": null,
   "metadata": {},
   "outputs": [],
   "source": [
    "# Import our Titanic dataset\n",
    "table = Table.read_table('data/titanic.csv').select(['Name', 'Age', 'Sex', 'Fare', 'Survived'])\n",
    "titanic_fares = list(table.column('Fare'))[:10]\n",
    "table"
   ]
  },
  {
   "cell_type": "markdown",
   "metadata": {},
   "source": [
    "Let's implement the function `count_above` using a for loop. `count_above` should take in an array of ticket prices (`fares`) and a `threshold`, and should return the number of fares in `fares` that are above the `threshold`."
   ]
  },
  {
   "cell_type": "code",
   "execution_count": null,
   "metadata": {},
   "outputs": [],
   "source": [
    "def count_above(fares, threshold):\n",
    "    ... # Implement the `count_above` funtion"
   ]
  },
  {
   "cell_type": "code",
   "execution_count": null,
   "metadata": {},
   "outputs": [],
   "source": [
    "# Evaluates to 4, since 4 nums are >3\n",
    "count_above([1, 2, 5, 8, 7, 9], 3)"
   ]
  },
  {
   "cell_type": "code",
   "execution_count": null,
   "metadata": {},
   "outputs": [],
   "source": [
    "# Evaluates to 0, since 0 nums are >10\n",
    "count_above([4, 8, 2, 1], 10)"
   ]
  },
  {
   "cell_type": "markdown",
   "metadata": {},
   "source": [
    "### Quick Check 1"
   ]
  },
  {
   "cell_type": "markdown",
   "metadata": {},
   "source": [
    "Describe, in one sentence, what the function `not_sure` does."
   ]
  },
  {
   "cell_type": "code",
   "execution_count": null,
   "metadata": {},
   "outputs": [],
   "source": [
    "def not_sure(word):\n",
    "    output = ''\n",
    "    for letter in word:\n",
    "        if letter in 'aeiou':\n",
    "            output += letter\n",
    "    return output"
   ]
  },
  {
   "cell_type": "code",
   "execution_count": null,
   "metadata": {},
   "outputs": [],
   "source": [
    "not_sure(\"sequoia\")"
   ]
  },
  {
   "cell_type": "markdown",
   "metadata": {},
   "source": [
    "### String Example"
   ]
  },
  {
   "cell_type": "code",
   "execution_count": null,
   "metadata": {},
   "outputs": [],
   "source": [
    "for char in 'university':\n",
    "    print(char.upper())"
   ]
  },
  {
   "cell_type": "markdown",
   "metadata": {},
   "source": [
    "## Ranges and For Loops"
   ]
  },
  {
   "cell_type": "markdown",
   "metadata": {},
   "source": [
    "When we don't have an array to iterate over but still want to repeat code multiple times, we can use **array ranges**."
   ]
  },
  {
   "cell_type": "code",
   "execution_count": null,
   "metadata": {
    "scrolled": true
   },
   "outputs": [],
   "source": [
    "for j in np.arange(10):\n",
    "    print(j)"
   ]
  },
  {
   "cell_type": "markdown",
   "metadata": {},
   "source": [
    "Recall that `np.arange(start, stop)` will create an array starting with the number `start` and going up to (but not including) the number `stop`."
   ]
  },
  {
   "cell_type": "code",
   "execution_count": null,
   "metadata": {},
   "outputs": [],
   "source": [
    "np.arange(10)"
   ]
  },
  {
   "cell_type": "markdown",
   "metadata": {},
   "source": [
    "Let's try out some more examples:"
   ]
  },
  {
   "cell_type": "code",
   "execution_count": null,
   "metadata": {},
   "outputs": [],
   "source": [
    "# 1 + 2 + 3 + 4 + 5 + 6 + 7 + 8 + 9 + 10 = 55\n",
    "total = 0\n",
    "for n in np.arange(1, 11):\n",
    "    ... # Find the sum of all integers from 1 to 10 (inclusive). Assign this value to the name `total`\n",
    "\n",
    "total"
   ]
  },
  {
   "cell_type": "code",
   "execution_count": null,
   "metadata": {},
   "outputs": [],
   "source": [
    "# 3 + 5 + 7 + 9 = 24\n",
    "total = 0\n",
    "for n in np.arange(3, 11, 2):\n",
    "    ... # Assign `total` to the sum of all *odd* numbers between 2 and 10\n",
    "\n",
    "total"
   ]
  },
  {
   "cell_type": "code",
   "execution_count": null,
   "metadata": {},
   "outputs": [],
   "source": [
    "for j in np.arange(10, 0, -3):\n",
    "    print(j)\n",
    "print('happy new year!')"
   ]
  },
  {
   "cell_type": "markdown",
   "metadata": {},
   "source": [
    "## Adding to Arrays"
   ]
  },
  {
   "cell_type": "markdown",
   "metadata": {},
   "source": [
    "Printing from for loops is cool, but the real power is when we use for loops to **change or add values** in arrays. We can do this with `np.append()`."
   ]
  },
  {
   "cell_type": "code",
   "execution_count": null,
   "metadata": {},
   "outputs": [],
   "source": [
    "make_array()"
   ]
  },
  {
   "cell_type": "code",
   "execution_count": null,
   "metadata": {},
   "outputs": [],
   "source": [
    "np.append(make_array(), 2)"
   ]
  },
  {
   "cell_type": "markdown",
   "metadata": {},
   "source": [
    "`np.append()` **creates a new array** so make sure to re-assign the name of your array to the new array value."
   ]
  },
  {
   "cell_type": "code",
   "execution_count": null,
   "metadata": {},
   "outputs": [],
   "source": [
    "students = make_array('mary', 'allen', 'jack', 'simone', 'archie')\n",
    "introductions = make_array()\n",
    "for student in students:\n",
    "    ... # For each student add a value to the `introductions` array that says 'My name is NAME'\n",
    "\n",
    "introductions"
   ]
  },
  {
   "cell_type": "markdown",
   "metadata": {},
   "source": [
    "### Quick Check 2"
   ]
  },
  {
   "cell_type": "markdown",
   "metadata": {},
   "source": [
    "Fill in the two blanks in `np.arange()` so that the following code works as displayed. "
   ]
  },
  {
   "cell_type": "code",
   "execution_count": null,
   "metadata": {},
   "outputs": [],
   "source": [
    "school = 'The University of California'\n",
    "for p in np.arange(..., 18, ...):\n",
    "    print(school[p])"
   ]
  }
 ],
 "metadata": {
  "kernelspec": {
   "display_name": "Python 3",
   "language": "python",
   "name": "python3"
  },
  "language_info": {
   "codemirror_mode": {
    "name": "ipython",
    "version": 3
   },
   "file_extension": ".py",
   "mimetype": "text/x-python",
   "name": "python",
   "nbconvert_exporter": "python",
   "pygments_lexer": "ipython3",
   "version": "3.8.8"
  }
 },
 "nbformat": 4,
 "nbformat_minor": 4
}
