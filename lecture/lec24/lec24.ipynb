{
 "cells": [
  {
   "cell_type": "markdown",
   "metadata": {},
   "source": [
    "# Lecture 24 – Fun with Plotly\n",
    "\n",
    "## Data 6, Summer 2022"
   ]
  },
  {
   "cell_type": "code",
   "execution_count": null,
   "metadata": {},
   "outputs": [],
   "source": [
    "from datascience import *\n",
    "import numpy as np\n",
    "Table.interactive_plots()\n",
    "import plotly.express as px\n",
    "import seaborn as sns"
   ]
  },
  {
   "cell_type": "markdown",
   "metadata": {},
   "source": [
    "In this lecture we will introduce additional visualization techniques available to use through the `plotly` library. All of these visualization methods are out of scope, but they're still pretty cool to look at."
   ]
  },
  {
   "cell_type": "markdown",
   "metadata": {},
   "source": [
    "## Animated Scatter Plots"
   ]
  },
  {
   "cell_type": "markdown",
   "metadata": {},
   "source": [
    "Our data today comes from the [Gapminder Foundation](https://www.gapminder.org/data/), which explores data on poverty, inequality and health around the world."
   ]
  },
  {
   "cell_type": "code",
   "execution_count": null,
   "metadata": {},
   "outputs": [],
   "source": [
    "world = Table.from_df(px.data.gapminder())\n",
    "world"
   ]
  },
  {
   "cell_type": "markdown",
   "metadata": {},
   "source": [
    "Use the code to generate an animated scatter plot of GDP per capita and life expectancy over time. You can play the animation or scroll to a specific year."
   ]
  },
  {
   "cell_type": "code",
   "execution_count": null,
   "metadata": {},
   "outputs": [],
   "source": [
    "px.scatter(world.to_df(),\n",
    "           x = 'gdpPercap',\n",
    "           y = 'lifeExp', \n",
    "           hover_name = 'country',\n",
    "           color = 'continent',\n",
    "           size = 'pop',\n",
    "           size_max = 60,\n",
    "           log_x = True,\n",
    "           range_y = [30, 90],\n",
    "           animation_frame = 'year',\n",
    "           title = 'Life Expectancy, GDP Per Capita, and Population over Time'\n",
    "          )"
   ]
  },
  {
   "cell_type": "markdown",
   "metadata": {},
   "source": [
    "## Animated Histograms"
   ]
  },
  {
   "cell_type": "markdown",
   "metadata": {},
   "source": [
    "We can do the same with `px.histogram`, using the optional argument `animation_frame`."
   ]
  },
  {
   "cell_type": "code",
   "execution_count": null,
   "metadata": {
    "scrolled": false
   },
   "outputs": [],
   "source": [
    "px.histogram(world.to_df(),\n",
    "            x = 'lifeExp',\n",
    "            animation_frame = 'year',\n",
    "            range_x = [20, 90],\n",
    "            range_y = [0, 50],\n",
    "            title = 'Distribution of Life Expectancy over Time')"
   ]
  },
  {
   "cell_type": "markdown",
   "metadata": {},
   "source": [
    "## Box Plots"
   ]
  },
  {
   "cell_type": "markdown",
   "metadata": {},
   "source": [
    "Box plots, also called \"box and whisker plots\" show the rough distribution of multiple numerical variables. In particular, they show the 25th, 50th (median), and 75th percentiles (the box), as well as 1.5 times the Interquartile Range (the whiskers). This is helpful for identifying outliers."
   ]
  },
  {
   "cell_type": "code",
   "execution_count": null,
   "metadata": {},
   "outputs": [],
   "source": [
    "world_latest = world.where('year', 2007)\n",
    "world_latest"
   ]
  },
  {
   "cell_type": "code",
   "execution_count": null,
   "metadata": {
    "scrolled": false
   },
   "outputs": [],
   "source": [
    "px.box(world_latest.to_df(),\n",
    "       y = 'lifeExp',\n",
    "       x = 'continent',\n",
    "       color = 'continent',\n",
    "       hover_name = 'country',\n",
    "       title = 'Distribution of Life Expectancy in 2007 by Continent'\n",
    "      )"
   ]
  },
  {
   "cell_type": "markdown",
   "metadata": {},
   "source": [
    "## Pie Charts"
   ]
  },
  {
   "cell_type": "markdown",
   "metadata": {},
   "source": [
    "Pie charts look cool visually, but they are often hard to analyze."
   ]
  },
  {
   "cell_type": "code",
   "execution_count": null,
   "metadata": {},
   "outputs": [],
   "source": [
    "world_latest.where('continent', 'Americas')"
   ]
  },
  {
   "cell_type": "code",
   "execution_count": null,
   "metadata": {},
   "outputs": [],
   "source": [
    "px.pie(world_latest.where('continent', 'Americas').to_df(),\n",
    "       values = 'pop',\n",
    "       names = 'country',\n",
    "       title = 'Population of the Americas'\n",
    ")"
   ]
  },
  {
   "cell_type": "code",
   "execution_count": null,
   "metadata": {},
   "outputs": [],
   "source": [
    "world_for_pie = world_latest \\\n",
    "     .group('continent', sum) \\\n",
    "     .select('continent', 'pop sum')\n",
    "\n",
    "world_for_pie"
   ]
  },
  {
   "cell_type": "code",
   "execution_count": null,
   "metadata": {},
   "outputs": [],
   "source": [
    "px.pie(world_for_pie.to_df(),\n",
    "      values = 'pop sum',\n",
    "      names = 'continent',\n",
    "      title = 'World Population by Continent')"
   ]
  },
  {
   "cell_type": "markdown",
   "metadata": {},
   "source": [
    "## Timelines (Gantt Charts)"
   ]
  },
  {
   "cell_type": "markdown",
   "metadata": {},
   "source": [
    "The following code creates a Gantt chart showing the timeline of the life of the illustrious [Suraj Rampure](https://rampure.org/), creator of Data 6."
   ]
  },
  {
   "cell_type": "code",
   "execution_count": null,
   "metadata": {},
   "outputs": [],
   "source": [
    "phases = [\n",
    " ['Newborn', '1998-11-26', '1999-11-26', 'Canada'],\n",
    " ['Toddler, Preschooler', '1999-11-26', '2005-09-03', 'US'],\n",
    " ['Elementary School Student', '2005-09-03', '2009-06-30', 'Canada'],\n",
    " ['Middle School Student', '2009-09-15', '2012-06-15', 'Canada'],\n",
    " ['High School Student', '2012-09-05', '2016-05-30', 'Canada'],\n",
    " ['Undergrad @ UC Berkeley', '2016-08-22','2020-05-15', 'US'],\n",
    " ['Masters @ UC Berkeley', '2020-08-25', '2021-05-14', 'Canada'],\n",
    " ['Teaching Data 94', '2021-01-20', '2021-05-14', 'Canada']]\n",
    "\n",
    "phases_table = Table(labels = ['Phase', 'Start', 'End', 'Location']).with_rows(phases)\n",
    "phases_table"
   ]
  },
  {
   "cell_type": "code",
   "execution_count": null,
   "metadata": {},
   "outputs": [],
   "source": [
    "px.timeline(phases_table.to_df(),\n",
    "           x_start = 'Start',\n",
    "           x_end = 'End',\n",
    "           y = 'Phase',\n",
    "           text = 'Location',\n",
    "           title = \"Suraj's Life Trajectory\") \\\n",
    ".update_yaxes(autorange='reversed')"
   ]
  },
  {
   "cell_type": "markdown",
   "metadata": {},
   "source": [
    "## Choropleth Maps"
   ]
  },
  {
   "cell_type": "markdown",
   "metadata": {},
   "source": [
    "We have already seen choropleth maps before:"
   ]
  },
  {
   "cell_type": "code",
   "execution_count": null,
   "metadata": {},
   "outputs": [],
   "source": [
    "world_latest"
   ]
  },
  {
   "cell_type": "code",
   "execution_count": null,
   "metadata": {},
   "outputs": [],
   "source": [
    "px.choropleth(world_latest.to_df(),\n",
    "              locations = 'iso_alpha',\n",
    "              color = 'lifeExp',\n",
    "              hover_name = 'country',\n",
    "              title = 'Life Expectancy Per Country',\n",
    "              color_continuous_scale = px.colors.sequential.tempo\n",
    ")"
   ]
  },
  {
   "cell_type": "markdown",
   "metadata": {},
   "source": [
    "But know we also know how to make animated choropleth maps!"
   ]
  },
  {
   "cell_type": "code",
   "execution_count": null,
   "metadata": {},
   "outputs": [],
   "source": [
    "px.choropleth(world.to_df(), \n",
    "             locations=\"iso_alpha\",\n",
    "             color=\"lifeExp\",\n",
    "             animation_frame=\"year\",\n",
    "             color_continuous_scale = px.colors.diverging.RdYlGn,\n",
    "             title = \"Life Expectancy Over Time\",\n",
    "             range_color=(30,80))"
   ]
  },
  {
   "cell_type": "markdown",
   "metadata": {},
   "source": [
    "## 3D Scatter Plots"
   ]
  },
  {
   "cell_type": "markdown",
   "metadata": {},
   "source": [
    "It is also possible to plot points along three dimensions (i.e. with three coordinates)."
   ]
  },
  {
   "cell_type": "code",
   "execution_count": null,
   "metadata": {},
   "outputs": [],
   "source": [
    "penguins = Table.from_df(sns.load_dataset('penguins'))\n",
    "penguins"
   ]
  },
  {
   "cell_type": "markdown",
   "metadata": {},
   "source": [
    "Try dragging the graph to move around the camera."
   ]
  },
  {
   "cell_type": "code",
   "execution_count": null,
   "metadata": {},
   "outputs": [],
   "source": [
    "px.scatter_3d(penguins.to_df(),\n",
    "             x = 'bill_length_mm',\n",
    "             y = 'bill_depth_mm',\n",
    "             z = 'flipper_length_mm',\n",
    "             color = 'species',\n",
    "             hover_name = 'island',\n",
    "             title = 'Flipper Length vs. Bill Depth vs. Bill Length')"
   ]
  },
  {
   "cell_type": "markdown",
   "metadata": {},
   "source": [
    "But always ask yourself if you really need a 3D scatter plot if 2D would suffice."
   ]
  },
  {
   "cell_type": "code",
   "execution_count": null,
   "metadata": {},
   "outputs": [],
   "source": [
    "px.scatter(penguins.to_df(),\n",
    "             x = 'bill_length_mm',\n",
    "             y = 'bill_depth_mm',\n",
    "             color = 'species',\n",
    "             hover_name = 'island',\n",
    "             title = 'Bill Depth vs. Bill Length')"
   ]
  }
 ],
 "metadata": {
  "kernelspec": {
   "display_name": "Python 3",
   "language": "python",
   "name": "python3"
  },
  "language_info": {
   "codemirror_mode": {
    "name": "ipython",
    "version": 3
   },
   "file_extension": ".py",
   "mimetype": "text/x-python",
   "name": "python",
   "nbconvert_exporter": "python",
   "pygments_lexer": "ipython3",
   "version": "3.8.8"
  }
 },
 "nbformat": 4,
 "nbformat_minor": 4
}
