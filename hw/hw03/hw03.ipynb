{
 "cells": [
  {
   "cell_type": "code",
   "execution_count": null,
   "metadata": {
    "deletable": false,
    "editable": false
   },
   "outputs": [],
   "source": [
    "# Initialize Otter\n",
    "import otter\n",
    "grader = otter.Notebook(\"hw03.ipynb\")"
   ]
  },
  {
   "cell_type": "markdown",
   "metadata": {},
   "source": [
    "# Homework 3 – Advanced Table Methods\n",
    "\n",
    "## Data 6, Summer 2022\n",
    "\n",
    "In this homework assignment, you will use exercise your newfound table manipulation skills.\n",
    "\n",
    "This homework is due on **Thursday, July 28th at 11:00PM**. You must submit the assignment to Gradescope. Submission instructions can be found at the bottom of this notebook. See the [syllabus](http://data6.org/su21/syllabus/#late-policy-and-extensions) for our late submission policy.\n",
    "\n",
    "**Note:** Unlike the previous two homework assignments, most questions in this assignment will depend on all previous work. As such, it's in your best interest to work through the questions sequentially."
   ]
  },
  {
   "cell_type": "code",
   "execution_count": null,
   "metadata": {},
   "outputs": [],
   "source": [
    "# Run this cell.\n",
    "from datascience import *\n",
    "import numpy as np\n",
    "\n",
    "import warnings\n",
    "warnings.simplefilter('ignore')"
   ]
  },
  {
   "cell_type": "markdown",
   "metadata": {},
   "source": [
    "<hr style=\"border: 5px solid #003262;\" />\n",
    "<hr style=\"border: 1px solid #fdb515;\" />\n",
    "\n",
    "# Part 1: UC Berkeley Admissions\n",
    "\n",
    "<br></br>\n",
    "<hr style=\"border: 1px solid #fdb515;\" />\n",
    "\n",
    "## Understanding the data\n",
    "\n",
    "In this part of the homework, we will ask and answer questions about UC Berkeley's undergraduate admissions numbers for the class that entered in Fall 2020. The data we'll work with in this question comes from [this public webpage](https://www.universityofcalifornia.edu/infocenter/admissions-source-school).\n",
    "\n",
    "Run the cell below to load in our data as a table."
   ]
  },
  {
   "cell_type": "code",
   "execution_count": null,
   "metadata": {},
   "outputs": [],
   "source": [
    "schools = Table.read_table('data/enrollment.csv')\n",
    "schools"
   ]
  },
  {
   "cell_type": "markdown",
   "metadata": {},
   "source": [
    "Each row corresponds to a high school. For each high school, we have the following information:\n",
    "- `'Name'`: The name of the high school. Note, this is not unique – for instance, the top three rows of our table correspond to three different high schools all with the name `'ABRAHAM LINCOLN HIGH SCHOOL'`; one is in Los Angeles, one is in San Francisco, and one is in San Jose.\n",
    "- `'City'`: The city in which the high school is. Note, only schools within the US have a valid `'City'` listed; international schools have a city of `'nan'`. (`'nan'` means \"missing value\".) \n",
    "- `'Region'`: The county in which the high school is if the high school is in California, or the state in which the high school is if the high school is elsewhere in the US (see `'ADLAI E STEVENSON HIGH SCHOOL'` above). Again, if the high school is not within the US, `'Region'` is `'nan'`.\n",
    "- `'Applied'`: The number of students who applied to UC Berkeley from that high school for admission in Fall 2020.\n",
    "- `'Admitted'`: The number of students who were admitted to UC Berkeley from that high school for admission in Fall 2020.\n",
    "- `'Enrolled'`: The number of students who actually chose to attend UC Berkeley from that high school starting in Fall 2020."
   ]
  },
  {
   "cell_type": "markdown",
   "metadata": {},
   "source": [
    "**Note:** It's a good idea to have the [Python Reference Sheet](https://data6.org/su22/reference/) open while working on the assignment in the event you have any questions.\n",
    "\n",
    "You can also easily see the documentation for a function by either:\n",
    "- typing the name of the function on a new line, followed by a `?`, and running the cell\n",
    "- typing the name of the function anywhere in a code cell and hitting `Shift + Tab` on your keyboard\n",
    "\n",
    "Try it out below! Just add a `?` to the end of the line."
   ]
  },
  {
   "cell_type": "code",
   "execution_count": null,
   "metadata": {},
   "outputs": [],
   "source": [
    "Table.where"
   ]
  },
  {
   "cell_type": "markdown",
   "metadata": {},
   "source": [
    "<br></br>\n",
    "<hr style=\"border: 1px solid #fdb515;\" />\n",
    "\n",
    "# Question 1 – Key Numbers\n",
    "\n",
    "<br></br>\n",
    "\n",
    "---\n",
    "## Question 1a – How many students were admitted?\n",
    "\n",
    "Suppose we're interested in determining the number of students who *applied* to UC Berkeley. We can calculate that number by finding the sum of the `'Applied'` column in our dataset like so:"
   ]
  },
  {
   "cell_type": "code",
   "execution_count": null,
   "metadata": {},
   "outputs": [],
   "source": [
    "# This is just an example\n",
    "sum(schools.column('Applied'))"
   ]
  },
  {
   "cell_type": "markdown",
   "metadata": {
    "deletable": false,
    "editable": false
   },
   "source": [
    "**Task**: Below, assign the variable `num_admitted` to an integer corresponding to the number of students who were *admitted* to UC Berkeley in our dataset.\n",
    "\n",
    "_Hint_: Do something similar to the example above.\n",
    "\n",
    "<!--\n",
    "BEGIN QUESTION\n",
    "name: q1a\n",
    "points: 1\n",
    "-->"
   ]
  },
  {
   "cell_type": "code",
   "execution_count": null,
   "metadata": {},
   "outputs": [],
   "source": [
    "num_admitted = ...\n",
    "num_admitted"
   ]
  },
  {
   "cell_type": "code",
   "execution_count": null,
   "metadata": {
    "deletable": false,
    "editable": false
   },
   "outputs": [],
   "source": [
    "grader.check(\"q1a\")"
   ]
  },
  {
   "cell_type": "markdown",
   "metadata": {
    "deletable": false,
    "editable": false
   },
   "source": [
    "---\n",
    "## Question 1b – What was the overall acceptance rate?\n",
    "\n",
    "Below, assign the variable `overall_acceptance_rate` to a float corresponding to the proportion of students who applied to UC Berkeley that were admitted.\n",
    "\n",
    "_Hint_: Use `num_admitted` along with the example that came right before it.\n",
    "\n",
    "<!--\n",
    "BEGIN QUESTION\n",
    "name: q1b\n",
    "points: 1\n",
    "-->"
   ]
  },
  {
   "cell_type": "code",
   "execution_count": null,
   "metadata": {},
   "outputs": [],
   "source": [
    "overall_acceptance_rate = ...\n",
    "overall_acceptance_rate"
   ]
  },
  {
   "cell_type": "code",
   "execution_count": null,
   "metadata": {
    "deletable": false,
    "editable": false
   },
   "outputs": [],
   "source": [
    "grader.check(\"q1b\")"
   ]
  },
  {
   "cell_type": "markdown",
   "metadata": {
    "deletable": false,
    "editable": false
   },
   "source": [
    "<!-- BEGIN QUESTION -->\n",
    "\n",
    "---\n",
    "## Question 1c – Wait... what?\n",
    "\n",
    "In **Question 1a**, you computed the number of students that UC Berkeley admitted for enrollment in Fall 2020. Scroll back up to Question 1a to look at that number, and then come back to this question.\n",
    "\n",
    "Strangely, this [news.berkeley.edu](https://news.berkeley.edu/2020/07/16/uc-berkeleys-push-for-more-diversity-shows-in-its-newly-admitted-class/) article from July 2020 states\n",
    "\n",
    "> Overall, UC Berkeley admitted 14,668 students as freshmen in 2019 and 15,435 for fall 2020. The admit rate remains the same as last year, at 15%.\n",
    "\n",
    "The number that you computed in **Question 1a** is much smaller than the 15,435 figure that this article provides. But both are official University of California sources. What's going on here?\n",
    "\n",
    "In the cell below, write a short answer to the question \"**Why is the number of admitted students in our dataset less than the true number of admitted students?**\" To find your answer, go to the [UC site where we got this data from](https://www.universityofcalifornia.edu/infocenter/admissions-source-school) and look for the fine print under the table. You'll find that only schools with a certain number of applicants and admitted students are represented; **your answer must mention those specific thresholds as well as why you think they may have excluded schools who don't meet the thresholds from the dataset.**\n",
    "\n",
    "<!--\n",
    "BEGIN QUESTION\n",
    "name: q1c\n",
    "points: 2\n",
    "manual: true\n",
    "-->"
   ]
  },
  {
   "cell_type": "markdown",
   "metadata": {},
   "source": [
    "_Type your answer here, replacing this text._"
   ]
  },
  {
   "cell_type": "markdown",
   "metadata": {
    "deletable": false,
    "editable": false
   },
   "source": [
    "<!-- END QUESTION -->\n",
    "\n",
    "<br></br>\n",
    "<hr style=\"border: 1px solid #fdb515;\" />\n",
    "\n",
    "# Question 2 – Which Schools?\n",
    "\n",
    "Now it's time to answer questions of the form \"Which schools \\_\\_\\_\\_\\_\"? In order to proceed, you'll need to make sure you're familiar with selecting/dropping, table sorting, and element-wise array operations.\n",
    "\n",
    "<br></br>\n",
    "\n",
    "---\n",
    "## Question 2a – Removing columns\n",
    "\n",
    "In this section, we're not going to worry about the city where each school is – we'll look at cities in the next section. It'll be helpful to keep around the `'Region'` column just so that we can see at a glance if a school is in-state, domestic, or international. We also need it to tell apart the three `'ABRAHAM LINCOLN HIGH SCHOOL'`s!\n",
    "\n",
    "**Task**: Assign `schools_stats` to a new table  that contains all of the columns in `schools` except for `'City'`.\n",
    "\n",
    "<!--\n",
    "BEGIN QUESTION\n",
    "name: q2a\n",
    "points: 1\n",
    "-->"
   ]
  },
  {
   "cell_type": "code",
   "execution_count": null,
   "metadata": {},
   "outputs": [],
   "source": [
    "schools_stats = ...\n",
    "schools_stats"
   ]
  },
  {
   "cell_type": "code",
   "execution_count": null,
   "metadata": {
    "deletable": false,
    "editable": false
   },
   "outputs": [],
   "source": [
    "grader.check(\"q2a\")"
   ]
  },
  {
   "cell_type": "markdown",
   "metadata": {
    "deletable": false,
    "editable": false
   },
   "source": [
    "---\n",
    "## Question 2b – Which school sent the most students?\n",
    "\n",
    "The value in the `'Enrolled'` column for each high school is the number of students they sent to UC Berkeley.\n",
    "\n",
    "Below, assign `feeders` to a table with the same columns as `schools_stats`, but with **only the 14 high schools who sent the most students to UC Berkeley**, sorted in descending order. The first five rows of your table should look like this:\n",
    "\n",
    "| Name                         | Region        |   Applied |   Admitted |   Enrolled |\n",
    "|-----------------------------:|--------------:|----------:|-----------:|-----------:|\n",
    "| LOWELL HIGH SCHOOL           | San Francisco |       435 |        106 |         64 |\n",
    "| IRVINGTON HIGH SCHOOL        | Alameda       |       248 |         63 |         47 |\n",
    "| DOUGHERTY VALLEY HIGH SCHOOL | Contra Costa  |       430 |         78 |         39 |\n",
    "| CANYON CREST ACADEMY         | San Diego     |       269 |         66 |         38 |\n",
    "| PORTOLA HIGH SCHOOL          | Orange        |       175 |         57 |         30 |\n",
    "\n",
    "_Hint_: Use the `sort` and `take` table methods\n",
    "\n",
    "<!--\n",
    "BEGIN QUESTION\n",
    "name: q2b\n",
    "points: 2\n",
    "-->"
   ]
  },
  {
   "cell_type": "code",
   "execution_count": null,
   "metadata": {},
   "outputs": [],
   "source": [
    "feeders = ...\n",
    "feeders.show()"
   ]
  },
  {
   "cell_type": "code",
   "execution_count": null,
   "metadata": {
    "deletable": false,
    "editable": false
   },
   "outputs": [],
   "source": [
    "grader.check(\"q2b\")"
   ]
  },
  {
   "cell_type": "markdown",
   "metadata": {
    "deletable": false,
    "editable": false
   },
   "source": [
    "---\n",
    "## Question 2c – What was the acceptance rate of each school?\n",
    "\n",
    "Right now we have the number of students who applied, were admitted, and actually enrolled from each school. We don't have the acceptance rate of students at each school, but we can easily figure that out using some array operations!\n",
    "\n",
    "Below, assign `schools_stats_acc` to a table with the same four columns as `schools_stats` plus an additional fifth column. This fifth column should have the label `'Acceptance Rate'`, and its values should be the acceptance rates of each school, each as a decimal between 0 (no students were admitted) and 1 (all students were admitted).\n",
    "\n",
    "There are several steps involved:\n",
    "- First, create an array containing the acceptance rates for each school. This should be done in one line; remember that each column in a table is an array, and that if you divide two arrays, the division is performed element-wise (as we saw in Week 1).\n",
    "- Then, use the `with_columns` method to add an `'Acceptance Rate'` column to `schools_stats`, using the array you just created. Store your result in the table `schools_stats_acc`. The `schools_stats` table should not change!\n",
    "- **Note**: unlike in the previous question, you aren't supposed to sort or take the top 10.\n",
    "\n",
    "The first few rows of your table should look like this:\n",
    "\n",
    "| Name                        | Region        |   Applied |   Admitted |   Enrolled |   Acceptance Rate |\n",
    "|----------------------------:|--------------:|----------:|-----------:|-----------:|------------------:|\n",
    "| ABRAHAM LINCOLN HIGH SCHOOL | Los Angeles   |        17 |          6 |          3 |          0.352941 |\n",
    "| ABRAHAM LINCOLN HIGH SCHOOL | San Francisco |       106 |         21 |         14 |          0.198113 |\n",
    "| ABRAHAM LINCOLN HIGH SCHOOL | Santa Clara   |        48 |         10 |          4 |          0.208333 |\n",
    "| ACADEMY OF THE CANYONS      | Los Angeles   |        45 |         15 |          6 |          0.333333 |\n",
    "| ACADEMY-SAN FRAN @ MCATEER  | San Francisco |        19 |          8 |          5 |          0.421053 |\n",
    "\n",
    "\n",
    "<!--\n",
    "BEGIN QUESTION\n",
    "name: q2c\n",
    "points: 3\n",
    "-->"
   ]
  },
  {
   "cell_type": "code",
   "execution_count": null,
   "metadata": {},
   "outputs": [],
   "source": [
    "acceptance_rates = ...\n",
    "schools_stats_acc = ...\n",
    "schools_stats_acc"
   ]
  },
  {
   "cell_type": "code",
   "execution_count": null,
   "metadata": {
    "deletable": false,
    "editable": false
   },
   "outputs": [],
   "source": [
    "grader.check(\"q2c\")"
   ]
  },
  {
   "cell_type": "markdown",
   "metadata": {
    "deletable": false,
    "editable": false
   },
   "source": [
    "---\n",
    "## Question 2d – Which schools had the lowest and highest acceptance rate?\n",
    "\n",
    "Now that we have a table, `schools_stats_acc`, containing the acceptance rate of each school, it's natural to ask which schools had the highest and lowest acceptance rates.\n",
    "\n",
    "Your job below is to define two **arrays**:\n",
    "- `top_5_acc`, which contains the **names** of the five schools with the highest acceptance rates, such that the first element of `top_5_acc` has the absolute highest acceptance rate, the second element has the second highest acceptance rate, and so on.\n",
    "- `bottom_5_acc`, which contains the **names** of the five schools with the lowest acceptance rates, such that the first element of `bottom_5_acc` has the absolute lowest acceptance rate, the second element has the second lowest acceptance rate, and so on.\n",
    "\n",
    "At some point, you'll need to sort `schools_stats_acc` by acceptance rate. However, how you choose to do that is up to you – you could elect to sort it in both descending and ascending order, or you could just sort it once and be creative with how you use `.take` (which you will need to use regardless).\n",
    "\n",
    "<!--\n",
    "BEGIN QUESTION\n",
    "name: q2d\n",
    "points: 3\n",
    "-->"
   ]
  },
  {
   "cell_type": "code",
   "execution_count": null,
   "metadata": {},
   "outputs": [],
   "source": [
    "...\n",
    "\n",
    "top_5_acc = ...\n",
    "bottom_5_acc = ...\n",
    "\n",
    "# Don't change anything below this comment, it's just for visualization\n",
    "print('Top 5 acceptance rates:')\n",
    "for school in top_5_acc:\n",
    "    print(school)\n",
    "\n",
    "print('----------\\nBottom 5 acceptance rates:')\n",
    "for school in bottom_5_acc:\n",
    "    print(school)"
   ]
  },
  {
   "cell_type": "code",
   "execution_count": null,
   "metadata": {
    "deletable": false,
    "editable": false
   },
   "outputs": [],
   "source": [
    "grader.check(\"q2d\")"
   ]
  },
  {
   "cell_type": "markdown",
   "metadata": {},
   "source": [
    "<br></br>\n",
    "<hr style=\"border: 1px solid #fdb515;\" />\n",
    "\n",
    "# Question 3 – Location\n",
    "\n",
    "In the last question, we did not use the `'City'` column from `schools`. In this question, we'll bring that information back in. Here, we're going to heavily rely on the `.where` method and the various `are` predicates, so you may want to open the [`.are` documentation](http://data8.org/datascience/predicates.html?highlight=#datascience.predicates.are).\n",
    "\n",
    "In this question you will use `schools_acc`, with the five original columns in `schools` plus `'Acceptance Rate'` from `schools_stats_acc`."
   ]
  },
  {
   "cell_type": "code",
   "execution_count": null,
   "metadata": {},
   "outputs": [],
   "source": [
    "# Just run this cell\n",
    "schools_acc = schools.with_columns('Acceptance Rate', schools_stats_acc.column('Acceptance Rate'))\n",
    "schools_acc"
   ]
  },
  {
   "cell_type": "markdown",
   "metadata": {
    "deletable": false,
    "editable": false
   },
   "source": [
    "---\n",
    "## Question 3a – How many schools were in Los Angeles county?\n",
    "\n",
    "Los Angeles is both the name of a city and a county, and counties correspond to regions in our dataset (at least for California high schools).\n",
    "\n",
    "Below, assign `num_schools_lac` to the **number** of schools in our dataset that are from Los Angeles county.\n",
    "\n",
    "_Hint: This involves using `.where` and `.num_rows`._\n",
    "\n",
    "<!--\n",
    "BEGIN QUESTION\n",
    "name: q3a\n",
    "points: 1\n",
    "-->"
   ]
  },
  {
   "cell_type": "code",
   "execution_count": null,
   "metadata": {},
   "outputs": [],
   "source": [
    "num_schools_lac = ...\n",
    "num_schools_lac"
   ]
  },
  {
   "cell_type": "code",
   "execution_count": null,
   "metadata": {
    "deletable": false,
    "editable": false
   },
   "outputs": [],
   "source": [
    "grader.check(\"q3a\")"
   ]
  },
  {
   "cell_type": "markdown",
   "metadata": {
    "deletable": false,
    "editable": false
   },
   "source": [
    "---\n",
    "## Question 3b – How many students actually enrolled from schools in Los Angeles county?\n",
    "\n",
    "Below, assign `num_students_lac` to the number of students who enrolled at UC Berkeley from high schools in Los Angeles county. This involves using `.where`.\n",
    "\n",
    "*Note*: While our solution is only one line, yours doesn't have to be.\n",
    "\n",
    "<!--\n",
    "BEGIN QUESTION\n",
    "name: q3b\n",
    "points: 2\n",
    "-->"
   ]
  },
  {
   "cell_type": "code",
   "execution_count": null,
   "metadata": {},
   "outputs": [],
   "source": [
    "num_students_lac = ...\n",
    "num_students_lac"
   ]
  },
  {
   "cell_type": "code",
   "execution_count": null,
   "metadata": {
    "deletable": false,
    "editable": false
   },
   "outputs": [],
   "source": [
    "grader.check(\"q3b\")"
   ]
  },
  {
   "cell_type": "markdown",
   "metadata": {
    "deletable": false,
    "editable": false
   },
   "source": [
    "---\n",
    "## Question 3c – Which schools in Los Angeles county sent the most students?\n",
    "\n",
    "Below, assign `top_lac_schools` to a **table** with the same columns as `schools_acc`, but with **only the 10 high schools in Los Angeles county who sent the most students to UC Berkeley**, sorted in descending order. The first five rows of your table should look like this:\n",
    "\n",
    "| Name                          | City             | Region      |   Applied |   Admitted |   Enrolled |   Acceptance Rate |\n",
    "|------------------------------:|-----------------:|------------:|----------:|-----------:|-----------:|------------------:|\n",
    "| PALISADES CHARTER HIGH SCHOOL | Pacific Palisade | Los Angeles |       221 |         46 |         26 |          0.208145 |\n",
    "| ARCADIA HIGH SCHOOL           | Arcadia          | Los Angeles |       249 |         55 |         21 |          0.220884 |\n",
    "| DIAMOND BAR HIGH SCHOOL       | Diamond Bar      | Los Angeles |       264 |         39 |         19 |          0.147727 |\n",
    "| GRETCHEN WHITNEY HIGH SCHOOL  | Cerritos         | Los Angeles |        86 |         21 |         17 |          0.244186 |\n",
    "| SANTA MONICA HIGH SCHOOL      | Santa Monica     | Los Angeles |       195 |         38 |         15 |          0.194872 |\n",
    "\n",
    "*Note*: A high school *sends* a student to Berkeley when that student **enrolls** in the university.\n",
    "<!--\n",
    "BEGIN QUESTION\n",
    "name: q3c\n",
    "points: 3\n",
    "-->"
   ]
  },
  {
   "cell_type": "code",
   "execution_count": null,
   "metadata": {
    "scrolled": true
   },
   "outputs": [],
   "source": [
    "top_lac_schools = ...\n",
    "top_lac_schools"
   ]
  },
  {
   "cell_type": "code",
   "execution_count": null,
   "metadata": {
    "deletable": false,
    "editable": false
   },
   "outputs": [],
   "source": [
    "grader.check(\"q3c\")"
   ]
  },
  {
   "cell_type": "markdown",
   "metadata": {
    "deletable": false,
    "editable": false
   },
   "source": [
    "---\n",
    "## Question 3d – Which schools in Alameda county sent more than 20 students?\n",
    "\n",
    "Below, assign `big_alameda` to a table containing all of the columns of `schools_acc`, but only the rows corresponding to schools in Alameda county that sent more than 20 students to Berkeley. Don't sort.\n",
    "\n",
    "_Hint_: You can use `.where` multiple times if there are multiple conditions you want to be true; that's what you'll need to do here.\n",
    "\n",
    "<!--\n",
    "BEGIN QUESTION\n",
    "name: q3d\n",
    "points: 2\n",
    "-->"
   ]
  },
  {
   "cell_type": "code",
   "execution_count": null,
   "metadata": {},
   "outputs": [],
   "source": [
    "big_alameda = ...\n",
    "big_alameda"
   ]
  },
  {
   "cell_type": "code",
   "execution_count": null,
   "metadata": {
    "deletable": false,
    "editable": false
   },
   "outputs": [],
   "source": [
    "grader.check(\"q3d\")"
   ]
  },
  {
   "cell_type": "markdown",
   "metadata": {
    "deletable": false,
    "editable": false
   },
   "source": [
    "---\n",
    "## Question 3e – How many students applied from schools in the Bay Area? \n",
    "\n",
    "<img src='https://upload.wikimedia.org/wikipedia/commons/b/bc/Bayarea_map.png' width=400>\n",
    "\n",
    "The Bay Area consists of the nine counties `'San Francisco'`, `'San Mateo'`, `'Santa Clara'`, `'Alameda'`, `'Contra Costa'`, `'Solano'`, `'Napa'`, `'Sonoma'`, and `'Marin'`.\n",
    "\n",
    "Below, you have two tasks.\n",
    "1. Assign `bay_schools` to a table with the same columns as `schools_acc`, but only with rows corresponding to schools in the Bay Area. You should do this by first creating an array of the names of the nine Bay Area counties, and then use `.where` with `are.contained_in` to filter just the relevant rows from `schools_acc`. Don't sort.\n",
    "2. Assign `bay_acc_rate` to the overall acceptance rate of students from the Bay Area. **This requires a new calculation, you can't just look at the `'Acceptance Rate'` column in your table.** \n",
    "\n",
    "_Hint_: How did we calculate the overall acceptance rate in Question 1?\n",
    "\n",
    "<!--\n",
    "BEGIN QUESTION\n",
    "name: q3e\n",
    "points: 4\n",
    "-->"
   ]
  },
  {
   "cell_type": "code",
   "execution_count": null,
   "metadata": {},
   "outputs": [],
   "source": [
    "bay_counties = ...\n",
    "bay_schools = ...\n",
    "bay_acc_rate = ...\n",
    "\n",
    "# Don't change anything below this comment, it's just for visualization\n",
    "display(bay_schools)\n",
    "print(f\"Bay Area Acceptance Rate: {bay_acc_rate}\")"
   ]
  },
  {
   "cell_type": "code",
   "execution_count": null,
   "metadata": {
    "deletable": false,
    "editable": false
   },
   "outputs": [],
   "source": [
    "grader.check(\"q3e\")"
   ]
  },
  {
   "cell_type": "markdown",
   "metadata": {},
   "source": [
    "<hr style=\"border: 5px solid #003262;\" />\n",
    "<hr style=\"border: 1px solid #fdb515;\" />\n",
    "\n",
    "# Part 2: US Food Chains\n",
    "\n",
    "<br></br>\n",
    "<hr style=\"border: 1px solid #fdb515;\" />\n",
    "\n",
    "## Understanding The Data\n",
    "\n",
    "In this assignment we will explore 2020 restaurant rankings from [Restaurant Business Online](https://www.restaurantbusinessonline.com) (RBO). The `chains` table contains information about the 250 largest restaurant chains in the US, sorted by sales `'Sales'` in decreasing order. \n",
    "\n",
    "Run the cell below to take a look at the `chains` table, and [click here](https://www.restaurantbusinessonline.com/top-500-chains) to see the ranking on RBO's website.\n",
    "\n",
    "*Note*: Here, sales are measured in millions, so McDonald's sales value of `40412` really means \\$40.4 billion dollars."
   ]
  },
  {
   "cell_type": "code",
   "execution_count": null,
   "metadata": {},
   "outputs": [],
   "source": [
    "chains = Table.read_table('data/Top250.csv')\n",
    "chains"
   ]
  },
  {
   "cell_type": "markdown",
   "metadata": {},
   "source": [
    "<br></br>\n",
    "<hr style=\"border: 1px solid #fdb515;\" />\n",
    "\n",
    "# Question 4 – Chains \n",
    "\n",
    "Let's start by asking questions about the `chains` table. The `chains` table has many columns that we aren't going to look at. Below, we've modified `chains` so that it only has the columns `'Rank'`, `'Restaurant'`, `'Sales'`, `'YOY_Sales'`, and `'Segment_Category'`. "
   ]
  },
  {
   "cell_type": "code",
   "execution_count": null,
   "metadata": {},
   "outputs": [],
   "source": [
    "# Just run this cell\n",
    "chains = chains.select('Rank', 'Restaurant', 'Sales', 'YOY_Sales', 'Segment_Category')\n",
    "chains"
   ]
  },
  {
   "cell_type": "markdown",
   "metadata": {
    "deletable": false,
    "editable": false
   },
   "source": [
    "---\n",
    "## Question 4a - What are the most popular segment categories in `chains`?\n",
    "\n",
    "Below, assign `segment_counts` to a table with two columns, `'Segment_Category'` and `'count'`. Each row should correspond to one `'Segment_Category'`, and `'count'` should describe the number of restaurants with that `'Segment_Category'` in `chains`. Your table should be sorted by `'count'` in decreasing order, so that the first row corresponds to the most common segment category.\n",
    "\n",
    "The first five rows of `segment_counts` should look like this:\n",
    "\n",
    "| Segment_Category       |   count |\n",
    "|-----------------------:|--------:|\n",
    "| Varied Menu            |      22 |\n",
    "| Mexican                |      14 |\n",
    "| Quick Service & Burger |      13 |\n",
    "| Burger                 |      10 |\n",
    "| Family Style           |      10 |\n",
    "\n",
    "_Hint_: Use the `group` and `sort` methods, in that order\n",
    "\n",
    "<!--\n",
    "BEGIN QUESTION\n",
    "name: q4a\n",
    "points: 2\n",
    "-->"
   ]
  },
  {
   "cell_type": "code",
   "execution_count": null,
   "metadata": {},
   "outputs": [],
   "source": [
    "segment_counts = ...\n",
    "segment_counts"
   ]
  },
  {
   "cell_type": "code",
   "execution_count": null,
   "metadata": {
    "deletable": false,
    "editable": false
   },
   "outputs": [],
   "source": [
    "grader.check(\"q4a\")"
   ]
  },
  {
   "cell_type": "markdown",
   "metadata": {
    "deletable": false,
    "editable": false
   },
   "source": [
    "---\n",
    "## Question 4b\n",
    "\n",
    "In the previous question, we determined that the segment category that appeared most often was `'Varied Menu'`. It's not immediately obvious what that means!\n",
    "\n",
    "Below, assign `varied_menu_only` to a table with only the rows in `chains` where the segment category was `'Varied Menu'`. Don't sort or make any other modifications.\n",
    "\n",
    "<!--\n",
    "BEGIN QUESTION\n",
    "name: q4b\n",
    "points: 1\n",
    "-->"
   ]
  },
  {
   "cell_type": "code",
   "execution_count": null,
   "metadata": {},
   "outputs": [],
   "source": [
    "varied_menu_only = ...\n",
    "varied_menu_only"
   ]
  },
  {
   "cell_type": "code",
   "execution_count": null,
   "metadata": {
    "deletable": false,
    "editable": false
   },
   "outputs": [],
   "source": [
    "grader.check(\"q4b\")"
   ]
  },
  {
   "cell_type": "markdown",
   "metadata": {
    "deletable": false,
    "editable": false
   },
   "source": [
    "<!-- BEGIN QUESTION -->\n",
    "\n",
    "---\n",
    "## Question 4c\n",
    "\n",
    "Comment on the restaurants you see in the `varied_menu_only` table above. Touch on the following points:\n",
    "- What is the overall rank of the highest ranked `'Varied Menu'` restaurant?\n",
    "- Have you heard of any of these restaurants before? Have you been to any of them?\n",
    "- Google some of the top few restaurants to get a sense of the kind of food and drink they serve and whether they're fast-food or sit-down. Come up with a single sentence that describes the majority of these restaurants.\n",
    "\n",
    "We're not looking for anything specific here – we really just want to make sure you're thinking about what the data represents, rather than viewing it as a bunch of numbers.\n",
    "\n",
    "<!--\n",
    "BEGIN QUESTION\n",
    "name: q4c\n",
    "points: 2\n",
    "manual: true\n",
    "-->"
   ]
  },
  {
   "cell_type": "markdown",
   "metadata": {},
   "source": [
    "_Type your answer here, replacing this text._"
   ]
  },
  {
   "cell_type": "markdown",
   "metadata": {},
   "source": [
    "<!-- END QUESTION -->\n",
    "\n",
    "\n",
    "\n",
    "## Question 4d\n",
    "\n",
    "So far, we haven't really looked at the `'YOY_Sales'` column in `chains`. Remember, the values in `'YOY_Sales'` tell us the percentage change in sales from 2019 to 2020 for each restaurant chain (YOY means \"Year-over-Year\"); a `'YOY_Sales'` value of 8.6% means the restaurant earned 8.6% more in sales in 2020 than it did in 2019."
   ]
  },
  {
   "cell_type": "code",
   "execution_count": null,
   "metadata": {},
   "outputs": [],
   "source": [
    "# Outputs the first 'YOY_Sales' value in our `chains` table\n",
    "chains.column('YOY_Sales').item(0)"
   ]
  },
  {
   "cell_type": "markdown",
   "metadata": {},
   "source": [
    "Since the values in the `'YOY_Sales'` column are stored as strings, not numbers, we can't reliably sort by `'YOY_Sales'`. (Try it out – if you sort by `'YOY_Sales'` in decreasing order, it will tell you the highest `'YOY_Sales'` any restaurant had was 9.9%, though there are several restaurants with `'YOY_Sales'` values of over 10%.)"
   ]
  },
  {
   "cell_type": "code",
   "execution_count": null,
   "metadata": {},
   "outputs": [],
   "source": [
    "# Use this cell for experimentation, if you want!"
   ]
  },
  {
   "cell_type": "markdown",
   "metadata": {},
   "source": [
    "We're going to try something different. Instead of converting `'YOY_Sales'` into a number, we're going to place the values in `'YOY_Sales'` into one of five categories:\n",
    "\n",
    "| Growth Category | Year-over-Year Sales (\\%) |\n",
    "| --- | --- |\n",
    "| `'rapid increase'` | $\\geq 10$ |\n",
    "| `'steady increase'` | $[2.5, 10)$ |\n",
    "| `'stagnant'` | $[-2.5, 2.5)$ | \n",
    "| `'steady decrease'` | $[-10, -2.5)$ |\n",
    "| `'rapid decrease'` | $< -10$ |\n",
    "\n",
    "*Note*: If you're not familiar with this notation, $[a, b)$ means greater than or equal to $a$ and less than $b$."
   ]
  },
  {
   "cell_type": "markdown",
   "metadata": {},
   "source": [
    "### `str_to_cat`  function \n",
    "\n",
    "To help you out, we've defined a function, `str_to_cat`, that takes in a percentage string and returns the corresponding growth category according to the above table. Example behavior is shown below.\n",
    "\n",
    "```python\n",
    ">>> str_to_cat('-15.8%')\n",
    "'rapid decrease'\n",
    "\n",
    ">>> str_to_cat('4.8%')\n",
    "'steady increase'\n",
    "```"
   ]
  },
  {
   "cell_type": "code",
   "execution_count": null,
   "metadata": {},
   "outputs": [],
   "source": [
    "# Just run this cell to load the function\n",
    "def str_to_cat(pct_str):\n",
    "    \"\"\"Converts a percent string to a category\"\"\"\n",
    "    pct_float = float(pct_str.replace('%', ''))\n",
    "    category_dict = {\n",
    "        'rapid increase': 10,\n",
    "        'steady increase': 2.5,\n",
    "        'stagnant': -2.5,\n",
    "        'steady decrease': -10,\n",
    "        'rapid decrease': -100\n",
    "    }\n",
    "    \n",
    "    for cat, val in category_dict.items():\n",
    "        if pct_float >= val:\n",
    "            return cat"
   ]
  },
  {
   "cell_type": "markdown",
   "metadata": {
    "deletable": false,
    "editable": false
   },
   "source": [
    "**Task**: Your job is to apply the `str_to_cat` function to the appropriate column in `chains` so that an array of growth categories is returned. Then, create a new table called `chains_growth` with all of the columns in `chains` *plus* a new sixth column, `'Growth Category'`, with the aforementioned array. \n",
    "\n",
    "The first few rows of `chains_growth` should look like this:\n",
    "\n",
    "|   Rank | Restaurant   |   Sales | YOY_Sales   | Segment_Category            | Growth Category   |\n",
    "|-------:|-------------:|--------:|------------:|----------------------------:|------------------:|\n",
    "|      1 | McDonald's   |   40412 | 4.9%        | Quick Service & Burger      | steady increase   |\n",
    "|      2 | Starbucks    |   21380 | 8.6%        | Quick Service & Coffee Cafe | steady increase   |\n",
    "|      3 | Chick-fil-A  |   11320 | 13.0%       | Quick Service & Chicken     | rapid increase    |\n",
    "|      4 | Taco Bell    |   11293 | 9.0%        | Quick Service & Mexican     | steady increase   |\n",
    "|      5 | Burger King  |   10204 | 2.7%        | Quick Service & Burger      | steady increase   |\n",
    "\n",
    "\n",
    "<!--\n",
    "BEGIN QUESTION\n",
    "name: q4d\n",
    "points: 3\n",
    "-->"
   ]
  },
  {
   "cell_type": "code",
   "execution_count": null,
   "metadata": {},
   "outputs": [],
   "source": [
    "chains_growth = ...\n",
    "chains_growth"
   ]
  },
  {
   "cell_type": "code",
   "execution_count": null,
   "metadata": {
    "deletable": false,
    "editable": false
   },
   "outputs": [],
   "source": [
    "grader.check(\"q4d\")"
   ]
  },
  {
   "cell_type": "markdown",
   "metadata": {},
   "source": [
    "---\n",
    "## Question 4e\n",
    "\n",
    "Now that our table has two categorical columns – `'Segment_Category'` and `'Growth Category'` – we can pivot it! Remember, pivoting is an alternative to grouping by two columns, which we can also do. However, if we were to create a **pivot table** where the rows were specified by the unique values in the `'Segment_Category'` column, we'd have 48 rows in our new table. Constructing such a table at that size gets unwieldy.\n",
    "\n",
    "To fix this, we've created a new table, `common_chains`, which contains the same labels as `chains_growth`, but only with chains whose segment category is shared by at least 9 other chains (i.e. only the segment categories that have 10 or more restaurants). Run the following cell to load the `common_chains` table."
   ]
  },
  {
   "cell_type": "code",
   "execution_count": null,
   "metadata": {},
   "outputs": [],
   "source": [
    "common_chains = Table.read_table(\"data/common_chains.csv\")\n",
    "common_chains"
   ]
  },
  {
   "cell_type": "markdown",
   "metadata": {
    "deletable": false,
    "editable": false
   },
   "source": [
    "**Task**: Pivot `common_chains` to create a new table, `common_chains_pivoted`, with a row for each segment category and a column for each growth category. The entries in `common_chains_pivoted` should describe the **average ranking** for a given combination of segment category and growth category. The first few rows of `common_chains_pivoted` should look like this:\n",
    "\n",
    "| Segment_Category       | rapid decrease | steady decrease | stagnant | steady increase | rapid increase |\n",
    "|-----------------------:|---------------:|----------------:|---------:|----------------:|---------------:|\n",
    "| Burger                 | 183            | 134.667         | 187      | 184             | 249     |\n",
    "| Family Style           | 168            | 165             | 181.5    | 184             | 161.5   |\n",
    "\n",
    "\n",
    "*Note*: An issue you will face is that the columns of your pivoted table will be in alphabetical order by default; you must fix this so that they are in the order shown above. Use `select` to help you here; try and see if you can do this using column indexes instead of column labels!\n",
    "\n",
    "<!--\n",
    "BEGIN QUESTION\n",
    "name: q4e\n",
    "points: 4\n",
    "-->"
   ]
  },
  {
   "cell_type": "code",
   "execution_count": null,
   "metadata": {},
   "outputs": [],
   "source": [
    "common_chains_pivoted = ...\n",
    "common_chains_pivoted"
   ]
  },
  {
   "cell_type": "code",
   "execution_count": null,
   "metadata": {
    "deletable": false,
    "editable": false
   },
   "outputs": [],
   "source": [
    "grader.check(\"q4e\")"
   ]
  },
  {
   "cell_type": "markdown",
   "metadata": {},
   "source": [
    "# Done!\n",
    "\n",
    "Congrats! You've finished another Data 6 homework assignment! To submit your work, follow the steps outlined on the [submissions](https://data6.org/su22/submissions/) page.\n",
    "\n",
    "This homework is out of **37 points**. The point breakdown for this assignment is given in the table below:\n",
    "\n",
    "| **Category** | Points |\n",
    "| --- | --- |\n",
    "| Autograder | 33 |\n",
    "| Written | 4 |\n",
    "| **Total** | 37 |"
   ]
  },
  {
   "cell_type": "markdown",
   "metadata": {
    "deletable": false,
    "editable": false
   },
   "source": [
    "---\n",
    "\n",
    "To double-check your work, the cell below will rerun all of the autograder tests."
   ]
  },
  {
   "cell_type": "code",
   "execution_count": null,
   "metadata": {
    "deletable": false,
    "editable": false
   },
   "outputs": [],
   "source": [
    "grader.check_all()"
   ]
  },
  {
   "cell_type": "markdown",
   "metadata": {
    "deletable": false,
    "editable": false
   },
   "source": [
    "## Submission\n",
    "\n",
    "Make sure you have run all cells in your notebook in order before running the cell below, so that all images/graphs appear in the output. The cell below will generate a zip file for you to submit. **Please save before exporting!**"
   ]
  },
  {
   "cell_type": "code",
   "execution_count": null,
   "metadata": {
    "deletable": false,
    "editable": false
   },
   "outputs": [],
   "source": [
    "# Save your notebook first, then run this cell to export your submission.\n",
    "grader.export()"
   ]
  },
  {
   "cell_type": "markdown",
   "metadata": {},
   "source": [
    " "
   ]
  }
 ],
 "metadata": {
  "kernelspec": {
   "display_name": "Python 3 (ipykernel)",
   "language": "python",
   "name": "python3"
  },
  "language_info": {
   "codemirror_mode": {
    "name": "ipython",
    "version": 3
   },
   "file_extension": ".py",
   "mimetype": "text/x-python",
   "name": "python",
   "nbconvert_exporter": "python",
   "pygments_lexer": "ipython3",
   "version": "3.9.11"
  }
 },
 "nbformat": 4,
 "nbformat_minor": 4
}
