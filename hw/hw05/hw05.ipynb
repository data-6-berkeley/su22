{
 "cells": [
  {
   "cell_type": "code",
   "execution_count": null,
   "metadata": {
    "deletable": false,
    "editable": false
   },
   "outputs": [],
   "source": [
    "# Initialize Otter\n",
    "import otter\n",
    "grader = otter.Notebook(\"hw05.ipynb\")"
   ]
  },
  {
   "cell_type": "markdown",
   "metadata": {},
   "source": [
    "# Homework 5 – Dictionaries\n",
    "\n",
    "## Data 6, Summer 2022\n",
    "\n",
    "In this homework assignment, you will solve problems involving dictionaries, a key data structure you'll need to be familiar with moving forward. You'll also gain some experience with reading in real data.\n",
    "\n",
    "This homework is due on **Thursday, August 11th at 11:00PM**. You must submit the assignment to Gradescope. Submission instructions can be found at the bottom of this notebook. See the [syllabus](https://data6.org/su22/syllabus/) for our late submission policy.\n",
    "\n",
    "**Note:** In this homework, we've tried our best to add helpful comments to the test cases that you will be able to see. If you fail a test case, read the error message to look for our comments, as they may point you in the right direction!"
   ]
  },
  {
   "cell_type": "code",
   "execution_count": null,
   "metadata": {},
   "outputs": [],
   "source": [
    "# Just run this cell to load in the relevant dependencies\n",
    "\n",
    "from datascience import *\n",
    "from data6_utils import *\n",
    "import numpy as np\n",
    "import plotly.express as px\n",
    "from ipywidgets import interact, widgets\n",
    "from IPython.display import HTML, display, clear_output, Image\n",
    "import seaborn as sns\n",
    "import matplotlib.pyplot as plt\n",
    "%matplotlib inline"
   ]
  },
  {
   "cell_type": "markdown",
   "metadata": {},
   "source": [
    "<hr style=\"border: 5px solid #003262;\" />\n",
    "<hr style=\"border: 1px solid #fdb515;\" />\n",
    "\n",
    "## Part 1: Dictionary Fundamentals\n",
    "\n",
    "<br></br>\n",
    "<hr style=\"border: 1px solid #fdb515;\" />\n",
    "\n",
    "## Question 1 – Syntax\n",
    "\n",
    "In this question, you will solidify your understanding of the syntax necessary for working with dictionaries. You'll also learn how to read in data from external files."
   ]
  },
  {
   "cell_type": "markdown",
   "metadata": {},
   "source": [
    "---\n",
    "## Question 1a\n",
    "\n",
    "Below, we create a dictionary that contains modern-day slang acronyms and their corresponding full forms."
   ]
  },
  {
   "cell_type": "code",
   "execution_count": null,
   "metadata": {},
   "outputs": [],
   "source": [
    "# DO NOT EDIT THIS CELL – just run it!\n",
    "\n",
    "more_slang = {\n",
    "    'haha': 'that was not funny',\n",
    "    'smh': 'shake my head',\n",
    "    'lol': 'laugh out loud',\n",
    "    'GOAT': 'greatest of all time'\n",
    "}"
   ]
  },
  {
   "cell_type": "markdown",
   "metadata": {
    "deletable": false,
    "editable": false
   },
   "source": [
    "In the cell below, add a new key-value pair to `more_slang`, corresponding to the abbreviation `'ofr'`. The value can be any string consisting of three words whose first letter is `'o'`, second letter is `'f'`, and third letter is `'o'`. You should not change the cell above.\n",
    "\n",
    "<!--\n",
    "BEGIN QUESTION\n",
    "name: q1a\n",
    "points: 1\n",
    "-->"
   ]
  },
  {
   "cell_type": "code",
   "execution_count": null,
   "metadata": {},
   "outputs": [],
   "source": [
    "..."
   ]
  },
  {
   "cell_type": "code",
   "execution_count": null,
   "metadata": {
    "deletable": false,
    "editable": false
   },
   "outputs": [],
   "source": [
    "grader.check(\"q1a\")"
   ]
  },
  {
   "cell_type": "markdown",
   "metadata": {
    "deletable": false,
    "editable": false
   },
   "source": [
    "---\n",
    "## Question 1b\n",
    "\n",
    "In the cell below, we've created a new dictionary `even_more_slang` which is a copy of your `more_slang` from 1a. (We did this in order to make the autograder work correctly.)\n",
    "\n",
    "**Task:** Your job is to add another key-value pair to `even_more_slang`. The key should be the string `'explicit'`, and the value should be another dictionary. In this nested dictionary, the two keys should be the strings `'lmao'` and `'fml'`, and the values should be four-word and three-word strings that abbreviate to `'lmao'` and `'fml'`, respectively. Don't use any swear words – we don't want to lose our jobs! 😅\n",
    "\n",
    "That is, after running your cell, `even_more_slang['explicit']['fml']` should be a string consisting of three words.\n",
    "\n",
    "*Reminder:* The keys of a dictionary can be strings, numbers, bools, or even `None` – just not a list or other dictionary. On the other hand, values in a dictionary can be anything!\n",
    "\n",
    "<!--\n",
    "BEGIN QUESTION\n",
    "name: q1b\n",
    "points: 2\n",
    "-->"
   ]
  },
  {
   "cell_type": "code",
   "execution_count": null,
   "metadata": {},
   "outputs": [],
   "source": [
    "even_more_slang = more_slang.copy() # Don't change this\n",
    "\n",
    "explicit_dict = {\n",
    "    ...\n",
    "}\n",
    "\n",
    "..."
   ]
  },
  {
   "cell_type": "code",
   "execution_count": null,
   "metadata": {
    "deletable": false,
    "editable": false
   },
   "outputs": [],
   "source": [
    "grader.check(\"q1b\")"
   ]
  },
  {
   "cell_type": "markdown",
   "metadata": {
    "deletable": false,
    "editable": false
   },
   "source": [
    "---\n",
    "## Question 1c\n",
    "\n",
    "We can also read and convert JSON files into Python dictionaries. That's what you'll do in this question.\n",
    "\n",
    "Before following these instructions, make sure to save your notebook (which you should be doing frequently anyways)!\n",
    "\n",
    "1. Right click the Jupyter logo in the top left of your screen, and click \"Open Link in New Tab\" (it may appear as Open...)\n",
    "2. Click the `data` folder.\n",
    "3. Identify the name of the `.json` file that contains Google Maps data. You may have to open both `.json` files to determine which one it is; you can open files by clicking on them.\n",
    "4. Set the string `maps_path` below equal to the path to that file. `maps_path` should start with `'data/'` and end with `'.json'`.\n",
    "\n",
    "<!--\n",
    "BEGIN QUESTION\n",
    "name: q1c\n",
    "points: 1\n",
    "-->"
   ]
  },
  {
   "cell_type": "code",
   "execution_count": null,
   "metadata": {},
   "outputs": [],
   "source": [
    "maps_path = ..."
   ]
  },
  {
   "cell_type": "code",
   "execution_count": null,
   "metadata": {
    "deletable": false,
    "editable": false
   },
   "outputs": [],
   "source": [
    "grader.check(\"q1c\")"
   ]
  },
  {
   "cell_type": "markdown",
   "metadata": {},
   "source": [
    "If you answered the previous part correctly, you should be able to run the following cell:"
   ]
  },
  {
   "cell_type": "code",
   "execution_count": null,
   "metadata": {},
   "outputs": [],
   "source": [
    "maps_data = read_json(maps_path)\n",
    "maps_data"
   ]
  },
  {
   "cell_type": "markdown",
   "metadata": {
    "deletable": false,
    "editable": false
   },
   "source": [
    "---\n",
    "## Question 1d\n",
    "\n",
    "The dictionary above is quite unwieldy, and contains many nested dictionaries! Let's try and extract some data from it programatically (that is, using code).\n",
    "\n",
    "**Task**: Assign `maps_data_keys` to the `dict_keys` object of all of `maps_data`'s keys. Don't just manually type in all of the keys.\n",
    "\n",
    "_Hint_: `len(maps_data_keys)` will tell you that there are 6 keys. `'long_name'` is not a key of `maps_data`.\n",
    "\n",
    "<!--\n",
    "BEGIN QUESTION\n",
    "name: q1d\n",
    "points: 1\n",
    "-->"
   ]
  },
  {
   "cell_type": "code",
   "execution_count": null,
   "metadata": {},
   "outputs": [],
   "source": [
    "maps_data_keys = ...\n",
    "maps_data_keys"
   ]
  },
  {
   "cell_type": "code",
   "execution_count": null,
   "metadata": {
    "deletable": false,
    "editable": false
   },
   "outputs": [],
   "source": [
    "grader.check(\"q1d\")"
   ]
  },
  {
   "cell_type": "markdown",
   "metadata": {
    "deletable": false,
    "editable": false
   },
   "source": [
    "---\n",
    "## Question 1e\n",
    "\n",
    "Finally, assign `key_1`, `key_2`, and `key_3` below so that `maps_data[key_1][key_2][key_3]` evaluates to the latitude of the location whose data is stored in `maps_data`. We've done `key_2` for you.\n",
    "\n",
    "_Hint_: Work one step at a time. You know that `key_1` must be one of the six keys in `maps_data_keys`, which you found above. Then, given what we've set `key_2` to, what must `key_3` be?\n",
    "\n",
    "<!--\n",
    "BEGIN QUESTION\n",
    "name: q1e\n",
    "points: 2\n",
    "-->"
   ]
  },
  {
   "cell_type": "code",
   "execution_count": null,
   "metadata": {},
   "outputs": [],
   "source": [
    "key_1 = ...\n",
    "key_2 = 'location'\n",
    "key_3 = ...\n",
    "\n",
    "maps_data[key_1][key_2][key_3]"
   ]
  },
  {
   "cell_type": "code",
   "execution_count": null,
   "metadata": {
    "deletable": false,
    "editable": false
   },
   "outputs": [],
   "source": [
    "grader.check(\"q1e\")"
   ]
  },
  {
   "cell_type": "markdown",
   "metadata": {},
   "source": [
    "By the way, `maps_data` contains location information for Bonchon, a Korean fried chicken restaurant in Downtown Berkeley. It's quite good, you should try it!"
   ]
  },
  {
   "cell_type": "markdown",
   "metadata": {},
   "source": [
    "<br></br>\n",
    "<hr style=\"border: 1px solid #fdb515;\" />\n",
    "\n",
    "## Question 2 – Emojify \n",
    "\n",
    "The default keyboard on iOS suggests emojis for you to use in place of boring, ordinary words.\n",
    "\n",
    "<img src = \"https://support.apple.com/library/content/dam/edam/applecare/images/en_US/iOS/ios12-iphone-x-messages-replace-words-with-emoji.jpg\" width=200>\n",
    "\n",
    "In this question, you will replicate some of that behavior using dictionaries!\n",
    "\n",
    "\n",
    "### Emojis in Python\n",
    "In Python, emojis can be included as part of a string. For example:"
   ]
  },
  {
   "cell_type": "code",
   "execution_count": null,
   "metadata": {},
   "outputs": [],
   "source": [
    "'🤤'"
   ]
  },
  {
   "cell_type": "markdown",
   "metadata": {},
   "source": [
    "If you remove the quotes from the emoji above, you will see `SyntaxError: invalid character in identifier`. **Make sure that throughout this question, your emojis are contained within strings!** (Fun fact, they cannot currently be used as variable names. Try it and see what error you get!)"
   ]
  },
  {
   "cell_type": "markdown",
   "metadata": {
    "deletable": false,
    "editable": false
   },
   "source": [
    "---\n",
    "## Question 2a\n",
    "\n",
    "In the cell below, define a dictionary `fav_emojis` that has the following **five** keys:\n",
    "- `'happy'`\n",
    "- `'annoyed'`\n",
    "- `'tired'`\n",
    "- `'love'`\n",
    "- `'food'`\n",
    "\n",
    "The values corresponding to these five keys must be an emoji. [getemoji.com](https://getemoji.com) allows you to copy and paste emojis. To select an emoji, double click it to highlight it. You may choose any emojis you would like **as long as**:\n",
    ">- it is copied from the site above\n",
    ">- it is not in the \"New Emojis\" category at the bottom\n",
    "\n",
    "Have fun with it! We've chosen an emoji for `'happy'` for you, but feel free to change it.\n",
    "\n",
    "**Some troubleshooting tips:**\n",
    "- After defining your dictionary, you may see some emoijs displayed with `'\\U001...'` instead of their actual graphic. **If this happens, pick different emojis**.\n",
    "- If you fail the test case that says your emojis are invalid, and you're certain you correctly defined your dictionary, you may consider choosing other emojis that are more generic that are more likely to be recognized by our autograder. This most likely won't be a problem.\n",
    "\n",
    "<!--\n",
    "BEGIN QUESTION\n",
    "name: q2a\n",
    "points: 2\n",
    "-->"
   ]
  },
  {
   "cell_type": "code",
   "execution_count": null,
   "metadata": {},
   "outputs": [],
   "source": [
    "fav_emojis = {\n",
    "    'happy': '😀',\n",
    "    ...\n",
    "}\n",
    "\n",
    "fav_emojis"
   ]
  },
  {
   "cell_type": "code",
   "execution_count": null,
   "metadata": {
    "deletable": false,
    "editable": false
   },
   "outputs": [],
   "source": [
    "grader.check(\"q2a\")"
   ]
  },
  {
   "cell_type": "markdown",
   "metadata": {
    "deletable": false,
    "editable": false
   },
   "source": [
    "---\n",
    "## Question 2b\n",
    "\n",
    "Now, complete the implementation of the function `emojify`, which takes in a string `message` and returns a new string with all instances of any of the keys in `fav_emojis` replaced with their corresponding emoji value. Example behavior is shown below, though the emojis will be different, depending on what you put in `fav_emojis`. If you passed the previous question, you don't need to change your emojis!\n",
    "\n",
    "```py\n",
    ">>> emojify('Filing taxes makes me tired and want food.')\n",
    "'Filing taxes makes me 😵 and want 🌽.'\n",
    "\n",
    ">>> emojify('I LOVE love life right now. I am so happy – why do you look so annoyed?!')\n",
    "'I 💋 💋 life right now. I am so 😀 – why do you look so 💀?!'\n",
    "\n",
    ">>> emojify(\"It's not you, it's me... I don't make you haPPy, I make you tired.\")\n",
    "\"It's not you, it's me... I don't make you 😀, I make you 😵.\"\n",
    "```\n",
    "\n",
    "*Hint*: You may have seen a similar exercise in lecture.\n",
    "\n",
    "<!--\n",
    "BEGIN QUESTION\n",
    "name: q2b\n",
    "points: 3\n",
    "-->"
   ]
  },
  {
   "cell_type": "code",
   "execution_count": null,
   "metadata": {},
   "outputs": [],
   "source": [
    "def emojify(message):\n",
    "    # This line ensures your code replaces correctly if any of\n",
    "    # the keys in fav_emojis appears in uppercase in the message\n",
    "    message = message.lower()\n",
    "\n",
    "    ...\n",
    "    \n",
    "    # Don't change this\n",
    "    return message"
   ]
  },
  {
   "cell_type": "code",
   "execution_count": null,
   "metadata": {
    "deletable": false,
    "editable": false
   },
   "outputs": [],
   "source": [
    "grader.check(\"q2b\")"
   ]
  },
  {
   "cell_type": "markdown",
   "metadata": {},
   "source": [
    "### Fun Demo\n",
    "\n",
    "Run the cell below to produce a text box (don't worry about the code itself). Type text in the text box and watch it get emojified live!"
   ]
  },
  {
   "cell_type": "code",
   "execution_count": null,
   "metadata": {},
   "outputs": [],
   "source": [
    "def emojify_live(type_here):\n",
    "    display(HTML('<h2>' + emojify(type_here) + '</h2>'))\n",
    "interact(emojify_live, type_here=\"I LOVE food\");"
   ]
  },
  {
   "cell_type": "markdown",
   "metadata": {},
   "source": [
    "<br></br>\n",
    "<hr style=\"border: 1px solid #fdb515;\" />\n",
    "\n",
    "## Question 3 – Value Counts and State of the Union\n",
    "\n",
    "In this question you will implement one function, `value_counts`, and we will use it for a particularly interesting application – analyzing State of the Union speeches from recent US Presidents.\n",
    "\n",
    "<br></br>\n",
    "\n",
    "---\n",
    "## Question 3a\n",
    "\n",
    "`value_counts` will take in an array `vals` and return a dictionary describing the number of times each element in `vals` appeared. Specifically, the keys of the returned dictionary should be the elements of `vals`, and the values of the returned dictionary should be the number of times the keys occurred in `vals`.\n",
    "\n",
    "Example behavior is shown below.\n",
    "\n",
    "```py\n",
    ">>> value_counts(make_array('the', 'dog', 'jumped', 'over', 'the', 'fence', 'over', 'there'))\n",
    "{'fence': 1, 'there': 1, 'jumped': 1, 'the': 2, 'dog': 1, 'over': 2}\n",
    "\n",
    ">>> value_counts(make_array('just dance', 'down', 'dancing queen', 'dancing queen', 'dancing queen', 'just dance'))\n",
    "{'dancing queen': 3, 'down': 1, 'just dance': 2}\n",
    "\n",
    ">>> value_counts(make_array(4, 5, 1, 9, 9, 3, 2, 4, 9, 9, 5))\n",
    "{1: 1, 2: 1, 3: 1, 4: 2, 5: 2, 9: 4}\n",
    "```\n",
    "\n",
    "In the second example, the value for `'dancing queen'` is 3 because `'dancing queen'` appeared three times in the array `make_array('just dance', 'down', 'dancing queen', 'dancing queen', 'dancing queen', 'just dance')`. Note, the order in which the keys are displayed in your dictionary is not important.\n",
    "\n",
    "**To help you,** we want to point you to two functions/methods. One is `np.unique`, for which the documentation can be found [here](https://numpy.org/doc/stable/reference/generated/numpy.unique.html). "
   ]
  },
  {
   "cell_type": "code",
   "execution_count": null,
   "metadata": {},
   "outputs": [],
   "source": [
    "np.unique(make_array(4, 5, 1, 9, 9, 3, 2, 4, 9, 9, 5))"
   ]
  },
  {
   "cell_type": "markdown",
   "metadata": {},
   "source": [
    "Another useful method is `np.count_nonzero`, which, with a little ingenuity, can be used to determine the number of appearances of a particular value in an array; it's documentation can be found [here](https://numpy.org/doc/stable/reference/generated/numpy.count_nonzero.html). \n",
    "\n",
    "Below, we create an array of `True` and `False` values corresponding to whether or not each element within the array is equal to 9. Then, we could how many nonzero elements (i.e. `True` elements) that we had. This number represents the number of 9's that appeared in our original array."
   ]
  },
  {
   "cell_type": "code",
   "execution_count": null,
   "metadata": {},
   "outputs": [],
   "source": [
    "np.count_nonzero(make_array(4, 5, 1, 9, 9, 3, 2, 4, 9, 9, 5) == 9)"
   ]
  },
  {
   "cell_type": "markdown",
   "metadata": {
    "deletable": false,
    "editable": false
   },
   "source": [
    "You should use both of the above techniques (`np.unique` and `np.count_nonzero`) in your implementation of `value_counts`.\n",
    "\n",
    "**Task**: In the cell below, implement `value_counts` so that it matches the behavior described above.\n",
    "\n",
    "<!--\n",
    "BEGIN QUESTION\n",
    "name: q3a\n",
    "points: 3\n",
    "-->"
   ]
  },
  {
   "cell_type": "code",
   "execution_count": null,
   "metadata": {},
   "outputs": [],
   "source": [
    "def value_counts(vals):\n",
    "    unique_vals = ...\n",
    "    frequencies = ...\n",
    "    for val in unique_vals:\n",
    "        ...\n",
    "    return frequencies"
   ]
  },
  {
   "cell_type": "code",
   "execution_count": null,
   "metadata": {
    "deletable": false,
    "editable": false
   },
   "outputs": [],
   "source": [
    "grader.check(\"q3a\")"
   ]
  },
  {
   "cell_type": "markdown",
   "metadata": {},
   "source": [
    "<br></br>\n",
    "<hr style=\"border: 1px solid #fdb515;\" />\n",
    "\n",
    "## State of the Union Addresses\n",
    "\n",
    "**Note:** The rest of the cells in this question rely on your `value_counts` function being completed and correct. You will not have to write code in the rest of this question, but you'll need to answer a written question.\n",
    "\n",
    "Each year, the sitting US President delivers a [State of the Union](https://en.wikipedia.org/wiki/State_of_the_Union) (SOTU) address detailing the \"current condition of the nation\". In the remainder of this question, we will use your `value_counts` function to visualize the most common words in speeches by Presidents George (W.) Bush, Barack Obama, and Donald Trump.\n",
    "\n",
    "We will load in three arrays:\n",
    "- `bush_sotu`, which contains all of the words used by George Bush in his **eight** SOTU speeches\n",
    "- `obama_sotu`, which contains all of the words used by Barack Obama in his **eight** SOTU speeches\n",
    "- `trump_sotu`, which contains all of the words used by Donald Trump in his **2017** SOTU speech only\n",
    "\n",
    "Run the cell below to read this information."
   ]
  },
  {
   "cell_type": "code",
   "execution_count": null,
   "metadata": {},
   "outputs": [],
   "source": [
    "# Run this cell.\n",
    "\n",
    "bush_sotu = load_clean_split('data/bush-sotu.txt')\n",
    "print('words by Bush: ', len(bush_sotu))\n",
    "\n",
    "obama_sotu = load_clean_split('data/obama-sotu.txt')\n",
    "print('words by Obama: ', len(obama_sotu))\n",
    "\n",
    "trump_sotu = load_clean_split('data/trump-sotu.txt')\n",
    "print('words by Trump: ', len(trump_sotu))"
   ]
  },
  {
   "cell_type": "markdown",
   "metadata": {},
   "source": [
    "Let's take a look at `bush_sotu`:"
   ]
  },
  {
   "cell_type": "code",
   "execution_count": null,
   "metadata": {},
   "outputs": [],
   "source": [
    "bush_sotu"
   ]
  },
  {
   "cell_type": "markdown",
   "metadata": {},
   "source": [
    "There are lots of words here! As we mentioned before, we want to determine the number of occurrences of each word. Run the cell below to compute the frequency of each word in the speeches of Bush, Obama, and Trump. This cell may take up to 30 seconds to run."
   ]
  },
  {
   "cell_type": "code",
   "execution_count": null,
   "metadata": {},
   "outputs": [],
   "source": [
    "# Run this cell. Be patient!\n",
    "bush_dict = value_counts(bush_sotu)\n",
    "print('unique words by Bush: ', len(bush_dict))\n",
    "\n",
    "obama_dict = value_counts(obama_sotu)\n",
    "print('unique words by Obama: ', len(obama_dict))\n",
    "\n",
    "trump_dict = value_counts(trump_sotu)\n",
    "print('unique words by Trump: ', len(trump_dict))"
   ]
  },
  {
   "cell_type": "markdown",
   "metadata": {},
   "source": [
    "Note, there are far fewer unique words by Trump since we're only using the text of one of his speeches, while we're using the text from all eight of both Bush and Obama's speeches.\n",
    "\n",
    "Let's look at `bush_dict`:"
   ]
  },
  {
   "cell_type": "code",
   "execution_count": null,
   "metadata": {},
   "outputs": [],
   "source": [
    "bush_dict"
   ]
  },
  {
   "cell_type": "markdown",
   "metadata": {},
   "source": [
    "Dictionaries aren't ordered. However, we can extract two arrays from the above dictionary, corresponding to words and their frequencies in sorted order. After doing so, we can visualize the frequencies of the most common words used by each President.\n",
    "\n",
    "Note, we're going to ignore some of the more common words like \"the\", \"that\", and \"its\" because they won't really tell us anything about the content of a President's speeches.\n",
    "\n",
    "Run the cell below to get things set up; don't worry about the code itself."
   ]
  },
  {
   "cell_type": "code",
   "execution_count": null,
   "metadata": {},
   "outputs": [],
   "source": [
    "# Just run this cell. \n",
    "words_to_ignore = make_array('the', 'and', 'to', 'of', 'in', 'we', 'a', 'our', 'is', 'that', 'will', 'for',\n",
    "                   'are', 'have', 'this', 'i', 'on', 'with', 'by', 'their', 'it', 'you', 'be', 'they',\n",
    "                   'not', 'from', 'must', 'all', 'has', 'so', 'as', 'can', 's', 'us', 'who', 'or', 'at',\n",
    "                   'them', 'these', 'an', 'new', 'he', 'him', 'his', 'she', 'her', 'hers', \n",
    "                   'but', 'was', 'my', 've', 'do', 'than', 'its', 't', 'nt', 're', 'if', 'also')\n",
    "\n",
    "def create_freq_df(words, counts):\n",
    "    df = Table().with_columns('word', words, 'count', counts).to_df()\n",
    "    return df[~df['word'].isin(words_to_ignore)].head(50)\n",
    "\n",
    "bush_table = create_freq_df(*sort_by_value(bush_dict))\n",
    "obama_table = create_freq_df(*sort_by_value(obama_dict))\n",
    "trump_table = create_freq_df(*sort_by_value(trump_dict))\n",
    "\n",
    "def plot_frequency(name):\n",
    "    name_to_table = {\n",
    "        'George Bush': bush_table,\n",
    "        'Barack Obama': obama_table,\n",
    "        'Donald Trump': trump_table\n",
    "    }\n",
    "    fig = px.bar(name_to_table[name], x = 'word', y = 'count', title = 'Frequency of words used by ' + name)\n",
    "    fig.show()\n",
    "    \n",
    "DEFAULT = 'George Bush'\n",
    "\n",
    "dropdown_pres = widgets.Dropdown(options = ['George Bush', 'Barack Obama', 'Donald Trump'],\n",
    "                                   value = DEFAULT)\n",
    "\n",
    "def dropdown_pres_eventhandler(change):\n",
    "    if change['name'] == 'value' and (change['new'] != change['old']):\n",
    "        clear_output()\n",
    "        display(dropdown_pres)\n",
    "        plot_frequency(change['new'])"
   ]
  },
  {
   "cell_type": "markdown",
   "metadata": {},
   "source": [
    "Finally, run this cell to produce an interactive visualization of word frequencies. You'll be able to change the President whose word counts we've visualizing via a dropdown menu."
   ]
  },
  {
   "cell_type": "code",
   "execution_count": null,
   "metadata": {},
   "outputs": [],
   "source": [
    "display(dropdown_pres)\n",
    "\n",
    "plot_frequency(DEFAULT)\n",
    "    \n",
    "dropdown_pres.observe(dropdown_pres_eventhandler)"
   ]
  },
  {
   "cell_type": "markdown",
   "metadata": {
    "deletable": false,
    "editable": false
   },
   "source": [
    "<!-- BEGIN QUESTION -->\n",
    "\n",
    "---\n",
    "## Question 3b\n",
    "\n",
    "Look at the word frequencies for all three US Presidents in the plot above. Did you notice anything interesting? Try and find a word or two that one President used very frequently that other Presidents did not use very often. In the cell below, tell us which President and word(s) you found, and try and give a reason why.\n",
    "\n",
    "*Note*: there's no right answer here – we're just looking to make sure you played around with the plots above and thought about your answer. Have fun with it!\n",
    "\n",
    "<!--\n",
    "BEGIN QUESTION\n",
    "name: q3b\n",
    "points: 2\n",
    "manual: true\n",
    "-->"
   ]
  },
  {
   "cell_type": "markdown",
   "metadata": {},
   "source": [
    "_Type your answer here, replacing this text._"
   ]
  },
  {
   "cell_type": "markdown",
   "metadata": {},
   "source": [
    "<!-- END QUESTION -->\n",
    "\n",
    "\n",
    "\n",
    "# Done!\n",
    "\n",
    "Congratulations, you've finished your last homework assignment in Data 6! To submit your work, follow the steps outlined on the [Homework Submission Page](https://data6.org/su22/submissions/) of the course website.\n",
    "\n",
    "The point breakdown for this assignment is given in the table below:\n",
    "\n",
    "| **Category** | Points |\n",
    "| --- | --- |\n",
    "| Autograder | 15 |\n",
    "| Written (Question 3b) | 2 |\n",
    "| **Total** | 17 |"
   ]
  },
  {
   "cell_type": "markdown",
   "metadata": {
    "deletable": false,
    "editable": false
   },
   "source": [
    "---\n",
    "\n",
    "To double-check your work, the cell below will rerun all of the autograder tests."
   ]
  },
  {
   "cell_type": "code",
   "execution_count": null,
   "metadata": {
    "deletable": false,
    "editable": false
   },
   "outputs": [],
   "source": [
    "grader.check_all()"
   ]
  },
  {
   "cell_type": "markdown",
   "metadata": {
    "deletable": false,
    "editable": false
   },
   "source": [
    "## Submission\n",
    "\n",
    "Make sure you have run all cells in your notebook in order before running the cell below, so that all images/graphs appear in the output. The cell below will generate a zip file for you to submit. **Please save before exporting!**"
   ]
  },
  {
   "cell_type": "code",
   "execution_count": null,
   "metadata": {
    "deletable": false,
    "editable": false
   },
   "outputs": [],
   "source": [
    "# Save your notebook first, then run this cell to export your submission.\n",
    "grader.export()"
   ]
  },
  {
   "cell_type": "markdown",
   "metadata": {},
   "source": [
    " "
   ]
  }
 ],
 "metadata": {
  "kernelspec": {
   "display_name": "Python 3 (ipykernel)",
   "language": "python",
   "name": "python3"
  },
  "language_info": {
   "codemirror_mode": {
    "name": "ipython",
    "version": 3
   },
   "file_extension": ".py",
   "mimetype": "text/x-python",
   "name": "python",
   "nbconvert_exporter": "python",
   "pygments_lexer": "ipython3",
   "version": "3.9.11"
  }
 },
 "nbformat": 4,
 "nbformat_minor": 2
}
