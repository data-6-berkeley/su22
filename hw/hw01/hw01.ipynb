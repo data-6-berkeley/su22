{
 "cells": [
  {
   "cell_type": "code",
   "execution_count": null,
   "metadata": {
    "deletable": false,
    "editable": false
   },
   "outputs": [],
   "source": [
    "# Initialize Otter\n",
    "import otter\n",
    "grader = otter.Notebook(\"hw01.ipynb\")"
   ]
  },
  {
   "cell_type": "markdown",
   "metadata": {},
   "source": [
    "# Homework 1 – Python Fundamentals\n",
    "\n",
    "## Data 6, Summer 2022\n",
    "\n",
    "In this homework assignment, you will apply what you've learned about arithmetic expressions, data types, boolean expressions, and functions. Your job is to write code anywhere you see `...`, as well as answer any open-ended questions.\n",
    "\n",
    "This homework is due on **Thursday July 14th, at 11:00 PM**. You must submit the assignment to Gradescope. Submission instructions can be found at the bottom of this notebook and on Ed. See the [syllabus](https://data6.org/su22/syllabus/#late-policy-and-extensions) for our late submission policy."
   ]
  },
  {
   "cell_type": "code",
   "execution_count": null,
   "metadata": {},
   "outputs": [],
   "source": [
    "# Just run this cell to import necessary Python packages\n",
    "from datascience import *\n",
    "import numpy as np"
   ]
  },
  {
   "cell_type": "markdown",
   "metadata": {},
   "source": [
    "<hr style=\"border: 5px solid #003262;\" />\n",
    "<hr style=\"border: 1px solid #fdb515;\" />\n",
    "\n",
    "# Part 1: Computation\n",
    "\n",
    "<br/><br/>\n",
    "\n",
    "\n",
    "<hr style=\"border: 1px solid #fdb515;\" />\n",
    "\n",
    "# Question 1 – Errors\n",
    "\n",
    "In this question, you will identify why certain lines of code cause an error or have unexpected behavior."
   ]
  },
  {
   "cell_type": "markdown",
   "metadata": {},
   "source": [
    "---\n",
    "\n",
    "## Question 1a\n",
    "\n",
    "The following cell contains an error."
   ]
  },
  {
   "cell_type": "code",
   "execution_count": null,
   "metadata": {
    "tags": [
     "raises-exception"
    ]
   },
   "outputs": [],
   "source": [
    "8 = 10 - 2"
   ]
  },
  {
   "cell_type": "markdown",
   "metadata": {
    "deletable": false,
    "editable": false
   },
   "source": [
    "Choose the best explanation of what's wrong with the code, and then assign the integer 1, 2, 3, or 4 to `reason_1a` below to indicate your answer.\n",
    "\n",
    "1. Python already knows `8 = 10 - 2`.\n",
    "\n",
    "2. `8` is a number, and numbers can't be Python names. In Python, \"`x = 10 - 2`\" means \"assign `x` as the name for the value of `10 - 2`.\"\n",
    "\n",
    "3. It should be `10 - 2 = 8`.\n",
    "\n",
    "4. I don't get an error message. This is a trick question.\n",
    "\n",
    "<!--\n",
    "BEGIN QUESTION\n",
    "name: q1a\n",
    "points: 1\n",
    "-->"
   ]
  },
  {
   "cell_type": "code",
   "execution_count": null,
   "metadata": {},
   "outputs": [],
   "source": [
    "# Your answer should be in the format reason_1a = n, where n is either 1, 2, 3, or 4\n",
    "\n",
    "reason_1a = ..."
   ]
  },
  {
   "cell_type": "code",
   "execution_count": null,
   "metadata": {
    "deletable": false,
    "editable": false
   },
   "outputs": [],
   "source": [
    "grader.check(\"q1a\")"
   ]
  },
  {
   "cell_type": "markdown",
   "metadata": {},
   "source": [
    "---\n",
    "\n",
    "## Question 1b\n",
    "\n",
    "The following cell contains an error."
   ]
  },
  {
   "cell_type": "code",
   "execution_count": null,
   "metadata": {
    "tags": [
     "raises-exception"
    ]
   },
   "outputs": [],
   "source": [
    "four = 3\n",
    "nine = four times four"
   ]
  },
  {
   "cell_type": "markdown",
   "metadata": {
    "deletable": false,
    "editable": false
   },
   "source": [
    "Choose the best explanation of what's wrong with the code and assign the integer `1`, `2`, `3`, or `4` to `reason_1b` below to indicate your answer.\n",
    "\n",
    "1. The `times` operation only applies to numbers, not the word `four`.\n",
    "\n",
    "2. The name `four` cannot be assigned to the number 3.\n",
    "\n",
    "3. four times four is sixteen, not nine.\n",
    "\n",
    "4. The name `four` cannot be followed directly by another name.\n",
    "\n",
    "<!--\n",
    "BEGIN QUESTION\n",
    "name: q1b\n",
    "points: 1\n",
    "-->"
   ]
  },
  {
   "cell_type": "code",
   "execution_count": null,
   "metadata": {},
   "outputs": [],
   "source": [
    "# Your answer should be in the format reason_1b = n, where n is either 1, 2, 3, or 4\n",
    "\n",
    "reason_1b = ..."
   ]
  },
  {
   "cell_type": "code",
   "execution_count": null,
   "metadata": {
    "deletable": false,
    "editable": false
   },
   "outputs": [],
   "source": [
    "grader.check(\"q1b\")"
   ]
  },
  {
   "cell_type": "markdown",
   "metadata": {},
   "source": [
    "---\n",
    "\n",
    "## Question 1c\n",
    "\n",
    "Terry runs the following cell and expects that the value of `eight` will be `8`, stored as an `int`."
   ]
  },
  {
   "cell_type": "code",
   "execution_count": null,
   "metadata": {},
   "outputs": [],
   "source": [
    "eight = print(3 + 5)"
   ]
  },
  {
   "cell_type": "markdown",
   "metadata": {
    "deletable": false,
    "editable": false
   },
   "source": [
    "What data type is the value bound to the name `eight`? In other words, does `eight` have type `int`, `float`, `str`, `bool`, or `NoneType`?\n",
    "\n",
    "Assign your answer to the name `eight_type` below **as a string**. For example, if you think the answer is `int`, write `eight_type = 'int'` below.\n",
    "\n",
    "<!--\n",
    "BEGIN QUESTION\n",
    "name: q1c\n",
    "points: 1\n",
    "-->"
   ]
  },
  {
   "cell_type": "code",
   "execution_count": null,
   "metadata": {},
   "outputs": [],
   "source": [
    "eight_type = ..."
   ]
  },
  {
   "cell_type": "code",
   "execution_count": null,
   "metadata": {
    "deletable": false,
    "editable": false
   },
   "outputs": [],
   "source": [
    "grader.check(\"q1c\")"
   ]
  },
  {
   "cell_type": "markdown",
   "metadata": {},
   "source": [
    "---\n",
    "\n",
    "## Question 1d\n",
    "\n",
    "Sam wants to create and print a string consisting of their name, age, and house address, as follows."
   ]
  },
  {
   "cell_type": "code",
   "execution_count": null,
   "metadata": {
    "tags": [
     "raises-exception"
    ]
   },
   "outputs": [],
   "source": [
    "name = 'Sam'\n",
    "age = 51\n",
    "house_number = 1436\n",
    "house_street = 'Durant Avenue'\n",
    "\n",
    "sam_greeting = 'My name is ' + name + ', I am ' + age + ' years old, and I live at ' + house_number + ' ' + house_street\n",
    "print(sam_greeting)"
   ]
  },
  {
   "cell_type": "markdown",
   "metadata": {
    "deletable": false,
    "editable": false
   },
   "source": [
    "However, it errors. In the cell below, assign `sam_greeting_fixed` to a fixed version of `sam_greeting` that doesn't error. Start by copying the right-hand side of the `sam_greeting` assignment statement above. Your answer must still involve `+`.\n",
    "\n",
    "<!--\n",
    "BEGIN QUESTION\n",
    "name: q1d\n",
    "points: 1\n",
    "-->"
   ]
  },
  {
   "cell_type": "code",
   "execution_count": null,
   "metadata": {},
   "outputs": [],
   "source": [
    "sam_greeting_fixed = ...\n",
    "\n",
    "# If your sam_greeting_fixed is correct, the following print statement should print\n",
    "# 'My name is Sam, I am 51 years old, and I live at 1436 Durant Avenue'\n",
    "print(sam_greeting_fixed)"
   ]
  },
  {
   "cell_type": "code",
   "execution_count": null,
   "metadata": {
    "deletable": false,
    "editable": false
   },
   "outputs": [],
   "source": [
    "grader.check(\"q1d\")"
   ]
  },
  {
   "cell_type": "markdown",
   "metadata": {},
   "source": [
    "<br/><br/>\n",
    "\n",
    "<hr style=\"border: 1px solid #fdb515;\" />\n",
    "\n",
    "# Question 2 -  Names\n",
    "\n",
    "We have seen how names can bind to values. They can also bind to function names! For example, consider the following cell, which binds `another_name_for_len` to the `len` function:"
   ]
  },
  {
   "cell_type": "code",
   "execution_count": null,
   "metadata": {},
   "outputs": [],
   "source": [
    "# Demo: Just run this cell\n",
    "another_name_for_len = len\n",
    "s = \"this string is length 24\"\n",
    "print(s)\n",
    "print(\"length:\", len(s))\n",
    "another_name_for_len(s)"
   ]
  },
  {
   "cell_type": "markdown",
   "metadata": {
    "deletable": false,
    "editable": false
   },
   "source": [
    "---\n",
    "\n",
    "## Question 2a\n",
    "\n",
    "In the below cell, assign `mystery_cast` to a function name such that when run, the last line `str(mystery_cast(5.00)) + '3'` evaluates to the string `'53'`.\n",
    "\n",
    "**Hint**: Try casting!\n",
    "\n",
    "<!--\n",
    "BEGIN QUESTION\n",
    "name: q2a\n",
    "points: 1\n",
    "-->"
   ]
  },
  {
   "cell_type": "code",
   "execution_count": null,
   "metadata": {},
   "outputs": [],
   "source": [
    "mystery_cast = ...\n",
    "str(mystery_cast(5.00)) + '3'"
   ]
  },
  {
   "cell_type": "code",
   "execution_count": null,
   "metadata": {
    "deletable": false,
    "editable": false
   },
   "outputs": [],
   "source": [
    "grader.check(\"q2a\")"
   ]
  },
  {
   "cell_type": "markdown",
   "metadata": {
    "deletable": false,
    "editable": false
   },
   "source": [
    "---\n",
    "\n",
    "## Question 2b\n",
    "\n",
    "Assign `mystery_func` to a function such that when run, `g(mystery_func(2, g(h(1, 5), 3)), 4)` evaluates to the integer `10`.\n",
    "\n",
    "<!--\n",
    "BEGIN QUESTION\n",
    "name: q2b\n",
    "points: 1\n",
    "-->"
   ]
  },
  {
   "cell_type": "code",
   "execution_count": null,
   "metadata": {},
   "outputs": [],
   "source": [
    "mystery_func = ...\n",
    "\n",
    "# do not edit any code below this line\n",
    "g = min\n",
    "h = max\n",
    "g(mystery_func(2, g(h(10, 5), 15)), 20)"
   ]
  },
  {
   "cell_type": "code",
   "execution_count": null,
   "metadata": {
    "deletable": false,
    "editable": false
   },
   "outputs": [],
   "source": [
    "grader.check(\"q2b\")"
   ]
  },
  {
   "cell_type": "markdown",
   "metadata": {
    "deletable": false,
    "editable": false
   },
   "source": [
    "<!-- BEGIN QUESTION -->\n",
    "\n",
    "<br/><br/>\n",
    "\n",
    "<hr style=\"border: 1px solid #fdb515;\" />\n",
    "\n",
    "# Question 3 – Markdown\n",
    "\n",
    "[Markdown](https://en.wikipedia.org/wiki/Markdown) isn't a programming language – it's a \"markup language\", which means that it is designed to format text to look nice. But like a programming language, Markdown has a set of rules (syntax) that govern how it works. Think of it like a fancy Google Docs.\n",
    "\n",
    "Here are some of the most important rules in Markdown:\n",
    "\n",
    "- Double asterisks (`**`) are how we make words bold. `My name is **Jordan**` renders to \"My name is **Jordan**.\n",
    "- Underscores (`_`) are how we make words italicized. `How are _you_?` renders to How are _you_?, and `what is **_up_**` renders to what is **_up_**.\n",
    "- Hashtags (`#`, `##`, `###`) are how we create titles/headings. The more hashtags you include, the smaller the title is. The title for this question was generated using `## Question 5 – Markdown`.\n",
    "- Unbulleted and bulleted lists are created the same way they're created in a standard word processor, like Google Docs.\n",
    "\n",
    "Markdown is important to learn because Jupyter Notebooks are often full of Markdown cells (just like this assignment). In future assignments, we will ask you to write answers to written questions using Markdown, and while the majority of your answers will be in plaintext (i.e. with none of the special characters above), learning Markdown is valuable nonetheless.\n",
    "\n",
    "### Task\n",
    "\n",
    "Your job is to recreate the output in the following screenshot, using the Markdown cell below. Feel free to replace \"Bongo Burger\" and \"K-Pop\" with your own favorite food and music genre, but make sure the formatting is the same.\n",
    "\n",
    "<img src='images/markdown.png' width=300>\n",
    "\n",
    "This is the first question in this homework where we will grade your work manually instead of relying on an autograder. There will be a few of these questions.\n",
    "\n",
    "<!--\n",
    "BEGIN QUESTION\n",
    "name: q3\n",
    "points: 2\n",
    "manual: true\n",
    "-->"
   ]
  },
  {
   "cell_type": "markdown",
   "metadata": {},
   "source": [
    "_Type your answer here, replacing this text._"
   ]
  },
  {
   "cell_type": "markdown",
   "metadata": {},
   "source": [
    "<!-- END QUESTION -->\n",
    "\n",
    "\n",
    "\n",
    "<hr style=\"border: 5px solid #003262;\" />\n",
    "<hr style=\"border: 1px solid #fdb515;\" />\n",
    "\n",
    "# Part 2: The BRFSS Dataset\n",
    "\n",
    "### Background on the Data\n",
    "\n",
    "The dataset that we'll use in this next part of the homework comes from the Behavioral Risk Factor Surveillance System (BRFSS), a health survey fielded by the Centers for Disease Control and Prevention (CDC), which is the U.S. national public agency.\n",
    "\n",
    "From the [BRFSS website](https://www.cdc.gov/brfss/index.html):\n",
    ">The Behavioral Risk Factor Surveillance System (BRFSS) is the nation’s premier system of health-related telephone surveys that collect state data about U.S. residents regarding their health-related risk behaviors, chronic health conditions, and use of preventive services.\n",
    "\n",
    ">By collecting behavioral health risk data at the state and local level, BRFSS has become a powerful tool for targeting and building health promotion activities. \n",
    "\n",
    "The dataset that you will investigate is a **subset of the 2020 BRFSS Survey**. We've taken all the data points corresponding to *fully-completed surveys* and, in our opinion, a few interesting columns. Since the entire data set is so large, we've randomly sampled 100,000 rows from the original data. While we've wrangled and cleaning the data set you'll use in your investigation, you're welcome to investigate the original source; you can do so via the [Survey Data section](https://www.cdc.gov/brfss/data_documentation/index.htm) of the BRFSS site."
   ]
  },
  {
   "cell_type": "markdown",
   "metadata": {},
   "source": [
    "<br/><br/>\n",
    "\n",
    "### Loading Individual Data\n",
    " \n",
    " In this homework, we'll first start by looking at the BRFSS Survey Data on the **individual level**. That is, each row in our `brfss` table corresponds to a **unique individual** that responded to the survey. While these individuals are not identified by their government names, we can use a numerical indexing system to identify individuals in an anonymized way.\n",
    "\n",
    "Run the following cell to load in the `brfss` table. It contains the following information (as columns):\n",
    "1. `Index`: The unique identifier for an individual respondent\n",
    "1. `Race/Ethnicity`: The race/ethnicity of the individual respondent\n",
    "1. `Personal Doctor`: Whether or not the individual has someone they consider a personal doctor.\n",
    "1. `Sleep Time`: The number of hours an individual sleeps, on average, in a 24-hour period\n",
    "1. `Weight (lbs)`: The weight, in pounds, of the individual respondent\n",
    "1. `Height (in)`: The height, in inches, of the individual respondent\n",
    "1. `Data Weight`: The weight associated to the individual respondent to avoid biases in the survey process (to discuss in a later question)\n",
    "\n",
    "We will explore each of these variables over the next few homework questions. To read about more variables as well as the survey questions themselves, please visit the [BRFSS 2020 Codebook](https://www.cdc.gov/brfss/annual_data/2020/pdf/codebook20_llcp-v2-508.pdf) and the [BRFSS 2020 Questionnaire](https://www.cdc.gov/brfss/questionnaires/pdf-ques/2020-BRFSS-Questionnaire-508.pdf)."
   ]
  },
  {
   "cell_type": "code",
   "execution_count": null,
   "metadata": {},
   "outputs": [],
   "source": [
    "# Just run this cell to load the data\n",
    "brfss = Table.read_table(\"data/brfss2020.csv\")\n",
    "brfss"
   ]
  },
  {
   "cell_type": "markdown",
   "metadata": {
    "deletable": false,
    "editable": false
   },
   "source": [
    "<!-- BEGIN QUESTION -->\n",
    "\n",
    "<br/><br/>\n",
    "\n",
    "<hr style=\"border: 1px solid #fdb515;\" />\n",
    "\n",
    "# Question 4 - Demographic Variables \n",
    "\n",
    "While the BRFSS measures many demographic variables (age, binary sex at birth, highest grade completed, etc.), for now let us focus on the `Race/Ethnicity` variable provided in the table above. The `Race/Ethnicity` variable in the BRFSS dataset takes on one of the following nine strings (i.e., categories):\n",
    "\n",
    "* White, Non-Hispanic\n",
    "* Black, non-Hispanic\n",
    "* American Indian or Alaskan Native, Non-Hispanic\n",
    "* Asian, Non-Hispanic\n",
    "* Native Hawaiian or other Pacific Islander, Non-Hispanic\n",
    "* Other race, non-Hispanic\n",
    "* Multiracial, non-Hispanic\n",
    "* Hispanic\n",
    "* Missing/Don't Know\n",
    "\n",
    "These categories are identical to those publicly released by the American Community Survey (ACS)!\n",
    "\n",
    "In the cell below, write a few sentences that remark on this variable definition. Specifically, your comments should address:\n",
    "\n",
    "1. Why do both the BRFSS (run by the US CDC) and the ACS (run by the US Census Bureau) define race/ethnicity using the same variable domain/categorization?\n",
    "2. Why would a national health survey like the BRFSS measure race/ethnicity and other demographic data?\n",
    "\n",
    "These readings may be useful: [About the BRFSS](https://www.cdc.gov/brfss/about/index.htm); p. 26 of the [BRFSS 2020 Questionnaire](https://www.cdc.gov/brfss/questionnaires/pdf-ques/2020-BRFSS-Questionnaire-508.pdf); \n",
    " [About the ACS](https://www.census.gov/programs-surveys/acs/about.html); p. 2 of the [ACS 2020 Questionnaire](https://www2.census.gov/programs-surveys/acs/methodology/questionnaires/2020/quest20.pdf).\n",
    "\n",
    "<!--\n",
    "BEGIN QUESTION\n",
    "name: q4\n",
    "points: 2\n",
    "manual: true\n",
    "\n",
    "-->"
   ]
  },
  {
   "cell_type": "markdown",
   "metadata": {},
   "source": [
    "_Type your answer here, replacing this text._"
   ]
  },
  {
   "cell_type": "markdown",
   "metadata": {},
   "source": [
    "<!-- END QUESTION -->\n",
    "\n",
    "\n",
    "\n",
    "<br/><br/>\n",
    "\n",
    "<hr style=\"border: 1px solid #fdb515;\" />\n",
    "\n",
    "# Question 5 - Personal Doctor\n",
    "\n",
    "In this question, you'll be investigating the following question from the BRFSS Survey:\n",
    "> *Do you have one person you think of as your personal doctor or health care provider?*\n",
    "\n",
    "Run the following cell to load in the `personal_doctor_array`, which contains the responses to the above question. The array is a numeric array containing values as `1` for \"Yes\" and `0` for \"No\" or \"Missing Response.\" In other words, the \"Personal Doctor\" variable is a **binary variable.**"
   ]
  },
  {
   "cell_type": "code",
   "execution_count": null,
   "metadata": {},
   "outputs": [],
   "source": [
    "# just run this cell\n",
    "personal_doctor_array = brfss.column(\"Personal Doctor\")\n",
    "personal_doctor_array"
   ]
  },
  {
   "cell_type": "markdown",
   "metadata": {
    "deletable": false,
    "editable": false
   },
   "source": [
    "---\n",
    "\n",
    "## Question 5a\n",
    "\n",
    "Using the array `personal_doctor_array`, assign `has_personal_doctor` to `1` if the individual with index **37** (i.e., the 38th respondent) has a personal doctor, `0` if they don't/they did not respond.\n",
    "\n",
    "**Note**: Do not \"hardcode\" the answer! Instead, you should use the array method `item(arg)` and supply the correct argument `arg` to index into the `personal_doctor_array` array.\n",
    "\n",
    "<!--\n",
    "BEGIN QUESTION\n",
    "name: q5a\n",
    "points: 1\n",
    "-->"
   ]
  },
  {
   "cell_type": "code",
   "execution_count": null,
   "metadata": {},
   "outputs": [],
   "source": [
    "has_personal_doctor = ...\n",
    "has_personal_doctor"
   ]
  },
  {
   "cell_type": "code",
   "execution_count": null,
   "metadata": {
    "deletable": false,
    "editable": false
   },
   "outputs": [],
   "source": [
    "grader.check(\"q5a\")"
   ]
  },
  {
   "cell_type": "markdown",
   "metadata": {
    "deletable": false,
    "editable": false
   },
   "source": [
    "---\n",
    "\n",
    "## Question 5b\n",
    "\n",
    "Using the array `personal_doctor_array`, assign `percent_personal_doc` to the **fraction** of people with a personal doctor in the dataset above. For the sake of this problem, an individual has a personal doctor only if they responded \"yes\" to the corresponding survey question.\n",
    "\n",
    "You should **only** use Python built-in functions like `sum` and `len` for this problem! In other words, do **not** use any NumPy functions (e.g., do not use `np.count_nonzero`, etc.).\n",
    "\n",
    "**Hint**: How can you make use of the *binary* nature of the \"Personal Doctor\" variable? The only values in the array are 1 (has personal doctor) 0 (has no known personal doctor).\n",
    "\n",
    "<!--\n",
    "BEGIN QUESTION\n",
    "name: q5b\n",
    "points: 2\n",
    "-->"
   ]
  },
  {
   "cell_type": "code",
   "execution_count": null,
   "metadata": {},
   "outputs": [],
   "source": [
    "percent_personal_doc = ...\n",
    "percent_personal_doc"
   ]
  },
  {
   "cell_type": "code",
   "execution_count": null,
   "metadata": {
    "deletable": false,
    "editable": false
   },
   "outputs": [],
   "source": [
    "grader.check(\"q5b\")"
   ]
  },
  {
   "cell_type": "markdown",
   "metadata": {},
   "source": [
    "<br/><br/>\n",
    "\n",
    "<hr style=\"border: 1px solid #fdb515;\" />\n",
    "\n",
    "\n",
    "# Question 6 - Sleep\n",
    "\n",
    "In this question, you'll be investigating another question from the BRFSS Survey:\n",
    "> *On average, how many hours of sleep do you get in a 24-hour period?*\n",
    "\n",
    "Run the following cell to load in the `sleep_col` array. This array contains the number of hours each respondent reported sleeping in a 24-hour period."
   ]
  },
  {
   "cell_type": "code",
   "execution_count": null,
   "metadata": {},
   "outputs": [],
   "source": [
    "# Just run this cell\n",
    "sleep_col = brfss.column(\"Sleep Time\")\n",
    "sleep_col"
   ]
  },
  {
   "cell_type": "markdown",
   "metadata": {},
   "source": [
    "It turns out that some values in `sleep_col` are `0`! Instead of printing out the entire array, run the below cell to print out a random set of 20 values from the array. You can run it multiple times to print out different sleep times."
   ]
  },
  {
   "cell_type": "code",
   "execution_count": null,
   "metadata": {},
   "outputs": [],
   "source": [
    "# Run this cell to print out 20 random sleep times\n",
    "# Feel free to run it multiple times.\n",
    "np.random.choice(sleep_col, 20)"
   ]
  },
  {
   "cell_type": "markdown",
   "metadata": {
    "deletable": false,
    "editable": false
   },
   "source": [
    "Through the \"random sampling\" of sleep times above, you observe that some values in the `sleep_col` array are `0`. Since sleeping zero hours on average is near-impossible, this must be a **code** for something else. In this case, if the individual **did not respond** to this question, their hours of sleep value is `0`. (Note: In this context, \"code\" means a variable category, and not Python code).\n",
    "\n",
    "### Task\n",
    "\n",
    "Assign `sleeper_count` to an expression that uses a NumPy function to count the number of individuals who provided valid responses to the sleep survey question. Your expression should involve both a NumPy function and the array `sleep_col`.\n",
    "\n",
    "**Hint**: Please see a list of NumPy functions in the [Data 6 Python reference](https://data6.org/su22/reference/). One of them will work!\n",
    "\n",
    "<!--\n",
    "BEGIN QUESTION\n",
    "name: q6\n",
    "points: 2\n",
    "-->"
   ]
  },
  {
   "cell_type": "code",
   "execution_count": null,
   "metadata": {},
   "outputs": [],
   "source": [
    "sleeper_count = ...\n",
    "sleeper_count"
   ]
  },
  {
   "cell_type": "code",
   "execution_count": null,
   "metadata": {
    "deletable": false,
    "editable": false
   },
   "outputs": [],
   "source": [
    "grader.check(\"q6\")"
   ]
  },
  {
   "cell_type": "markdown",
   "metadata": {},
   "source": [
    "<br/><br/>\n",
    "\n",
    "<hr style=\"border: 1px solid #fdb515;\" />\n",
    "\n",
    "# Question 7 – BMI"
   ]
  },
  {
   "cell_type": "markdown",
   "metadata": {},
   "source": [
    "Now, let's focus on the weight and height variables included in our BRFSS individual respondents table.\n",
    "\n",
    "From [Wikipedia](https://en.wikipedia.org/wiki/Body_mass_index) the **Body Mass Index (BMI)** \"is a convenient rule of thumb used to broadly categorize a person as underweight, normal weight, overweight, or obese based on tissue mass (muscle, fat, and bone) and height.\"\n",
    "\n",
    "BMI is widely used in United States healthcare systems. Medical practitioners frequently consider a patient's BMI to determine eligibility for different medical services. We'll talk more about the social impacts of BMI later in this question, but first let's understand its computation:\n",
    "\n",
    "BMI is defined according to the following formula:\n",
    "\n",
    "$$\\text{BMI} = \\frac{\\text{mass in kg}}{\\text{height in meters}^2}$$\n",
    "\n",
    "We'd like to compute the BMI for all individuals in our BRFSS dataset, but unfortunately the dataset only contains weights in pounds (lbs) and heights in inches (in). Here's the `brfss` table again for convenience."
   ]
  },
  {
   "cell_type": "code",
   "execution_count": null,
   "metadata": {},
   "outputs": [],
   "source": [
    "# just run this cell to show the table again\n",
    "brfss.show(5)"
   ]
  },
  {
   "cell_type": "markdown",
   "metadata": {},
   "source": [
    " Additionally, we've provided two arrays, `weights` and `heights`, which contain the corresponding weights in pounds and heights in inches for all respondents."
   ]
  },
  {
   "cell_type": "code",
   "execution_count": null,
   "metadata": {},
   "outputs": [],
   "source": [
    "# Just run this cell -- you don't need to understand it yet!\n",
    "non_zero_measurements = brfss.where(\"Weight (lbs)\").where(\"Height (in)\")\n",
    "\n",
    "weights = non_zero_measurements.column(\"Weight (lbs)\")\n",
    "heights = non_zero_measurements.column(\"Height (in)\")\n",
    "print(weights)\n",
    "print(heights)"
   ]
  },
  {
   "cell_type": "markdown",
   "metadata": {},
   "source": [
    "Finally, we've provided the following conversion factors to convert from weight (lbs) to mass (kg), and from height (in) to height (m):"
   ]
  },
  {
   "cell_type": "code",
   "execution_count": null,
   "metadata": {},
   "outputs": [],
   "source": [
    "# just run this cell to create conversion factors IN_TO_CM, CM_TO_M, LB_TO_KG\n",
    "# Don't change any names/values in this cell!\n",
    "IN_TO_CM = 2.54\n",
    "CM_TO_M = 1 / 100\n",
    "LB_TO_KG = 1 / 2.2"
   ]
  },
  {
   "cell_type": "code",
   "execution_count": null,
   "metadata": {},
   "outputs": [],
   "source": [
    "# 1 lb is 0.4545 kg\n",
    "LB_TO_KG"
   ]
  },
  {
   "cell_type": "code",
   "execution_count": null,
   "metadata": {
    "scrolled": true
   },
   "outputs": [],
   "source": [
    "# 1 in is 0.0254 m\n",
    "IN_TO_CM * CM_TO_M"
   ]
  },
  {
   "cell_type": "markdown",
   "metadata": {
    "deletable": false,
    "editable": false
   },
   "source": [
    "---\n",
    "\n",
    "## Question 7a - Weight/Height Conversion (Individual)\n",
    "\n",
    "Say we want to find convert an individual's height and weight into the appropriate units for the above BMI calculation. For this calculation, let's use the individual corresponding to index **543** (i.e. the 544th respondent).\n",
    "\n",
    "Using the above conversion factors, fill in the following code to determine this individual's height in meters (`indiv_height_m`) and mass in kilograms (`indiv_mass_kg`). Your answers should only involve names and arithmetic operators (`+`, `-`, `/`, etc.). No numerical constants.\n",
    "\n",
    "<!--\n",
    "BEGIN QUESTION\n",
    "name: q7a\n",
    "points: 1\n",
    "-->"
   ]
  },
  {
   "cell_type": "code",
   "execution_count": null,
   "metadata": {},
   "outputs": [],
   "source": [
    "indiv_height_in = ...\n",
    "indiv_weight_lb = ...\n",
    "\n",
    "indiv_height_m = ...\n",
    "indiv_mass_kg = ...\n",
    "\n",
    "indiv_height_m, indiv_mass_kg"
   ]
  },
  {
   "cell_type": "code",
   "execution_count": null,
   "metadata": {
    "deletable": false,
    "editable": false
   },
   "outputs": [],
   "source": [
    "grader.check(\"q7a\")"
   ]
  },
  {
   "cell_type": "markdown",
   "metadata": {
    "deletable": false,
    "editable": false
   },
   "source": [
    "---\n",
    "\n",
    "## Question 7b - BMI Computation (Individual)\n",
    "\n",
    "Assign `indiv_bmi` to the BMI of the individual corresponding to index 543, calculated according to the formula provided at the beginning of this question.\n",
    "\n",
    "<!--\n",
    "BEGIN QUESTION\n",
    "name: q7b\n",
    "points: 1\n",
    "-->"
   ]
  },
  {
   "cell_type": "code",
   "execution_count": null,
   "metadata": {},
   "outputs": [],
   "source": [
    "indiv_bmi = ...\n",
    "indiv_bmi"
   ]
  },
  {
   "cell_type": "code",
   "execution_count": null,
   "metadata": {
    "deletable": false,
    "editable": false
   },
   "outputs": [],
   "source": [
    "grader.check(\"q7b\")"
   ]
  },
  {
   "cell_type": "markdown",
   "metadata": {
    "deletable": false,
    "editable": false
   },
   "source": [
    "<br/>\n",
    "\n",
    "---\n",
    "\n",
    "## Question 7c - BMI Computation (All Individuals)\n",
    "\n",
    "In order to showcase the power of arrays, we can do more than just calculate the BMI of one individual. Rather, we can calculate the BMI of all individuals with one single calculation.\n",
    "\n",
    "In the cell below, assign `bmi_array` to an array containing the calculated BMI for each individual within the `brfss` data set (and also assign `heights_m` and `masses_kg` accordingly). We've included the BMI formula again for your convenience:\n",
    "\n",
    "$$\\text{BMI} = \\frac{\\text{mass in kg}}{\\text{height in meters}^2}$$\n",
    "\n",
    "*Hint*: How can you translate what you implemented in Questions 7(a) and 7(b) to also work on arrays? You may want to use the `weights` and `heights` arrays (and remember their units)!\n",
    "\n",
    "<!--\n",
    "BEGIN QUESTION\n",
    "name: q7c\n",
    "points: 2\n",
    "-->"
   ]
  },
  {
   "cell_type": "code",
   "execution_count": null,
   "metadata": {},
   "outputs": [],
   "source": [
    "heights_m = ...\n",
    "masses_kg = ...\n",
    "\n",
    "bmi_array = ...\n",
    "bmi_array"
   ]
  },
  {
   "cell_type": "code",
   "execution_count": null,
   "metadata": {
    "deletable": false,
    "editable": false
   },
   "outputs": [],
   "source": [
    "grader.check(\"q7c\")"
   ]
  },
  {
   "cell_type": "markdown",
   "metadata": {
    "deletable": false,
    "editable": false
   },
   "source": [
    "---\n",
    "\n",
    "## Question 7d - Context of BMI in US Society\n",
    "\n",
    "The Body Mass Index (BMI) is widely integrated into the healthcare systems of the United States. However, its use is publicly debated: critics argue that the measure oversimplifies complex health and social factors; when used as a screening tool, it is an ineffective proxy for making healthcare decisions for individuals.\n",
    "\n",
    "The following news article on BMI provides a particular historical and current context:\n",
    "\n",
    "> [Article](https://www.washingtonpost.com/lifestyle/wellness/healthy-bmi-obesity-race-/2021/05/04/655390f0-ad0d-11eb-acd3-24b44a57093a_story.html). \"Why BMI is a flawed health standard, especially for people of color.\" *Washington Post*, May 2021.\n",
    "\n",
    "According to the article above, which of the below statements are correct takeaways? For each of the parts below, assign the provided name in the cell to the **string** `'correct'` or the **string** `'incorrect'`. For example, if Q2c(i)'s statement is a takeaway from the above article, `q2ci` should be assigned to `'correct'`; otherwise it should be assigned to `'incorrect'`.\n",
    "\n",
    "### Question 7d(i)\n",
    "\n",
    "BMI as a measure was originally established to measure the height and weight of an \"average\" White, European man.\n",
    "\n",
    "<!--\n",
    "BEGIN QUESTION\n",
    "name: q7di\n",
    "points: 1\n",
    "-->"
   ]
  },
  {
   "cell_type": "code",
   "execution_count": null,
   "metadata": {},
   "outputs": [],
   "source": [
    "q2d_i = ..."
   ]
  },
  {
   "cell_type": "code",
   "execution_count": null,
   "metadata": {
    "deletable": false,
    "editable": false
   },
   "outputs": [],
   "source": [
    "grader.check(\"q7di\")"
   ]
  },
  {
   "cell_type": "markdown",
   "metadata": {
    "deletable": false,
    "editable": false
   },
   "source": [
    "\n",
    "### Question 7d(ii)\n",
    "\n",
    "In the U.S. healthcare system, a patient's BMI is computed and checked against thresholds called \"cut points,\" which are then used to determine eligibility for particular medications, surgeries, and even certain types of military service.\n",
    "\n",
    "\n",
    "<!--\n",
    "BEGIN QUESTION\n",
    "name: q7dii\n",
    "points: 1\n",
    "-->"
   ]
  },
  {
   "cell_type": "code",
   "execution_count": null,
   "metadata": {},
   "outputs": [],
   "source": [
    "q7d_ii = ..."
   ]
  },
  {
   "cell_type": "code",
   "execution_count": null,
   "metadata": {
    "deletable": false,
    "editable": false
   },
   "outputs": [],
   "source": [
    "grader.check(\"q7dii\")"
   ]
  },
  {
   "cell_type": "markdown",
   "metadata": {
    "deletable": false,
    "editable": false
   },
   "source": [
    "\n",
    "### Question 7d(iii)\n",
    "\n",
    "Health institutions in the United States have universally adopted different cut points based on race and ethnicity, including for Latino people, Black people, and people of Asian descent.\n",
    "\n",
    "<!--\n",
    "BEGIN QUESTION\n",
    "name: q7diii\n",
    "points: 1\n",
    "-->"
   ]
  },
  {
   "cell_type": "code",
   "execution_count": null,
   "metadata": {},
   "outputs": [],
   "source": [
    "q7d_iii = ..."
   ]
  },
  {
   "cell_type": "code",
   "execution_count": null,
   "metadata": {
    "deletable": false,
    "editable": false
   },
   "outputs": [],
   "source": [
    "grader.check(\"q7diii\")"
   ]
  },
  {
   "cell_type": "markdown",
   "metadata": {},
   "source": [
    "<hr style=\"border: 5px solid #003262;\" />\n",
    "<hr style=\"border: 1px solid #fdb515;\" />\n",
    "\n",
    "# Part 3: The BRFSS Dataset and the U.S. Population\n",
    "\n",
    "\n",
    "Finally, let's explore how to aggregate the BRFSS data to different units of analysis. Before we do so, we need to introduce the statistical notion of **weighted averages**:"
   ]
  },
  {
   "cell_type": "markdown",
   "metadata": {
    "tags": []
   },
   "source": [
    "### Weighted Averages\n",
    "\n",
    "Suppose we have five numbers: `0`, `2`, `5`, `10`, `12`.\n",
    "\n",
    "The **arithmetic average** (i.e., mean) of a set of numbers is the sum of those numbers divided by the count of those numbers:\n",
    "\n",
    "$$\\text{average} = \\frac{1}{5} \\left( 0 + 2 + 5 + 10 + 12 \\right)$$\n",
    "\n",
    "Another perspective of the average is that each element contributes an *equal amount* to the final amount. In our example, each element contributes an equal 20%:\n",
    "\n",
    "$$\\text{average} = 0.2 (0) + 0.2 (5) + 0.2 (10) + 0.2 (12)$$\n",
    "\n",
    "By contrast, a **weighted average** is when each element contributes a different amount (weight) to the final average, often based on its frequency of occurrence in a dataset. For example, if our elements respectively occurrred 20%, 30%, 10%, 0% and 40% in our data, then\n",
    "\n",
    "$$\\text{weighted average} = 0.2 (0) + 0.3 (2) + 0.1 (5) + 0 (10) + 0.4 (12)$$\n",
    "\n",
    "where the weights are **frequencies** (and not percentages!) of occurrence.\n",
    "\n",
    "### BRFSS Sleep Time Frequency Table\n",
    "\n",
    "The below is a **frequency table** which aggregates individuals by their responses to the `\"Sleep Time\"` question from the BRFSS survey. While our previous `brfss` table had rows that represented **individual respondents**, each row in our frequency table represents a **group of individuals** with the same hours of sleep.\n",
    "\n",
    "Run the following cell to load the `sleep` table. It contains the following columns:\n",
    "1. `Sleep Time`: The number of hours slept in a 24-hour period, on average.\n",
    "1. `# Respondents`: The number of survey respondents corresponding to the sleep time value\n",
    "1. `% Respondents`: The % of survey respondents corresponding to the sleep time value\n",
    "1. `% Population (Estimated)`: The **estimated population weights** corresponding to the each sleep time value (discussed below)"
   ]
  },
  {
   "cell_type": "code",
   "execution_count": null,
   "metadata": {},
   "outputs": [],
   "source": [
    "# Just run this cell to load in the sleep arrays and % Population (Estimated) arrays\n",
    "sleep = Table.read_table(\"data/sleep.csv\")\n",
    "\n",
    "sleep_times = sleep.column('Sleep Time')\n",
    "percent_pops = sleep.column('% Population (Estimated)')\n",
    "\n",
    "sleep.show(25)"
   ]
  },
  {
   "cell_type": "markdown",
   "metadata": {},
   "source": [
    "### What Are Population Weights?\n",
    "\n",
    "Note that other than `Sleep Time`, the other three variables are **aggregated** from the original data. The `# Respondents` and `% Respondents` are computed by counting the number of respondents who reported a valid daily sleep time (in hours) between 1 and 24 (or 0 if no survey response).\n",
    "\n",
    "The `% Population` variable is the **estimated** percentage of population associated \n",
    "with the corresponding sleep time. These values are different from those of `% Respondents`! This is because the BRFSS 2020 collected data on about 300,000 individuals, which is much less than the 2020 US population of about 330,000,000 individuals.\n",
    "\n",
    "The BRFSS computes **data weights** for each individual that estimates how common an individual's data are among the US population. These weights are likely computed through demographic data like age, gender, location, race/ethnicity, income, etc. The `Data Weight` variable from the original `brfss` table by individual was used to compute the `% Population` variable in this `sleep` table, aggregated by sleep time.\n",
    "\n",
    "The `% Population` variable is useful in computing weighted averages, which we'll explore as our next (and last) homework question."
   ]
  },
  {
   "cell_type": "markdown",
   "metadata": {
    "deletable": false,
    "editable": false,
    "jp-MarkdownHeadingCollapsed": true,
    "tags": []
   },
   "source": [
    "<br/><br/>\n",
    "\n",
    "<hr style=\"border: 1px solid #fdb515;\" />\n",
    "\n",
    "# Question 8 - Weighted Sleep Average\n",
    "\n",
    "We'd like to analyze sleep at the population level by computing the **weighted average sleep time** of the US population of 2020.\n",
    "\n",
    "Instead of taking the simple average of sleep hours 0 through 24 (which would be 12 if we weighted all sleep times equally), we will weight sleep time by the estimated % population for that reported sleep time.\n",
    "\n",
    "Assign `avg_sleep` to the weighted average daily sleep time of the US population. In other words, you should compute a weighted average of the `Sleep Time` and `% Population (Estimated)` columns.\n",
    "\n",
    "**Hint**: The average sleep time should be between 0 and 24 (the number of hours in a day). Remember to use frequencies and not percentages!\n",
    "\n",
    "<!--\n",
    "BEGIN QUESTION\n",
    "name: q8\n",
    "points: 2\n",
    "-->"
   ]
  },
  {
   "cell_type": "code",
   "execution_count": null,
   "metadata": {},
   "outputs": [],
   "source": [
    "# We've provided these arrays for you\n",
    "sleep_array = sleep.column(\"Sleep Time\")                  # Don't change this line\n",
    "weights_array = sleep.column(\"% Population (Estimated)\")  # Don't change this line\n",
    "\n",
    "avg_sleep = ...\n",
    "avg_sleep"
   ]
  },
  {
   "cell_type": "code",
   "execution_count": null,
   "metadata": {
    "deletable": false,
    "editable": false
   },
   "outputs": [],
   "source": [
    "grader.check(\"q8\")"
   ]
  },
  {
   "cell_type": "markdown",
   "metadata": {},
   "source": [
    "**(Bonus, ungraded)** The weighted average we computed above actually *underestimates* the average sleep time You may have noticed that the weighted average you computed above includes 0 sleep hours, which, as we previously discussed, is a code for \"no response.\" How would you recompute the weights to only take the average of *positive* sleep times? Use the cell below!"
   ]
  },
  {
   "cell_type": "code",
   "execution_count": null,
   "metadata": {},
   "outputs": [],
   "source": [
    "# Use this cell to answer the bonus question!"
   ]
  },
  {
   "cell_type": "markdown",
   "metadata": {},
   "source": [
    "## Done!\n",
    "\n",
    "Congratulations! You've finished your first Data 6 homework assignment! To submit your work, follow the steps outlined on Ed.\n",
    "\n",
    "| Category | Points |\n",
    "| --- | --- |\n",
    "| Autograder (Coding questions) | 20 |\n",
    "| Written (Q4 and Q5) | 4 |\n",
    "| **Total** | 24 |"
   ]
  },
  {
   "cell_type": "markdown",
   "metadata": {
    "deletable": false,
    "editable": false
   },
   "source": [
    "---\n",
    "\n",
    "To double-check your work, the cell below will rerun all of the autograder tests."
   ]
  },
  {
   "cell_type": "code",
   "execution_count": null,
   "metadata": {
    "deletable": false,
    "editable": false
   },
   "outputs": [],
   "source": [
    "grader.check_all()"
   ]
  },
  {
   "cell_type": "markdown",
   "metadata": {
    "deletable": false,
    "editable": false
   },
   "source": [
    "## Submission\n",
    "\n",
    "Make sure you have run all cells in your notebook in order before running the cell below, so that all images/graphs appear in the output. The cell below will generate a zip file for you to submit. **Please save before exporting!**"
   ]
  },
  {
   "cell_type": "code",
   "execution_count": null,
   "metadata": {
    "deletable": false,
    "editable": false
   },
   "outputs": [],
   "source": [
    "# Save your notebook first, then run this cell to export your submission.\n",
    "grader.export()"
   ]
  }
 ],
 "metadata": {
  "celltoolbar": "Edit Metadata",
  "kernelspec": {
   "display_name": "Python 3 (ipykernel)",
   "language": "python",
   "name": "python3"
  },
  "language_info": {
   "codemirror_mode": {
    "name": "ipython",
    "version": 3
   },
   "file_extension": ".py",
   "mimetype": "text/x-python",
   "name": "python",
   "nbconvert_exporter": "python",
   "pygments_lexer": "ipython3",
   "version": "3.9.11"
  }
 },
 "nbformat": 4,
 "nbformat_minor": 4
}
