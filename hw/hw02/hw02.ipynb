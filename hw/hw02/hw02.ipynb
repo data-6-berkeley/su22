{
 "cells": [
  {
   "cell_type": "code",
   "execution_count": null,
   "id": "b431eb28",
   "metadata": {
    "deletable": false,
    "editable": false
   },
   "outputs": [],
   "source": [
    "# Initialize Otter\n",
    "import otter\n",
    "grader = otter.Notebook(\"hw02.ipynb\")"
   ]
  },
  {
   "cell_type": "markdown",
   "id": "d039da6b",
   "metadata": {},
   "source": [
    "# Homework 2 – Table Methods and Data Visualization\n",
    "\n",
    "## Data 6, Summer 2022\n",
    "\n",
    "This homework is due on **Thursday, July 21st at 11:00PM.** You must submit the assignment to Gradescope. Submission instructions can be found at the bottom of this notebook or on the course website under [Submissions](https://data6.org/su22/submissions/). See the [syllabus](https://data6.org/su22/syllabus/#late-policy-and-extensions) for our homework late submission policy."
   ]
  },
  {
   "cell_type": "code",
   "execution_count": null,
   "id": "8f89d5b1",
   "metadata": {},
   "outputs": [],
   "source": [
    "# Run this cell, don't change anything.\n",
    "from ipywidgets import interact, IntSlider\n",
    "from datascience import *\n",
    "import numpy as np\n",
    "import matplotlib.pyplot as plt\n",
    "%matplotlib inline\n",
    "plt.style.use(\"ggplot\")\n",
    "\n",
    "import warnings\n",
    "warnings.filterwarnings('ignore')"
   ]
  },
  {
   "cell_type": "markdown",
   "id": "f75bada0",
   "metadata": {
    "deletable": false,
    "editable": false
   },
   "source": [
    "<hr style=\"border: 5px solid #003262;\" />\n",
    "<hr style=\"border: 1px solid #fdb515;\" />\n",
    "\n",
    "# Part 1: Tables\n",
    "\n",
    "<br></br>\n",
    "<hr style=\"border: 1px solid #fdb515;\" />\n",
    "\n",
    "## The Data\n",
    "\n",
    "<img src = 'images/sfo.jpg' width = 600>\n",
    "\n",
    "In this section, we'll look at airline data from San Francisco International Airport (SFO). The dataset was downloaded directly from [flysfo.com](https://data.sfgov.org/Transportation/Air-Traffic-Passenger-Statistics/rkru-6vcg), SFO's website. The dataset contains information about major airlines, their associated flight statistics, and other information related to their flights out of SFO.\n",
    "\n",
    "<br></br>\n",
    "<hr style=\"border: 1px solid #fdb515;\" />\n",
    "\n",
    "\n",
    "# Question 1 - Airlines\n",
    "\n",
    "<br></br>\n",
    "\n",
    "---\n",
    "## Question 1a\n",
    "Having gotten word of your newfound data science skills, the City of San Francisco tasks you with conducting data analysis on airline traffic out of San Francisco International Airport. To do so, they've given you a file containing relevant flight data. \n",
    "\n",
    "In the following cell, load the data contained in the `\"data/sfo.csv\"` file into the `sfo` table. You'll want to use one of the table methods found on the [Data 6 Python Reference](https://data6.org/su22/reference/).\n",
    "\n",
    "<!--\n",
    "BEGIN QUESTION\n",
    "name: q1a\n",
    "points: 1\n",
    "-->"
   ]
  },
  {
   "cell_type": "code",
   "execution_count": null,
   "id": "b52f33bd",
   "metadata": {},
   "outputs": [],
   "source": [
    "sfo = ...\n",
    "sfo"
   ]
  },
  {
   "cell_type": "code",
   "execution_count": null,
   "id": "6db2c306",
   "metadata": {
    "deletable": false,
    "editable": false
   },
   "outputs": [],
   "source": [
    "grader.check(\"q1a\")"
   ]
  },
  {
   "cell_type": "markdown",
   "id": "5e6e249b",
   "metadata": {
    "deletable": false,
    "editable": false
   },
   "source": [
    "---\n",
    "## Question 1b\n",
    "\n",
    "<img src=\"images/jetblue.png\" width=300>\n",
    "\n",
    "Now that you've loaded your data into the `sfo` table, it's time to conduct our analysis. The City of San Francisco wants you to first focus on **JetBlue Airways**.\n",
    "\n",
    "Assign `num_passengers` to the **total number of passengers** on flights corresponding to **JetBlue Airways** in the `sfo` table. While you may approach this question any way you'd like, a recommended approach first starts by creating a new table containing *only* rows from the `sfo` table corresponding to `\"JetBlue Airways\"` as the `\"Operating Airline\"`.\n",
    "\n",
    "\n",
    "\n",
    "*Hint*: Break up your work into multiple intermediary steps.\n",
    "\n",
    "<!--\n",
    "BEGIN QUESTION\n",
    "name: q1b\n",
    "points: 2\n",
    "-->"
   ]
  },
  {
   "cell_type": "code",
   "execution_count": null,
   "id": "a7c67548",
   "metadata": {},
   "outputs": [],
   "source": [
    "jetblue = ...\n",
    "num_passengers = ...\n",
    "num_passengers"
   ]
  },
  {
   "cell_type": "code",
   "execution_count": null,
   "id": "79029ac3",
   "metadata": {
    "deletable": false,
    "editable": false
   },
   "outputs": [],
   "source": [
    "grader.check(\"q1b\")"
   ]
  },
  {
   "cell_type": "markdown",
   "id": "06f9958f",
   "metadata": {
    "deletable": false,
    "editable": false
   },
   "source": [
    "---\n",
    "## Question 1c\n",
    "\n",
    "<img src=\"images/united.png\" width=300>\n",
    "\n",
    "Now, the City of San Francisco wants you to focus on **United Airlines**; they would like to know how many flights conducted by United Airrlines arrive in Europe. \n",
    "\n",
    "Assign `prop_europe` to the **proportion of flights** that **United Airlines** takes to Europe, as based on the information presented within the `sfo` table. You'll first want to create a intermediary table, `united`, which contains data corresponding to `\"United Airlines\"`.\n",
    "<!--\n",
    "BEGIN QUESTION\n",
    "name: q1c\n",
    "points: 2\n",
    "-->"
   ]
  },
  {
   "cell_type": "code",
   "execution_count": null,
   "id": "122a2479",
   "metadata": {},
   "outputs": [],
   "source": [
    "united = ...\n",
    "prop_europe = ...\n",
    "prop_europe"
   ]
  },
  {
   "cell_type": "code",
   "execution_count": null,
   "id": "717d5086",
   "metadata": {
    "deletable": false,
    "editable": false
   },
   "outputs": [],
   "source": [
    "grader.check(\"q1c\")"
   ]
  },
  {
   "cell_type": "markdown",
   "id": "5163d9dc",
   "metadata": {
    "deletable": false,
    "editable": false
   },
   "source": [
    "---\n",
    "## Question 1d\n",
    "\n",
    "Let's continue our work with **United Airlines**, specifically looking at how **passenger counts** vary between successive years. In this question, we'll investigate two months: **July 2019** and **July 2020**.\n",
    "\n",
    "Assign `july_2019_mean` to the **average number of passengers** on United Airlines flights in July 2019. Similarly, assign `july_2020_mean` to the **average number of passengers** on United Airlines flights in July 2020.\n",
    "\n",
    "*Hint*: You can re-use the `united` table from the previous question.\n",
    "\n",
    "<!--\n",
    "BEGIN QUESTION\n",
    "name: q1d\n",
    "points: 3\n",
    "-->"
   ]
  },
  {
   "cell_type": "code",
   "execution_count": null,
   "id": "85c6a63e",
   "metadata": {},
   "outputs": [],
   "source": [
    "united = ...\n",
    "\n",
    "july_2020_mean = ...\n",
    "july_2019_mean = ...\n",
    "\n",
    "# Don't change any code below this line\n",
    "print(f\"Average Passenger Count (July 2019): {round(july_2019_mean, 2)}\")\n",
    "print(f\"Average Passenger Count (July 2020): {round(july_2020_mean, 2)}\")"
   ]
  },
  {
   "cell_type": "code",
   "execution_count": null,
   "id": "b799d1ad",
   "metadata": {
    "deletable": false,
    "editable": false
   },
   "outputs": [],
   "source": [
    "grader.check(\"q1d\")"
   ]
  },
  {
   "cell_type": "markdown",
   "id": "325debbf",
   "metadata": {
    "deletable": false,
    "editable": false
   },
   "source": [
    "<!-- BEGIN QUESTION -->\n",
    "\n",
    "---\n",
    "## Question 1e\n",
    "\n",
    "If you completed the previous question correctly, you'll notice that the two average values are **very different**. Explain the large difference in the average number of passengers between **July 2019** and **July 2020**. \n",
    "\n",
    "*Hint*: What major global event begun between these two months?\n",
    "<!--\n",
    "BEGIN QUESTION\n",
    "name: q1e\n",
    "points: 1\n",
    "manual: true\n",
    "-->"
   ]
  },
  {
   "cell_type": "markdown",
   "id": "88e132b3",
   "metadata": {},
   "source": [
    "_Type your answer here, replacing this text._"
   ]
  },
  {
   "cell_type": "markdown",
   "id": "d98b97a0",
   "metadata": {},
   "source": [
    "<!-- END QUESTION -->\n",
    "\n",
    "\n",
    "\n",
    "<hr style=\"border: 5px solid #003262;\" />\n",
    "<hr style=\"border: 1px solid #fdb515;\" />\n",
    "\n",
    "# Part 2: Visualization Fundamentals\n",
    "\n",
    "<br></br>\n",
    "<hr style=\"border: 1px solid #fdb515;\" />\n",
    "\n",
    "## Acknowledgements\n",
    "\n",
    "Many of the pictures and descriptions in this section of the homework are taken from [Dr. Allison Horst](https://twitter.com/allison_horst) and [Dr. Kristen Gorman](https://www.uaf.edu/cfos/people/faculty/detail/kristen-gorman.php). The data was collected as a part of the [Long Term Ecological Research Network](https://lternet.edu/). If you're curious about the origins of the data, see [here](https://allisonhorst.github.io/palmerpenguins/) for more details.\n",
    "\n",
    "<img src='images/lter_network.jpeg' width=300>\n",
    "    \n",
    "<br></br>\n",
    "<hr style=\"border: 1px solid #fdb515;\" />\n",
    "\n",
    "## The Data\n",
    "\n",
    "In this part of your assignment, we will explore a dataset containing size measurements for three penguin species observed on three islands in the Palmer Archipelago, Antarctica. The data was collected by Dr. Kristen Gorman, a marine biologist from 2007 to 2009.\n",
    "\n",
    "Here's a photo of Dr. Gorman in the wild collecting the data:\n",
    "\n",
    "<img src='images/gorman1.png' width=500>\n",
    "\n",
    "Run the cell below to load in our data."
   ]
  },
  {
   "cell_type": "code",
   "execution_count": null,
   "id": "c00fac7a",
   "metadata": {},
   "outputs": [],
   "source": [
    "# Run this cell!\n",
    "penguins = Table.read_table(\"data/penguins.csv\")\n",
    "penguins"
   ]
  },
  {
   "cell_type": "markdown",
   "id": "2aa7f55f",
   "metadata": {},
   "source": [
    "<hr style=\"border: 1px solid #fdb515;\" />\n",
    "\n",
    "## The Columns\n",
    "\n",
    "Let's make sure we understand what each of the columns in our data represents before proceeding.\n",
    "\n",
    "**`\"species\"`** There are three species of penguin in our dataset: Adelie, Chinstrap, and Gentoo.\n",
    "<img src='images/lter_penguins.png' width=500>\n",
    "\n",
    "**`\"island\"`** The penguins in our dataset come from three islands: Biscoe, Dream, and Torgersen. (The smaller image of Anvers Island may initially be confusing; the dark region is land and the light region is water.)\n",
    "\n",
    "<img src='images/island.png' width=500>\n",
    "\n",
    "<div align = center>\n",
    "    Image taken from <a href=https://journals.plos.org/plosone/article/figure?id=10.1371/journal.pone.0090081.g001>here</a>\n",
    "</div>\n",
    "\n",
    "**`\"bill_length_mm\"`** and **`\"bill_depth_mm\"`**: See the illustration below.\n",
    "\n",
    "<img src='images/culmen_depth.png' width=350>\n",
    "\n",
    "**`\"flipper_length_mm\"`**: [Flippers](https://www.thespruce.com/flipper-definition-penguin-wings-385251) are the equivalent of wings on penguins. \n",
    "\n",
    "**`\"body_mass_g\"`** The body mass of the penguin, in grams\n",
    "\n",
    "**`\"sex\"`**: The sex of the penguin"
   ]
  },
  {
   "cell_type": "markdown",
   "id": "49af91e5",
   "metadata": {},
   "source": [
    "<hr style=\"border: 1px solid #fdb515;\" />\n",
    "\n",
    "# Question 2 - Bar Charts"
   ]
  },
  {
   "cell_type": "markdown",
   "id": "dfec5ff6",
   "metadata": {
    "deletable": false,
    "editable": false
   },
   "source": [
    "<!-- BEGIN QUESTION -->\n",
    "\n",
    "---\n",
    "## Question 2a\n",
    "Let's start by visualizing the distribution of the islands from which the penguins in our dataset come. Your friend Sunya says that using a **histogram** is the best way to do this. However, Josh disagrees and says that using a **horizontal bar chart** is a better move. Who is right? Explain your answer.\n",
    "\n",
    "*Hint*: What kind of variable is contained within the `\"island\"` column?\n",
    "\n",
    "<!--\n",
    "BEGIN QUESTION\n",
    "name: q2a\n",
    "points: 2\n",
    "manual: true\n",
    "-->"
   ]
  },
  {
   "cell_type": "markdown",
   "id": "efcbb1f4",
   "metadata": {},
   "source": [
    "_Type your answer here, replacing this text._"
   ]
  },
  {
   "cell_type": "markdown",
   "id": "593bd0d5",
   "metadata": {},
   "source": [
    "<!-- END QUESTION -->\n",
    "\n",
    "\n",
    "\n",
    "---\n",
    "## Question 2b\n",
    "\n",
    "Based on your answer for the previous question, create an appropriate visualization to show the distribution of the islands from which the penguins come.\n",
    "\n",
    "Specifically, write a line of code in the following cell that produces a visualization with three bars, one for each island. The length of each bar should correspond to the number of penguins from each island.\n",
    "\n",
    "We've provided the `islands` table for you to use."
   ]
  },
  {
   "cell_type": "code",
   "execution_count": null,
   "id": "7c45a497",
   "metadata": {},
   "outputs": [],
   "source": [
    "islands = Table.read_table(\"data/islands.csv\")\n",
    "islands"
   ]
  },
  {
   "cell_type": "markdown",
   "id": "1a5ac1e7",
   "metadata": {
    "deletable": false,
    "editable": false
   },
   "source": [
    "<!-- BEGIN QUESTION -->\n",
    "\n",
    "<!--\n",
    "BEGIN QUESTION\n",
    "name: q2b\n",
    "points: 1\n",
    "manual: true\n",
    "-->"
   ]
  },
  {
   "cell_type": "code",
   "execution_count": null,
   "id": "4eefda48",
   "metadata": {},
   "outputs": [],
   "source": [
    "...\n",
    "\n",
    "# Do not change any code below this comment\n",
    "plt.xlabel(\"Number of Penguins\")\n",
    "plt.title(\"Number of Penguins on Each Island\");"
   ]
  },
  {
   "cell_type": "markdown",
   "id": "42f122dd",
   "metadata": {},
   "source": [
    "<!-- END QUESTION -->\n",
    "\n",
    "\n",
    "\n",
    "---\n",
    "## Question 2c\n",
    "\n",
    "Using the `species` table that we've provided for you, construct a new table called `species_new` containing the following columns: \n",
    "1. `\"species\"`: The species column from the original `species` table\n",
    "2. `\"bill_length_mm median\"`: The bill length median column from the original `species` table\n",
    "3. `\"bill_depth_mm_median\"`: The bill depth median column from the original `species` table\n",
    "4. `\"code\"`: A new column which contains the **first letter** of each species name\n",
    "\n",
    "\n",
    "*Hint*: You may find several functions from the [Python Reference](https://data6.org/su22/reference/) helpful"
   ]
  },
  {
   "cell_type": "code",
   "execution_count": null,
   "id": "cc7e8e99",
   "metadata": {},
   "outputs": [],
   "source": [
    "# Just run this cell to load in the table\n",
    "species = Table.read_table(\"data/species.csv\")\n",
    "species"
   ]
  },
  {
   "cell_type": "code",
   "execution_count": null,
   "id": "ae3dd04a",
   "metadata": {},
   "outputs": [],
   "source": [
    "species_new = ...\n",
    "species_new"
   ]
  },
  {
   "cell_type": "code",
   "execution_count": null,
   "id": "04d74c08",
   "metadata": {
    "deletable": false,
    "editable": false
   },
   "outputs": [],
   "source": [
    "grader.check(\"q2c\")"
   ]
  },
  {
   "cell_type": "markdown",
   "id": "1edbc53d",
   "metadata": {},
   "source": [
    "<hr style=\"border: 1px solid #fdb515;\" />\n",
    "\n",
    "# Question 3 - Histograms\n",
    "\n",
    "<img src='images/all3.png' width=400>\n",
    "\n",
    "<div align=center>\n",
    "Adelie, Chinstrap, and Gentoo penguins.\n",
    "</div>\n",
    "\n",
    "Great! Now that we've explored the distributions of some of the categorical variables in our dataset (species and island), it's time to study the distributions of some of the numerical variables. As covered in Lecture 9, we can visualize a numerical distribution by creating a histogram."
   ]
  },
  {
   "cell_type": "markdown",
   "id": "ac6d10db",
   "metadata": {},
   "source": [
    "---\n",
    "## Question 3a\n",
    "\n",
    "Before we produce any histograms using code, let's make sure we understand *how* to interpret the data plotted by a histogram. Run the following cell to create a histogram that shows the **distribution of penguin body mass (in grams)** for all the penguins in the `penguins` table."
   ]
  },
  {
   "cell_type": "code",
   "execution_count": null,
   "id": "7423460b",
   "metadata": {},
   "outputs": [],
   "source": [
    "penguins.hist(\"body_mass_g\", bins=np.arange(2000,7001, 500), density=False)"
   ]
  },
  {
   "cell_type": "markdown",
   "id": "6918d790",
   "metadata": {
    "deletable": false,
    "editable": false
   },
   "source": [
    "**Task**: Based on the information presented in the above histogram, assign `num_penguins` to the **number of penguins** that have a body mass **between 3000 grams (*inclusive*) and 3500 grams (*exclusive*)**.\n",
    "\n",
    "*Note*: Remember, in a histogram, each bin is inclusive of the left endpoint and exclusive of the right endpoint. What this means is that, for example, the bin between 2500 and 3000 grams above corresponds to body masses that are greater than or equal to 2500 grams and less than 3000 grams.\n",
    "\n",
    "<!--\n",
    "BEGIN QUESTION\n",
    "name: q3a\n",
    "points: 1\n",
    "-->"
   ]
  },
  {
   "cell_type": "code",
   "execution_count": null,
   "id": "9922b3c3",
   "metadata": {},
   "outputs": [],
   "source": [
    "num_penguins = ...\n",
    "num_penguins"
   ]
  },
  {
   "cell_type": "code",
   "execution_count": null,
   "id": "808af39d",
   "metadata": {
    "deletable": false,
    "editable": false
   },
   "outputs": [],
   "source": [
    "grader.check(\"q3a\")"
   ]
  },
  {
   "cell_type": "markdown",
   "id": "26374a2f",
   "metadata": {
    "deletable": false,
    "editable": false
   },
   "source": [
    "<!-- BEGIN QUESTION -->\n",
    "\n",
    "---\n",
    "## Question 3b\n",
    "\n",
    "Sandra takes a quick glance at the histogram from **Question 2a** and claims the following:\n",
    "> _\"I can tell you how many penguins have body masses between 5000 and 5200 grams, **only** using the histogram above.\"_\n",
    "\n",
    "Leanne disagrees with Sandra, stating:\n",
    "> _\"That's not true. You'd need more than just the histogram above to know that information.\"_\n",
    "\n",
    "Who is correct in this situation: Sandra or Leanne? Explain why the *other person is incorrect*, providing justifcation based on what you've learned about histograms.\n",
    "\n",
    "<!--\n",
    "BEGIN QUESTION\n",
    "name: q3b\n",
    "points: 2\n",
    "manual: true\n",
    "-->"
   ]
  },
  {
   "cell_type": "markdown",
   "id": "3edcb9b3",
   "metadata": {},
   "source": [
    "_Type your answer here, replacing this text._"
   ]
  },
  {
   "cell_type": "markdown",
   "id": "927e3d9a",
   "metadata": {},
   "source": [
    "<!-- END QUESTION -->\n",
    "\n",
    "\n",
    "\n",
    "---\n",
    "## Question 3c\n",
    "\n",
    "Now it's time to create some histograms! For convenience, we've provided the `penguins` table in the cell below. There are four columns containing numerical variables: `\"bill_length_mm\"`, `\"bill_depth_mm\"`, `\"flitter_length_mm\"`, and `\"body_mass_g\"`."
   ]
  },
  {
   "cell_type": "code",
   "execution_count": null,
   "id": "9b26c374",
   "metadata": {},
   "outputs": [],
   "source": [
    "penguins.show(5)"
   ]
  },
  {
   "cell_type": "markdown",
   "id": "85577535",
   "metadata": {
    "deletable": false,
    "editable": false
   },
   "source": [
    "<!-- BEGIN QUESTION -->\n",
    "\n",
    "**Task**: In the cell below, write code that produces a histogram that visualizes the distribution of our penguins' flipper lengths. We've provided the bins for you to use as the `my_bins` variable. More specifically, you'll want to re-create the following histogram exactly:\n",
    "\n",
    "<img src=\"images/examples/flipper_lengths.png\">\n",
    "\n",
    "<!--\n",
    "BEGIN QUESTION\n",
    "name: q3c\n",
    "points: 2\n",
    "manual: true\n",
    "-->"
   ]
  },
  {
   "cell_type": "code",
   "execution_count": null,
   "id": "d3261877",
   "metadata": {},
   "outputs": [],
   "source": [
    "my_bins = np.arange(170,240, 5)\n",
    "...\n",
    "\n",
    "# Do not change anything below this line\n",
    "plt.title(\"Distribution of Flipper Lengths (mm)\");"
   ]
  },
  {
   "cell_type": "markdown",
   "id": "c3419d3f",
   "metadata": {},
   "source": [
    "<!-- END QUESTION -->\n",
    "\n",
    "\n",
    "\n",
    "---\n",
    "## Question 3d\n",
    "\n",
    "When creating histograms, it's important to try several different bin sizes in order to make sure that we're satisfied with the level of detail (or lack thereof) in our histogram.\n",
    "\n",
    "Run the code cell below. It will present you with a histogram of the distribution of our penguins' body masses, along with a slider for bin widths. Use the slider to try several different bin widths and look at the resulting histograms."
   ]
  },
  {
   "cell_type": "code",
   "execution_count": null,
   "id": "66666cf1",
   "metadata": {},
   "outputs": [],
   "source": [
    "# Don't worry about the code, just play with the slider that appears after running.\n",
    "def draw_mass_histogram(bin_width):\n",
    "    penguins.hist('body_mass_g', bins = np.arange(2700, 6300+2*bin_width, bin_width), density = False)\n",
    "    \n",
    "interact(draw_mass_histogram, bin_width=IntSlider(min=25, max=2000, step=25, continuous_update=False));"
   ]
  },
  {
   "cell_type": "markdown",
   "id": "b45beb04",
   "metadata": {
    "deletable": false,
    "editable": false
   },
   "source": [
    "<!-- BEGIN QUESTION -->\n",
    "\n",
    "**Task**: In the cell below, compare the two histograms that result from setting the bin width to **100** and **750.** What are the pros and cons of each size? (Remember that these histograms are displaying the same data, just with different bin sizes.)\n",
    "\n",
    "<!--\n",
    "BEGIN QUESTION\n",
    "name: q3d\n",
    "points: 2\n",
    "manual: true\n",
    "-->"
   ]
  },
  {
   "cell_type": "markdown",
   "id": "849c0fc2",
   "metadata": {},
   "source": [
    "_Type your answer here, replacing this text._"
   ]
  },
  {
   "cell_type": "markdown",
   "id": "0938a1e0",
   "metadata": {
    "deletable": false,
    "editable": false
   },
   "source": [
    "<!-- END QUESTION -->\n",
    "\n",
    "<!-- BEGIN QUESTION -->\n",
    "\n",
    "---\n",
    "## Question 3e\n",
    "\n",
    "In the previous question, you plotted the distribution of penguins' body mass measurements for the **entire dataset**. While doing so is important to visualize our data as a whole, we can uncover underlying patterns within our data by grouping. This process is known as **disaggregation**: separating aggregated data into its component parts; we saw this process in Lab 2 with the BRFSS data set.\n",
    "\n",
    "**Task**: Using the `penguins` table and the `hist` table method and its various optional arguments, re-create the following set of histograms:\n",
    "\n",
    "<img src=\"images/examples/mass_disaggregated.png\" width=250>\n",
    "\n",
    "*Note*: Use the `my_bins` variable we've defined as the optional `bins` arugment of the `hist` method.\n",
    "\n",
    "<!--\n",
    "BEGIN QUESTION\n",
    "name: q3e\n",
    "points: 3\n",
    "manual: true\n",
    "-->"
   ]
  },
  {
   "cell_type": "code",
   "execution_count": null,
   "id": "b6c30756",
   "metadata": {},
   "outputs": [],
   "source": [
    "my_bins = np.arange(2500, 6500, 500)\n",
    "..."
   ]
  },
  {
   "cell_type": "markdown",
   "id": "dad943a1",
   "metadata": {},
   "source": [
    "<!-- END QUESTION -->\n",
    "\n",
    "\n",
    "\n",
    "<hr style=\"border: 1px solid #fdb515;\" />\n",
    "\n",
    "# Question 4 – Scatter Plots\n",
    "\n",
    "<img src='images/biscoe.png' width=400>\n",
    "\n",
    "<div align=center>\n",
    "A Gentoo penguin colony at Biscoe Point.\n",
    "</div>"
   ]
  },
  {
   "cell_type": "markdown",
   "id": "b30e7f39",
   "metadata": {
    "deletable": false,
    "editable": false
   },
   "source": [
    "<!-- BEGIN QUESTION -->\n",
    "\n",
    "---\n",
    "## Question 4a\n",
    "\n",
    "Use the following cell to produce a scatter plot that plots `\"bill_length_mm\"` on the x-axis and `\"bill_depth_mm\"` on the y-axis. Additionally, the scatter plot should plot **each penguin species** as its own, unique color. Your plot should look like this:\n",
    "\n",
    "<img src=\"images/examples/bill_length_vs_depth.png\">\n",
    "\n",
    "*Hint*: You may find the optional arguments of the `scatter` method helpful. See the [Data 6 Python Reference](https://data6.org/su22/reference/) for more details. \n",
    "\n",
    "<!--\n",
    "BEGIN QUESTION\n",
    "name: q4a\n",
    "points: 2\n",
    "manual: true\n",
    "-->"
   ]
  },
  {
   "cell_type": "code",
   "execution_count": null,
   "id": "193aecfa",
   "metadata": {},
   "outputs": [],
   "source": [
    "..."
   ]
  },
  {
   "cell_type": "markdown",
   "id": "a99c0268",
   "metadata": {
    "deletable": false,
    "editable": false
   },
   "source": [
    "<!-- END QUESTION -->\n",
    "\n",
    "---\n",
    "## Question 4b\n",
    "\n",
    "Even if you weren't able to re-create the visualization in **Question 4a**, here's a breakdown of the plot:\n",
    "- Position on the x-axis represents bill length.\n",
    "- Position on the y-axis represents bill depth.\n",
    "- Color represents species, as per the legend on the right.\n",
    "\n",
    "You'll note that there are three general \"clusters\" or \"groups\" of points, corresponding to the three penguin species. Use the scatter plot to fill in the blanks below. Both blanks should be a species of penguin.\n",
    "\n",
    ">_\"It appears that the distribution of bill lengths of Chinstrap penguins is very similar to the distribution of bill lengths of_ **[Answer for Question 4bi]** _penguins, while the distribution of bill depths of Chinstrap penguins is very similar to the distribution of bill depths of_ **[Answer for Question 4bii]** _penguins.\"_\n",
    "\n",
    "### Question 4bi\n",
    "<!--\n",
    "BEGIN QUESTION\n",
    "name: q4bi\n",
    "points: 1\n",
    "-->"
   ]
  },
  {
   "cell_type": "code",
   "execution_count": null,
   "id": "b6c99b20",
   "metadata": {},
   "outputs": [],
   "source": [
    "q4bi_answer = ...\n",
    "q4bi_answer"
   ]
  },
  {
   "cell_type": "code",
   "execution_count": null,
   "id": "1abecfb3",
   "metadata": {
    "deletable": false,
    "editable": false
   },
   "outputs": [],
   "source": [
    "grader.check(\"q4bi\")"
   ]
  },
  {
   "cell_type": "markdown",
   "id": "3c92213b",
   "metadata": {
    "deletable": false,
    "editable": false
   },
   "source": [
    "### Question 4bii\n",
    "\n",
    "<!--\n",
    "BEGIN QUESTION\n",
    "name: q3bii\n",
    "points: 1\n",
    "-->"
   ]
  },
  {
   "cell_type": "code",
   "execution_count": null,
   "id": "79f7438d",
   "metadata": {},
   "outputs": [],
   "source": [
    "q4bii_answer = ...\n",
    "q4bii_answer"
   ]
  },
  {
   "cell_type": "code",
   "execution_count": null,
   "id": "3dc4d8c0",
   "metadata": {
    "deletable": false,
    "editable": false
   },
   "outputs": [],
   "source": [
    "grader.check(\"q3bii\")"
   ]
  },
  {
   "cell_type": "markdown",
   "id": "40233527",
   "metadata": {
    "deletable": false,
    "editable": false
   },
   "source": [
    "<!-- BEGIN QUESTION -->\n",
    "\n",
    "---\n",
    "## Question 4c\n",
    "\n",
    "While the visualization in **Question 4a** is helpful is distinguishing between species, we lose important information -- one such feature we lose is the **sex** of the penguin. To visually compare the male and female penguins, we must do some additional digging.\n",
    "\n",
    "**Task**: In the cell below, plot a scatter plot for **only the Gentoo penguins** with `\"bill_length_mm\"` on the x-axis and `\"bill_depth_mm\"` on the y-axis, color coded by the value in the `\"sex\"` column. \n",
    "\n",
    "*Hint*: You may want to create a new table which only includes rows from the `penguins` table that correspond to Gentoo penguins. \n",
    "\n",
    "<!--\n",
    "BEGIN QUESTION\n",
    "name: q4c\n",
    "points: 2\n",
    "manual: true\n",
    "-->"
   ]
  },
  {
   "cell_type": "code",
   "execution_count": null,
   "id": "69efe534",
   "metadata": {},
   "outputs": [],
   "source": [
    "gentoo = ...\n",
    "..."
   ]
  },
  {
   "cell_type": "markdown",
   "id": "640a4612",
   "metadata": {},
   "source": [
    "<!-- END QUESTION -->\n",
    "\n",
    "\n",
    "\n",
    "If you've created the plot above correctly, you'll notice that male Gentoo penguins tend to have *both* longer and deeper bills."
   ]
  },
  {
   "cell_type": "markdown",
   "id": "bfae8835",
   "metadata": {},
   "source": [
    "---\n",
    "## The Power of Visualizations\n",
    "\n",
    "Look back to the scatter plot you created in **Question 4a**; we used the `\"bill_length_mm\"` and `\"bill_depth_mm\"` to produce a visualization that allows us to group the different penguin species together. This is a basic form of **clustering**, an extremely powerful tool in data science. We won't get into clustering in this class (or even Data 8), but you may come across it in upper division classes.\n",
    "\n",
    "Just for fun, run the following cell to produce a *three dimensional scatter plot* using the `\"bill_length_mm\"`, `\"bill_depth_mm\"`, and `\"flipper_length_mm\"` columns."
   ]
  },
  {
   "cell_type": "code",
   "execution_count": null,
   "id": "fde447f2",
   "metadata": {},
   "outputs": [],
   "source": [
    "# Just run this cell and play around with the visualization! You can zoom in and out, toggle on/off certain\n",
    "# species, and move the plot around\n",
    "Table.interactive_plots()\n",
    "penguins.scatter3d(\"bill_length_mm\", \"bill_depth_mm\", \"flipper_length_mm\", group=\"species\")\n",
    "Table.static_plots()"
   ]
  },
  {
   "cell_type": "markdown",
   "id": "ad014a6f",
   "metadata": {},
   "source": [
    "# Done!\n",
    "\n",
    "Congrats! You've finished your second Data 6 homework assignment!\n",
    "\n",
    "To submit your work, follow the steps outlined on Ed. **Remember that for this homework in particular, many problems will be graded manually, rather than by the autograder.**\n",
    "\n",
    "The point breakdown for this assignment is given in the table below:\n",
    "\n",
    "| **Category** | Points |\n",
    "| --- | --- |\n",
    "| Autograder | 14 |\n",
    "| Written (Including Visualizations) | 17 |\n",
    "| **Total** | 31 |"
   ]
  },
  {
   "cell_type": "markdown",
   "id": "07b4baeb",
   "metadata": {
    "deletable": false,
    "editable": false
   },
   "source": [
    "---\n",
    "\n",
    "To double-check your work, the cell below will rerun all of the autograder tests."
   ]
  },
  {
   "cell_type": "code",
   "execution_count": null,
   "id": "4ac47ff3",
   "metadata": {
    "deletable": false,
    "editable": false
   },
   "outputs": [],
   "source": [
    "grader.check_all()"
   ]
  },
  {
   "cell_type": "markdown",
   "id": "95c6efed",
   "metadata": {
    "deletable": false,
    "editable": false
   },
   "source": [
    "## Submission\n",
    "\n",
    "Make sure you have run all cells in your notebook in order before running the cell below, so that all images/graphs appear in the output. The cell below will generate a zip file for you to submit. **Please save before exporting!**"
   ]
  },
  {
   "cell_type": "code",
   "execution_count": null,
   "id": "3a775282",
   "metadata": {
    "deletable": false,
    "editable": false
   },
   "outputs": [],
   "source": [
    "# Save your notebook first, then run this cell to export your submission.\n",
    "grader.export()"
   ]
  },
  {
   "cell_type": "markdown",
   "id": "8866d3a5",
   "metadata": {},
   "source": [
    " "
   ]
  }
 ],
 "metadata": {
  "kernelspec": {
   "display_name": "Python 3 (ipykernel)",
   "language": "python",
   "name": "python3"
  },
  "language_info": {
   "codemirror_mode": {
    "name": "ipython",
    "version": 3
   },
   "file_extension": ".py",
   "mimetype": "text/x-python",
   "name": "python",
   "nbconvert_exporter": "python",
   "pygments_lexer": "ipython3",
   "version": "3.9.11"
  }
 },
 "nbformat": 4,
 "nbformat_minor": 5
}
